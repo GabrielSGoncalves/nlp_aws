{
 "cells": [
  {
   "cell_type": "markdown",
   "metadata": {},
   "source": [
    "### Utilizando boto3 para processamento de Linguagem Natural \n",
    "Neste tutorial iremos utilizar ferramentas de processamento de audio e texto e Linguagem Natural para analisar dados provenientes de vídeos do Youtube. <br>\n",
    "Os arquivos serão baixados utilizando uma ferramenta de linha de comando chamada [Youtube-DL](https://github.com/ytdl-org/youtube-dl/blob/master/README.md#readme), e iremos utilizar os serviços de NLP oferecidos pela AWS, accessados pela biblioteca [boto3](https://boto3.amazonaws.com/v1/documentation/api/latest/index.html)."
   ]
  },
  {
   "cell_type": "code",
   "execution_count": 10,
   "metadata": {},
   "outputs": [],
   "source": [
    "# Bibliotecas que serão utilizadas ao longo do tutorial\n",
    "from __future__ import print_function\n",
    "import boto3\n",
    "import os\n",
    "import time\n",
    "import pandas as pd\n",
    "import matplotlib as plt\n",
    "import logging\n",
    "from botocore.exceptions import ClientError\n",
    "from datetime import date\n",
    "import json\n",
    "\n",
    "%matplotlib inline"
   ]
  },
  {
   "cell_type": "markdown",
   "metadata": {},
   "source": [
    "#### 1) Baixando arquivos de vídeo do Youtube\n",
    "O primeiro passo em nosso tutorial é baixar os arquivos de áudio a partir de links de videos específicos selecionados. Para isso usaremos a ferramenta Youtube-DL que pode ser instalada através do ```pip```.\n",
    "\n",
    "```sudo pip install youtube-dl```<br>\n",
    "ou<br>\n",
    "```conda install -c conda-forge youtube-dl```\n",
    "\n",
    "\n",
    "Para baixar um vídeo qualquer: \n",
    "\n",
    "```youtube-dl <video_url>```\n",
    "\n",
    "Como iremos trabalhar apenas com áudio, podemos usar o parâmetro ```-x``` e ```--audio-format \"mp3\"``` para baixar somente a parte de áudio do vídeo do Youtube. \n",
    "\n",
    "```youtube-dl -x --audio-format \"mp3\" <video_url>```\n",
    "\n",
    "#### Lista de Vídeos de selecionados\n",
    "Serão analisados 5 discursos gravados em vídeo e disponibilizados publicamente no Youtube. Segue a descrição de cada um deles:\n",
    "\n",
    "A) [\"We shall never surrender\" de Winston Churchill](https://www.youtube.com/watch?v=s_LncVnecLA)<br>\n",
    "Esse discurso histórico foi proferido pelo Primeiro Ministro Britânico Winston Churchill no dia 4 junho de 1940. Nele, o estadista aborda a situação crítica no qual se encontrava os aliados frente a invasão nazista na França e da batalha de Dunkirk. \n",
    "\n",
    "B) [\"Tear down this wall\", Ronald Reagan](https://www.youtube.com/watch?v=5MDFX-dNtsM&t=6s)<br>\n",
    "No dia 12 de junho de 1987, Ronald Reagan, o presidente americano em exercício na época faz um discurso ao portão de Brandeburgo na Alemanha na presença do líder soviético Mikhail Gorbachev, fazendo um apelo em prol da liberdade dos Europeus vivendo sobre a repressão da União Soviética, e pede ao fim que o muro que dividia país fosse colocado abaixo.\n",
    "\n",
    "C) [\"I have a dream\", Martin Luther King](https://www.youtube.com/watch?v=vP4iY1TtS3s&t=42s)<br>\n",
    "Discurso do pastor Martin Luther King em 28 de agosto de 1963 durante a Marcha de Washington é considerado um dos mais importantes da história americana. Nele, Martin Luther King fala sobre a necessidade de se combater o racismo presente nos EUA na época e conclama uma coexistência harmoniosa em brancos e negros no futuro.\n",
    "\n",
    "D) [\"It's harder to be kind than clever\", Jeff Bezos](https://www.youtube.com/watch?v=uvzkujQFlxQ)<br>\n",
    "Discurso do CEO da Amazon na formatura da Universidade de Princeton em 2010 fala sobre experiências pessoais na construção de seu caráter e decisões importantes na carreira. No momento alto do discurso Bezos diz que é mais difícil ser bom do que ser inteligente, mostrando um lado afetuoso de um dos grandes líderes de empresa da história.\n",
    "\n",
    "E) [\"Make good Art\", Neil Gaiman](https://www.youtube.com/watch?v=plWexCID-kA)<br>\n",
    "Neil Gaiman coloca toda sua genialidade literária em um discurso desafiador na formatura da universidade de Artes da Filadélfia em 2012 e desafia os formandos a \"fazerem boa arte\" com coragem e paixão."
   ]
  },
  {
   "cell_type": "code",
   "execution_count": 14,
   "metadata": {},
   "outputs": [],
   "source": [
    "dict_urls_youtube = {\n",
    "    'churchill': 'https://www.youtube.com/watch?v=s_LncVnecLA',\n",
    "    'reagan': 'https://www.youtube.com/watch?v=5MDFX-dNtsM&t=6s',\n",
    "    'luther_king': 'https://www.youtube.com/watch?v=vP4iY1TtS3s&t=42s',\n",
    "    'bezos': 'https://www.youtube.com/watch?v=uvzkujQFlxQ',\n",
    "    'gaiman': 'https://www.youtube.com/watch?v=plWexCID-kA'}"
   ]
  },
  {
   "cell_type": "code",
   "execution_count": 12,
   "metadata": {},
   "outputs": [
    {
     "name": "stdout",
     "output_type": "stream",
     "text": [
      "Baixando arquivo de áudio do link: https://www.youtube.com/watch?v=s_LncVnecLA\n",
      "Baixando arquivo de áudio do link: https://www.youtube.com/watch?v=5MDFX-dNtsM&t=6s\n",
      "Baixando arquivo de áudio do link: https://www.youtube.com/watch?v=vP4iY1TtS3s&t=42s\n",
      "Baixando arquivo de áudio do link: https://www.youtube.com/watch?v=uvzkujQFlxQ\n",
      "Baixando arquivo de áudio do link: https://www.youtube.com/watch?v=plWexCID-kA\n"
     ]
    }
   ],
   "source": [
    "for url in list(dict_urls_youtube.values()):\n",
    "    print(f'Baixando arquivo de áudio do link: {url}')\n",
    "    os.system(f'youtube-dl -x --audio-format \"mp3\" {url}')"
   ]
  },
  {
   "cell_type": "code",
   "execution_count": 15,
   "metadata": {},
   "outputs": [
    {
     "data": {
      "text/html": [
       "<div>\n",
       "<style scoped>\n",
       "    .dataframe tbody tr th:only-of-type {\n",
       "        vertical-align: middle;\n",
       "    }\n",
       "\n",
       "    .dataframe tbody tr th {\n",
       "        vertical-align: top;\n",
       "    }\n",
       "\n",
       "    .dataframe thead th {\n",
       "        text-align: right;\n",
       "    }\n",
       "</style>\n",
       "<table border=\"1\" class=\"dataframe\">\n",
       "  <thead>\n",
       "    <tr style=\"text-align: right;\">\n",
       "      <th></th>\n",
       "      <th>youtube_urls</th>\n",
       "    </tr>\n",
       "  </thead>\n",
       "  <tbody>\n",
       "    <tr>\n",
       "      <th>churchill</th>\n",
       "      <td>https://www.youtube.com/watch?v=s_LncVnecLA</td>\n",
       "    </tr>\n",
       "    <tr>\n",
       "      <th>reagan</th>\n",
       "      <td>https://www.youtube.com/watch?v=5MDFX-dNtsM&amp;t=6s</td>\n",
       "    </tr>\n",
       "    <tr>\n",
       "      <th>luther_king</th>\n",
       "      <td>https://www.youtube.com/watch?v=vP4iY1TtS3s&amp;t=42s</td>\n",
       "    </tr>\n",
       "    <tr>\n",
       "      <th>bezos</th>\n",
       "      <td>https://www.youtube.com/watch?v=uvzkujQFlxQ</td>\n",
       "    </tr>\n",
       "    <tr>\n",
       "      <th>gaiman</th>\n",
       "      <td>https://www.youtube.com/watch?v=plWexCID-kA</td>\n",
       "    </tr>\n",
       "  </tbody>\n",
       "</table>\n",
       "</div>"
      ],
      "text/plain": [
       "                                                  youtube_urls\n",
       "churchill          https://www.youtube.com/watch?v=s_LncVnecLA\n",
       "reagan        https://www.youtube.com/watch?v=5MDFX-dNtsM&t=6s\n",
       "luther_king  https://www.youtube.com/watch?v=vP4iY1TtS3s&t=42s\n",
       "bezos              https://www.youtube.com/watch?v=uvzkujQFlxQ\n",
       "gaiman             https://www.youtube.com/watch?v=plWexCID-kA"
      ]
     },
     "execution_count": 15,
     "metadata": {},
     "output_type": "execute_result"
    }
   ],
   "source": [
    "# Criar um Dataframe para guardar as informações geradas ao longo da análise\n",
    "df_audio = pd.DataFrame.from_dict(dict_urls_youtube, orient='index', columns=['youtube_urls'])\n",
    "df_audio"
   ]
  },
  {
   "cell_type": "code",
   "execution_count": 16,
   "metadata": {},
   "outputs": [],
   "source": [
    "# Atribuindo nome do arquivo baixado a cada autor do discurso\n",
    "for audio_file in os.listdir('.'):\n",
    "    if 'churchill' in audio_file.lower():\n",
    "        df_audio.at['churchill','filename'] = audio_file\n",
    "    elif 'reagan' in audio_file.lower():\n",
    "        df_audio.at['reagan', 'filename'] = audio_file\n",
    "    elif 'king' in audio_file.lower():\n",
    "        df_audio.at['luther_king', 'filename'] = audio_file\n",
    "    elif 'bezos' in audio_file.lower():\n",
    "        df_audio.at['bezos', 'filename'] = audio_file\n",
    "    elif 'gaiman' in audio_file.lower():\n",
    "        df_audio.at['gaiman', 'filename'] = audio_file"
   ]
  },
  {
   "cell_type": "code",
   "execution_count": 17,
   "metadata": {},
   "outputs": [
    {
     "data": {
      "text/html": [
       "<div>\n",
       "<style scoped>\n",
       "    .dataframe tbody tr th:only-of-type {\n",
       "        vertical-align: middle;\n",
       "    }\n",
       "\n",
       "    .dataframe tbody tr th {\n",
       "        vertical-align: top;\n",
       "    }\n",
       "\n",
       "    .dataframe thead th {\n",
       "        text-align: right;\n",
       "    }\n",
       "</style>\n",
       "<table border=\"1\" class=\"dataframe\">\n",
       "  <thead>\n",
       "    <tr style=\"text-align: right;\">\n",
       "      <th></th>\n",
       "      <th>youtube_urls</th>\n",
       "      <th>filename</th>\n",
       "    </tr>\n",
       "  </thead>\n",
       "  <tbody>\n",
       "    <tr>\n",
       "      <th>churchill</th>\n",
       "      <td>https://www.youtube.com/watch?v=s_LncVnecLA</td>\n",
       "      <td>WE SHALL NEVER SURRENDER speech by Winston Chu...</td>\n",
       "    </tr>\n",
       "    <tr>\n",
       "      <th>reagan</th>\n",
       "      <td>https://www.youtube.com/watch?v=5MDFX-dNtsM&amp;t=6s</td>\n",
       "      <td>'Berlin Wall' Speech - President Reagan's Addr...</td>\n",
       "    </tr>\n",
       "    <tr>\n",
       "      <th>luther_king</th>\n",
       "      <td>https://www.youtube.com/watch?v=vP4iY1TtS3s&amp;t=42s</td>\n",
       "      <td>I Have a Dream speech by Martin Luther King .J...</td>\n",
       "    </tr>\n",
       "    <tr>\n",
       "      <th>bezos</th>\n",
       "      <td>https://www.youtube.com/watch?v=uvzkujQFlxQ</td>\n",
       "      <td>Amazon founder Jeff Bezos delivers speech at P...</td>\n",
       "    </tr>\n",
       "    <tr>\n",
       "      <th>gaiman</th>\n",
       "      <td>https://www.youtube.com/watch?v=plWexCID-kA</td>\n",
       "      <td>Neil Gaiman 2012 Commencement Speech 'Make Goo...</td>\n",
       "    </tr>\n",
       "  </tbody>\n",
       "</table>\n",
       "</div>"
      ],
      "text/plain": [
       "                                                  youtube_urls  \\\n",
       "churchill          https://www.youtube.com/watch?v=s_LncVnecLA   \n",
       "reagan        https://www.youtube.com/watch?v=5MDFX-dNtsM&t=6s   \n",
       "luther_king  https://www.youtube.com/watch?v=vP4iY1TtS3s&t=42s   \n",
       "bezos              https://www.youtube.com/watch?v=uvzkujQFlxQ   \n",
       "gaiman             https://www.youtube.com/watch?v=plWexCID-kA   \n",
       "\n",
       "                                                      filename  \n",
       "churchill    WE SHALL NEVER SURRENDER speech by Winston Chu...  \n",
       "reagan       'Berlin Wall' Speech - President Reagan's Addr...  \n",
       "luther_king  I Have a Dream speech by Martin Luther King .J...  \n",
       "bezos        Amazon founder Jeff Bezos delivers speech at P...  \n",
       "gaiman       Neil Gaiman 2012 Commencement Speech 'Make Goo...  "
      ]
     },
     "execution_count": 17,
     "metadata": {},
     "output_type": "execute_result"
    }
   ],
   "source": [
    "df_audio"
   ]
  },
  {
   "cell_type": "markdown",
   "metadata": {},
   "source": [
    "### Configurando o AWS CLI pelo terminal\n",
    "Para trabalhar com o boto3, você deve instalar o ```awscli```\n",
    "```\n",
    "$ pip install awscli --upgrade --user\n",
    "```\n",
    "\n",
    "E em seguida configurá-lo com as suas credenciais da AWS\n",
    "\n",
    "```\n",
    "aws configure\n",
    "```\n",
    "\n",
    "E definir os seguintes valores:\n",
    "\n",
    "```\n",
    "AWS Access Key ID [****************DNYA]: \n",
    "AWS Secret Access Key [****************oEG/]: \n",
    "Default region name [us-east-1]: \n",
    "Default output format [json]:\n",
    "```\n",
    "\n",
    "Também podemos configurar as permissões de usuário a AWS usando o *boto3*:\n",
    "\n",
    "```python\n",
    "import boto3\n",
    " \n",
    "aws_access_key_id = '<AWS_ACCESS_KEY_ID>'\n",
    "aws_secret_access_key = '<AWS_SECRET_ACCESS_KEY>'\n",
    "region_name = 'us-east-1'\n",
    " \n",
    "session = boto3.session.Session(aws_access_key_id=aws_access_key_id,\n",
    "                                aws_secret_access_key=aws_secret_access_key,\n",
    "                                region_name=region_name)\n",
    "```"
   ]
  },
  {
   "cell_type": "code",
   "execution_count": 18,
   "metadata": {},
   "outputs": [
    {
     "name": "stdout",
     "output_type": "stream",
     "text": [
      "aws-deepracer-35d06d75-1bdf-410f-8544-4675a95e89e2\n",
      "aws-sam-cli-gsg\n",
      "dnanexus-backup-gsg\n",
      "elasticbeanstalk-us-east-1-089951219780\n",
      "grupy-nlp-aws\n",
      "little-thomas-assets\n",
      "medium-lambda-tutorial-bucket\n",
      "regis-media\n",
      "stackery-assetsbucket-p8b8xq12o1re\n",
      "udacity-secure-and-pivate-ai-project\n",
      "vision-pmp\n"
     ]
    }
   ],
   "source": [
    "# Subindo os arquivos para o S3\n",
    "# Criar um cliente S3\n",
    "s3 = boto3.client('s3')\n",
    "\n",
    "# Buscar lista de buckets no S3\n",
    "response = s3.list_buckets()\n",
    "\n",
    "# Organizar a resposta em uma lista\n",
    "buckets = [bucket['Name'] for bucket in response['Buckets']]\n",
    "\n",
    "for bucket in buckets:\n",
    "    print(bucket)\n",
    "#print(\"Bucket List: %s\" % buckets)"
   ]
  },
  {
   "cell_type": "code",
   "execution_count": 19,
   "metadata": {},
   "outputs": [],
   "source": [
    "# Criando um novo bucket para subir os arquivos\n",
    "bucket_name = 'grupy-nlp-aws'\n",
    "try:\n",
    "    client_s3 = boto3.client('s3')\n",
    "    client_s3.create_bucket(Bucket=bucket_name)\n",
    "except:\n",
    "    print('Bucket com o mesmo nome já criado.')"
   ]
  },
  {
   "cell_type": "code",
   "execution_count": 21,
   "metadata": {
    "scrolled": true
   },
   "outputs": [
    {
     "name": "stdout",
     "output_type": "stream",
     "text": [
      "WE SHALL NEVER SURRENDER speech by Winston Churchill (We Shall Fight on the Beaches)-s_LncVnecLA.mp3\n",
      "'Berlin Wall' Speech - President Reagan's Address at the Brandenburg Gate - 6_12_87-5MDFX-dNtsM.mp3\n",
      "I Have a Dream speech by Martin Luther King .Jr HD (subtitled) (Remastered)-vP4iY1TtS3s.mp3\n",
      "Amazon founder Jeff Bezos delivers speech at Princeton University - Engsub-uvzkujQFlxQ.mp3\n",
      "Neil Gaiman 2012 Commencement Speech 'Make Good Art'-plWexCID-kA.mp3\n"
     ]
    }
   ],
   "source": [
    "# Subindo os arquivos de audio para o bucket s3 criado\n",
    "for audio_file in df_audio.filename.values:\n",
    "    print(audio_file)\n",
    "    client_s3.upload_file(audio_file, bucket_name,  audio_file)"
   ]
  },
  {
   "cell_type": "code",
   "execution_count": 22,
   "metadata": {},
   "outputs": [
    {
     "data": {
      "text/html": [
       "<div>\n",
       "<style scoped>\n",
       "    .dataframe tbody tr th:only-of-type {\n",
       "        vertical-align: middle;\n",
       "    }\n",
       "\n",
       "    .dataframe tbody tr th {\n",
       "        vertical-align: top;\n",
       "    }\n",
       "\n",
       "    .dataframe thead th {\n",
       "        text-align: right;\n",
       "    }\n",
       "</style>\n",
       "<table border=\"1\" class=\"dataframe\">\n",
       "  <thead>\n",
       "    <tr style=\"text-align: right;\">\n",
       "      <th></th>\n",
       "      <th>youtube_urls</th>\n",
       "      <th>filename</th>\n",
       "    </tr>\n",
       "  </thead>\n",
       "  <tbody>\n",
       "    <tr>\n",
       "      <th>churchill</th>\n",
       "      <td>https://www.youtube.com/watch?v=s_LncVnecLA</td>\n",
       "      <td>WE SHALL NEVER SURRENDER speech by Winston Chu...</td>\n",
       "    </tr>\n",
       "    <tr>\n",
       "      <th>reagan</th>\n",
       "      <td>https://www.youtube.com/watch?v=5MDFX-dNtsM&amp;t=6s</td>\n",
       "      <td>'Berlin Wall' Speech - President Reagan's Addr...</td>\n",
       "    </tr>\n",
       "    <tr>\n",
       "      <th>luther_king</th>\n",
       "      <td>https://www.youtube.com/watch?v=vP4iY1TtS3s&amp;t=42s</td>\n",
       "      <td>I Have a Dream speech by Martin Luther King .J...</td>\n",
       "    </tr>\n",
       "    <tr>\n",
       "      <th>bezos</th>\n",
       "      <td>https://www.youtube.com/watch?v=uvzkujQFlxQ</td>\n",
       "      <td>Amazon founder Jeff Bezos delivers speech at P...</td>\n",
       "    </tr>\n",
       "    <tr>\n",
       "      <th>gaiman</th>\n",
       "      <td>https://www.youtube.com/watch?v=plWexCID-kA</td>\n",
       "      <td>Neil Gaiman 2012 Commencement Speech 'Make Goo...</td>\n",
       "    </tr>\n",
       "  </tbody>\n",
       "</table>\n",
       "</div>"
      ],
      "text/plain": [
       "                                                  youtube_urls  \\\n",
       "churchill          https://www.youtube.com/watch?v=s_LncVnecLA   \n",
       "reagan        https://www.youtube.com/watch?v=5MDFX-dNtsM&t=6s   \n",
       "luther_king  https://www.youtube.com/watch?v=vP4iY1TtS3s&t=42s   \n",
       "bezos              https://www.youtube.com/watch?v=uvzkujQFlxQ   \n",
       "gaiman             https://www.youtube.com/watch?v=plWexCID-kA   \n",
       "\n",
       "                                                      filename  \n",
       "churchill    WE SHALL NEVER SURRENDER speech by Winston Chu...  \n",
       "reagan       'Berlin Wall' Speech - President Reagan's Addr...  \n",
       "luther_king  I Have a Dream speech by Martin Luther King .J...  \n",
       "bezos        Amazon founder Jeff Bezos delivers speech at P...  \n",
       "gaiman       Neil Gaiman 2012 Commencement Speech 'Make Goo...  "
      ]
     },
     "execution_count": 22,
     "metadata": {},
     "output_type": "execute_result"
    }
   ],
   "source": [
    "df_audio"
   ]
  },
  {
   "cell_type": "code",
   "execution_count": 23,
   "metadata": {
    "scrolled": true
   },
   "outputs": [
    {
     "name": "stdout",
     "output_type": "stream",
     "text": [
      "https://grupy-nlp-aws.s3.amazonaws.com/WE+SHALL+NEVER+SURRENDER+speech+by+Winston+Churchill+(We+Shall+Fight+on+the+Beaches)-s_LncVnecLA.mp3\n",
      "https://grupy-nlp-aws.s3.amazonaws.com/'Berlin+Wall'+Speech+-+President+Reagan's+Address+at+the+Brandenburg+Gate+-+6_12_87-5MDFX-dNtsM.mp3\n",
      "https://grupy-nlp-aws.s3.amazonaws.com/I+Have+a+Dream+speech+by+Martin+Luther+King+.Jr+HD+(subtitled)+(Remastered)-vP4iY1TtS3s.mp3\n",
      "https://grupy-nlp-aws.s3.amazonaws.com/Amazon+founder+Jeff+Bezos+delivers+speech+at+Princeton+University+-+Engsub-uvzkujQFlxQ.mp3\n",
      "https://grupy-nlp-aws.s3.amazonaws.com/Neil+Gaiman+2012+Commencement+Speech+'Make+Good+Art'-plWexCID-kA.mp3\n"
     ]
    }
   ],
   "source": [
    "# Definir as URLs dos arquivos no S3 em uma nova coluna no Dataframe\n",
    "for index, row in df_audio.iterrows():\n",
    "    bucket_location = boto3.client('s3').get_bucket_location(Bucket=bucket_name)\n",
    "    object_url = f\"https://{bucket_name}.s3.amazonaws.com/{row['filename'].replace(' ', '+')}\"\n",
    "    df_audio.at[index, 'url'] = object_url\n",
    "    print(object_url)"
   ]
  },
  {
   "cell_type": "code",
   "execution_count": 24,
   "metadata": {},
   "outputs": [
    {
     "data": {
      "text/html": [
       "<div>\n",
       "<style scoped>\n",
       "    .dataframe tbody tr th:only-of-type {\n",
       "        vertical-align: middle;\n",
       "    }\n",
       "\n",
       "    .dataframe tbody tr th {\n",
       "        vertical-align: top;\n",
       "    }\n",
       "\n",
       "    .dataframe thead th {\n",
       "        text-align: right;\n",
       "    }\n",
       "</style>\n",
       "<table border=\"1\" class=\"dataframe\">\n",
       "  <thead>\n",
       "    <tr style=\"text-align: right;\">\n",
       "      <th></th>\n",
       "      <th>youtube_urls</th>\n",
       "      <th>filename</th>\n",
       "      <th>url</th>\n",
       "    </tr>\n",
       "  </thead>\n",
       "  <tbody>\n",
       "    <tr>\n",
       "      <th>churchill</th>\n",
       "      <td>https://www.youtube.com/watch?v=s_LncVnecLA</td>\n",
       "      <td>WE SHALL NEVER SURRENDER speech by Winston Chu...</td>\n",
       "      <td>https://grupy-nlp-aws.s3.amazonaws.com/WE+SHAL...</td>\n",
       "    </tr>\n",
       "    <tr>\n",
       "      <th>reagan</th>\n",
       "      <td>https://www.youtube.com/watch?v=5MDFX-dNtsM&amp;t=6s</td>\n",
       "      <td>'Berlin Wall' Speech - President Reagan's Addr...</td>\n",
       "      <td>https://grupy-nlp-aws.s3.amazonaws.com/'Berlin...</td>\n",
       "    </tr>\n",
       "    <tr>\n",
       "      <th>luther_king</th>\n",
       "      <td>https://www.youtube.com/watch?v=vP4iY1TtS3s&amp;t=42s</td>\n",
       "      <td>I Have a Dream speech by Martin Luther King .J...</td>\n",
       "      <td>https://grupy-nlp-aws.s3.amazonaws.com/I+Have+...</td>\n",
       "    </tr>\n",
       "    <tr>\n",
       "      <th>bezos</th>\n",
       "      <td>https://www.youtube.com/watch?v=uvzkujQFlxQ</td>\n",
       "      <td>Amazon founder Jeff Bezos delivers speech at P...</td>\n",
       "      <td>https://grupy-nlp-aws.s3.amazonaws.com/Amazon+...</td>\n",
       "    </tr>\n",
       "    <tr>\n",
       "      <th>gaiman</th>\n",
       "      <td>https://www.youtube.com/watch?v=plWexCID-kA</td>\n",
       "      <td>Neil Gaiman 2012 Commencement Speech 'Make Goo...</td>\n",
       "      <td>https://grupy-nlp-aws.s3.amazonaws.com/Neil+Ga...</td>\n",
       "    </tr>\n",
       "  </tbody>\n",
       "</table>\n",
       "</div>"
      ],
      "text/plain": [
       "                                                  youtube_urls  \\\n",
       "churchill          https://www.youtube.com/watch?v=s_LncVnecLA   \n",
       "reagan        https://www.youtube.com/watch?v=5MDFX-dNtsM&t=6s   \n",
       "luther_king  https://www.youtube.com/watch?v=vP4iY1TtS3s&t=42s   \n",
       "bezos              https://www.youtube.com/watch?v=uvzkujQFlxQ   \n",
       "gaiman             https://www.youtube.com/watch?v=plWexCID-kA   \n",
       "\n",
       "                                                      filename  \\\n",
       "churchill    WE SHALL NEVER SURRENDER speech by Winston Chu...   \n",
       "reagan       'Berlin Wall' Speech - President Reagan's Addr...   \n",
       "luther_king  I Have a Dream speech by Martin Luther King .J...   \n",
       "bezos        Amazon founder Jeff Bezos delivers speech at P...   \n",
       "gaiman       Neil Gaiman 2012 Commencement Speech 'Make Goo...   \n",
       "\n",
       "                                                           url  \n",
       "churchill    https://grupy-nlp-aws.s3.amazonaws.com/WE+SHAL...  \n",
       "reagan       https://grupy-nlp-aws.s3.amazonaws.com/'Berlin...  \n",
       "luther_king  https://grupy-nlp-aws.s3.amazonaws.com/I+Have+...  \n",
       "bezos        https://grupy-nlp-aws.s3.amazonaws.com/Amazon+...  \n",
       "gaiman       https://grupy-nlp-aws.s3.amazonaws.com/Neil+Ga...  "
      ]
     },
     "execution_count": 24,
     "metadata": {},
     "output_type": "execute_result"
    }
   ],
   "source": [
    "df_audio"
   ]
  },
  {
   "cell_type": "code",
   "execution_count": 26,
   "metadata": {},
   "outputs": [],
   "source": [
    "# Definir uma função para disparar o serviço Amazon Transcribe\n",
    "def start_transcription(bucket, job_name, file_url, wait_process=True):\n",
    "    client_transcribe = boto3.client('transcribe')\n",
    "    client_transcribe.start_transcription_job(\n",
    "        TranscriptionJobName=job_name,\n",
    "        Media={'MediaFileUri': file_url},\n",
    "        MediaFormat='mp3',\n",
    "        LanguageCode='en-US',\n",
    "        OutputBucketName=bucket)\n",
    "    if wait_process:\n",
    "        while True:\n",
    "            status = client_transcribe.get_transcription_job(TranscriptionJobName=job_name)\n",
    "            if status['TranscriptionJob']['TranscriptionJobStatus'] in ['COMPLETED', 'FAILED']:\n",
    "                break\n",
    "            print(\"Not ready yet...\")\n",
    "            time.sleep(20)\n",
    "\n",
    "        print('Transcription finished')\n",
    "        return status\n",
    "    "
   ]
  },
  {
   "cell_type": "code",
   "execution_count": 25,
   "metadata": {},
   "outputs": [
    {
     "data": {
      "text/html": [
       "<div>\n",
       "<style scoped>\n",
       "    .dataframe tbody tr th:only-of-type {\n",
       "        vertical-align: middle;\n",
       "    }\n",
       "\n",
       "    .dataframe tbody tr th {\n",
       "        vertical-align: top;\n",
       "    }\n",
       "\n",
       "    .dataframe thead th {\n",
       "        text-align: right;\n",
       "    }\n",
       "</style>\n",
       "<table border=\"1\" class=\"dataframe\">\n",
       "  <thead>\n",
       "    <tr style=\"text-align: right;\">\n",
       "      <th></th>\n",
       "      <th>youtube_urls</th>\n",
       "      <th>filename</th>\n",
       "      <th>url</th>\n",
       "    </tr>\n",
       "  </thead>\n",
       "  <tbody>\n",
       "    <tr>\n",
       "      <th>churchill</th>\n",
       "      <td>https://www.youtube.com/watch?v=s_LncVnecLA</td>\n",
       "      <td>WE SHALL NEVER SURRENDER speech by Winston Chu...</td>\n",
       "      <td>https://grupy-nlp-aws.s3.amazonaws.com/WE+SHAL...</td>\n",
       "    </tr>\n",
       "    <tr>\n",
       "      <th>reagan</th>\n",
       "      <td>https://www.youtube.com/watch?v=5MDFX-dNtsM&amp;t=6s</td>\n",
       "      <td>'Berlin Wall' Speech - President Reagan's Addr...</td>\n",
       "      <td>https://grupy-nlp-aws.s3.amazonaws.com/'Berlin...</td>\n",
       "    </tr>\n",
       "    <tr>\n",
       "      <th>luther_king</th>\n",
       "      <td>https://www.youtube.com/watch?v=vP4iY1TtS3s&amp;t=42s</td>\n",
       "      <td>I Have a Dream speech by Martin Luther King .J...</td>\n",
       "      <td>https://grupy-nlp-aws.s3.amazonaws.com/I+Have+...</td>\n",
       "    </tr>\n",
       "    <tr>\n",
       "      <th>bezos</th>\n",
       "      <td>https://www.youtube.com/watch?v=uvzkujQFlxQ</td>\n",
       "      <td>Amazon founder Jeff Bezos delivers speech at P...</td>\n",
       "      <td>https://grupy-nlp-aws.s3.amazonaws.com/Amazon+...</td>\n",
       "    </tr>\n",
       "    <tr>\n",
       "      <th>gaiman</th>\n",
       "      <td>https://www.youtube.com/watch?v=plWexCID-kA</td>\n",
       "      <td>Neil Gaiman 2012 Commencement Speech 'Make Goo...</td>\n",
       "      <td>https://grupy-nlp-aws.s3.amazonaws.com/Neil+Ga...</td>\n",
       "    </tr>\n",
       "  </tbody>\n",
       "</table>\n",
       "</div>"
      ],
      "text/plain": [
       "                                                  youtube_urls  \\\n",
       "churchill          https://www.youtube.com/watch?v=s_LncVnecLA   \n",
       "reagan        https://www.youtube.com/watch?v=5MDFX-dNtsM&t=6s   \n",
       "luther_king  https://www.youtube.com/watch?v=vP4iY1TtS3s&t=42s   \n",
       "bezos              https://www.youtube.com/watch?v=uvzkujQFlxQ   \n",
       "gaiman             https://www.youtube.com/watch?v=plWexCID-kA   \n",
       "\n",
       "                                                      filename  \\\n",
       "churchill    WE SHALL NEVER SURRENDER speech by Winston Chu...   \n",
       "reagan       'Berlin Wall' Speech - President Reagan's Addr...   \n",
       "luther_king  I Have a Dream speech by Martin Luther King .J...   \n",
       "bezos        Amazon founder Jeff Bezos delivers speech at P...   \n",
       "gaiman       Neil Gaiman 2012 Commencement Speech 'Make Goo...   \n",
       "\n",
       "                                                           url  \n",
       "churchill    https://grupy-nlp-aws.s3.amazonaws.com/WE+SHAL...  \n",
       "reagan       https://grupy-nlp-aws.s3.amazonaws.com/'Berlin...  \n",
       "luther_king  https://grupy-nlp-aws.s3.amazonaws.com/I+Have+...  \n",
       "bezos        https://grupy-nlp-aws.s3.amazonaws.com/Amazon+...  \n",
       "gaiman       https://grupy-nlp-aws.s3.amazonaws.com/Neil+Ga...  "
      ]
     },
     "execution_count": 25,
     "metadata": {},
     "output_type": "execute_result"
    }
   ],
   "source": [
    "df_audio"
   ]
  },
  {
   "cell_type": "code",
   "execution_count": 27,
   "metadata": {},
   "outputs": [
    {
     "ename": "NameError",
     "evalue": "name 'today' is not defined",
     "output_type": "error",
     "traceback": [
      "\u001b[0;31m---------------------------------------------------------------------------\u001b[0m",
      "\u001b[0;31mNameError\u001b[0m                                 Traceback (most recent call last)",
      "\u001b[0;32m<ipython-input-27-712612d1ba45>\u001b[0m in \u001b[0;36m<module>\u001b[0;34m\u001b[0m\n\u001b[1;32m      1\u001b[0m \u001b[0;32mfor\u001b[0m \u001b[0mindex\u001b[0m\u001b[0;34m,\u001b[0m \u001b[0mrow\u001b[0m \u001b[0;32min\u001b[0m \u001b[0mdf_audio\u001b[0m\u001b[0;34m.\u001b[0m\u001b[0miterrows\u001b[0m\u001b[0;34m(\u001b[0m\u001b[0;34m)\u001b[0m\u001b[0;34m:\u001b[0m\u001b[0;34m\u001b[0m\u001b[0;34m\u001b[0m\u001b[0m\n\u001b[0;32m----> 2\u001b[0;31m     \u001b[0mprint\u001b[0m\u001b[0;34m(\u001b[0m\u001b[0;34mf'{index}_speech_{today}'\u001b[0m\u001b[0;34m,\u001b[0m \u001b[0mrow\u001b[0m\u001b[0;34m.\u001b[0m\u001b[0murl\u001b[0m\u001b[0;34m)\u001b[0m\u001b[0;34m\u001b[0m\u001b[0;34m\u001b[0m\u001b[0m\n\u001b[0m",
      "\u001b[0;31mNameError\u001b[0m: name 'today' is not defined"
     ]
    }
   ],
   "source": [
    "for index, row in df_audio.iterrows():\n",
    "    print(f'{index}_speech_{today}', row.url)"
   ]
  },
  {
   "cell_type": "code",
   "execution_count": 29,
   "metadata": {},
   "outputs": [
    {
     "name": "stdout",
     "output_type": "stream",
     "text": [
      "churchill_speech_29082019 https://grupy-nlp-aws.s3.amazonaws.com/WE+SHALL+NEVER+SURRENDER+speech+by+Winston+Churchill+(We+Shall+Fight+on+the+Beaches)-s_LncVnecLA.mp3\n",
      "reagan_speech_29082019 https://grupy-nlp-aws.s3.amazonaws.com/'Berlin+Wall'+Speech+-+President+Reagan's+Address+at+the+Brandenburg+Gate+-+6_12_87-5MDFX-dNtsM.mp3\n",
      "luther_king_speech_29082019 https://grupy-nlp-aws.s3.amazonaws.com/I+Have+a+Dream+speech+by+Martin+Luther+King+.Jr+HD+(subtitled)+(Remastered)-vP4iY1TtS3s.mp3\n",
      "bezos_speech_29082019 https://grupy-nlp-aws.s3.amazonaws.com/Amazon+founder+Jeff+Bezos+delivers+speech+at+Princeton+University+-+Engsub-uvzkujQFlxQ.mp3\n",
      "gaiman_speech_29082019 https://grupy-nlp-aws.s3.amazonaws.com/Neil+Gaiman+2012+Commencement+Speech+'Make+Good+Art'-plWexCID-kA.mp3\n"
     ]
    }
   ],
   "source": [
    "# Definir a data de hoje para usar no nome dos jobs\n",
    "today = date.today().strftime(\"%d%m%Y\")\n",
    "var = 'last'\n",
    "# Iterar pelos arquivos de audio no bucket S3 e disparar os jobs no Transcribe\n",
    "for index, row in df_audio.iterrows():\n",
    "    print(f'{index}_speech_{today}_{var}', row.url)\n",
    "    start_transcription(bucket_name, f'{index}_speech_{today}_{var}', row.url, wait_process=False)\n",
    "    df_audio.at[index, 'transcription_url'] = f\"https://{bucket_name}.s3.amazonaws.com/{index}_speech_{today}_{var}.json\"\n",
    "    df_audio.at[index, 'json_transcription'] = f\"{index}_speech_{today}_{var}.json\""
   ]
  },
  {
   "cell_type": "code",
   "execution_count": 30,
   "metadata": {},
   "outputs": [
    {
     "data": {
      "text/html": [
       "<div>\n",
       "<style scoped>\n",
       "    .dataframe tbody tr th:only-of-type {\n",
       "        vertical-align: middle;\n",
       "    }\n",
       "\n",
       "    .dataframe tbody tr th {\n",
       "        vertical-align: top;\n",
       "    }\n",
       "\n",
       "    .dataframe thead th {\n",
       "        text-align: right;\n",
       "    }\n",
       "</style>\n",
       "<table border=\"1\" class=\"dataframe\">\n",
       "  <thead>\n",
       "    <tr style=\"text-align: right;\">\n",
       "      <th></th>\n",
       "      <th>youtube_urls</th>\n",
       "      <th>filename</th>\n",
       "      <th>url</th>\n",
       "      <th>transcription_url</th>\n",
       "      <th>json_transcription</th>\n",
       "    </tr>\n",
       "  </thead>\n",
       "  <tbody>\n",
       "    <tr>\n",
       "      <th>churchill</th>\n",
       "      <td>https://www.youtube.com/watch?v=s_LncVnecLA</td>\n",
       "      <td>WE SHALL NEVER SURRENDER speech by Winston Chu...</td>\n",
       "      <td>https://grupy-nlp-aws.s3.amazonaws.com/WE+SHAL...</td>\n",
       "      <td>https://grupy-nlp-aws.s3.amazonaws.com/churchi...</td>\n",
       "      <td>churchill_speech_29082019_last.json</td>\n",
       "    </tr>\n",
       "    <tr>\n",
       "      <th>reagan</th>\n",
       "      <td>https://www.youtube.com/watch?v=5MDFX-dNtsM&amp;t=6s</td>\n",
       "      <td>'Berlin Wall' Speech - President Reagan's Addr...</td>\n",
       "      <td>https://grupy-nlp-aws.s3.amazonaws.com/'Berlin...</td>\n",
       "      <td>https://grupy-nlp-aws.s3.amazonaws.com/reagan_...</td>\n",
       "      <td>reagan_speech_29082019_last.json</td>\n",
       "    </tr>\n",
       "    <tr>\n",
       "      <th>luther_king</th>\n",
       "      <td>https://www.youtube.com/watch?v=vP4iY1TtS3s&amp;t=42s</td>\n",
       "      <td>I Have a Dream speech by Martin Luther King .J...</td>\n",
       "      <td>https://grupy-nlp-aws.s3.amazonaws.com/I+Have+...</td>\n",
       "      <td>https://grupy-nlp-aws.s3.amazonaws.com/luther_...</td>\n",
       "      <td>luther_king_speech_29082019_last.json</td>\n",
       "    </tr>\n",
       "    <tr>\n",
       "      <th>bezos</th>\n",
       "      <td>https://www.youtube.com/watch?v=uvzkujQFlxQ</td>\n",
       "      <td>Amazon founder Jeff Bezos delivers speech at P...</td>\n",
       "      <td>https://grupy-nlp-aws.s3.amazonaws.com/Amazon+...</td>\n",
       "      <td>https://grupy-nlp-aws.s3.amazonaws.com/bezos_s...</td>\n",
       "      <td>bezos_speech_29082019_last.json</td>\n",
       "    </tr>\n",
       "    <tr>\n",
       "      <th>gaiman</th>\n",
       "      <td>https://www.youtube.com/watch?v=plWexCID-kA</td>\n",
       "      <td>Neil Gaiman 2012 Commencement Speech 'Make Goo...</td>\n",
       "      <td>https://grupy-nlp-aws.s3.amazonaws.com/Neil+Ga...</td>\n",
       "      <td>https://grupy-nlp-aws.s3.amazonaws.com/gaiman_...</td>\n",
       "      <td>gaiman_speech_29082019_last.json</td>\n",
       "    </tr>\n",
       "  </tbody>\n",
       "</table>\n",
       "</div>"
      ],
      "text/plain": [
       "                                                  youtube_urls  \\\n",
       "churchill          https://www.youtube.com/watch?v=s_LncVnecLA   \n",
       "reagan        https://www.youtube.com/watch?v=5MDFX-dNtsM&t=6s   \n",
       "luther_king  https://www.youtube.com/watch?v=vP4iY1TtS3s&t=42s   \n",
       "bezos              https://www.youtube.com/watch?v=uvzkujQFlxQ   \n",
       "gaiman             https://www.youtube.com/watch?v=plWexCID-kA   \n",
       "\n",
       "                                                      filename  \\\n",
       "churchill    WE SHALL NEVER SURRENDER speech by Winston Chu...   \n",
       "reagan       'Berlin Wall' Speech - President Reagan's Addr...   \n",
       "luther_king  I Have a Dream speech by Martin Luther King .J...   \n",
       "bezos        Amazon founder Jeff Bezos delivers speech at P...   \n",
       "gaiman       Neil Gaiman 2012 Commencement Speech 'Make Goo...   \n",
       "\n",
       "                                                           url  \\\n",
       "churchill    https://grupy-nlp-aws.s3.amazonaws.com/WE+SHAL...   \n",
       "reagan       https://grupy-nlp-aws.s3.amazonaws.com/'Berlin...   \n",
       "luther_king  https://grupy-nlp-aws.s3.amazonaws.com/I+Have+...   \n",
       "bezos        https://grupy-nlp-aws.s3.amazonaws.com/Amazon+...   \n",
       "gaiman       https://grupy-nlp-aws.s3.amazonaws.com/Neil+Ga...   \n",
       "\n",
       "                                             transcription_url  \\\n",
       "churchill    https://grupy-nlp-aws.s3.amazonaws.com/churchi...   \n",
       "reagan       https://grupy-nlp-aws.s3.amazonaws.com/reagan_...   \n",
       "luther_king  https://grupy-nlp-aws.s3.amazonaws.com/luther_...   \n",
       "bezos        https://grupy-nlp-aws.s3.amazonaws.com/bezos_s...   \n",
       "gaiman       https://grupy-nlp-aws.s3.amazonaws.com/gaiman_...   \n",
       "\n",
       "                                json_transcription  \n",
       "churchill      churchill_speech_29082019_last.json  \n",
       "reagan            reagan_speech_29082019_last.json  \n",
       "luther_king  luther_king_speech_29082019_last.json  \n",
       "bezos              bezos_speech_29082019_last.json  \n",
       "gaiman            gaiman_speech_29082019_last.json  "
      ]
     },
     "execution_count": 30,
     "metadata": {},
     "output_type": "execute_result"
    }
   ],
   "source": [
    "df_audio"
   ]
  },
  {
   "cell_type": "code",
   "execution_count": 36,
   "metadata": {},
   "outputs": [
    {
     "data": {
      "text/plain": [
       "{'Status': 'COMPLETED',\n",
       " 'NextToken': '3/Q22yZ4n/FldYqPp92GoX3ADk9mPfsO3qZo9qhrTcT1AIMpJT1kTo3E1HAYj6CNHbs9w2RWNhpdyVNX6AXq87WJO3tmrjnhME3D8VLKCsKotw3jMJUBWzGWAUjx/PONNqJeda9KqJLMUIh6pprwxVdN47TKNgRLqpxMuJUzl+Xe1Hd9Lx7eg3LzHujCZnsNFrPUf84hA7pvqEoDcfvpaLoD+N3rTrYKtO9RH1x9abd8iLhyugQFwyMn4l4Ab7idr/7/zDRxNIIc7e/X+JhTDUjDs/8pZUDl46HDo4huUkPR2ioblCWsTwxEgG2o5Xn1Mi54uI3EjLeM/gfSQn9fRiKoA65vIt1CKXRfghURJrx3iiT95pvFOMwg05keD1u7nbA8GMHkzwI+W4yVJzenHLWTUUkXaYVJvFUuiq/gQD1r3H/LLsen5wy5I8Yf5wPTdjXXjhW8C8NlXjNlJnsbMXw9WlRXjw7AOr5EGZvC58AuLJ8KiebmP9d70IXbPYiDJOxjliWRlSkfcxZj1vzY60n12JB+t84fbRGDPh/zhZmSzvgDXp3taExoom9/x84IUcrmHPzJ7ouq2sOoB77CD5G9ftoVJRNIBg4FaQTcWWZiad4OVKVIktuBXxUyuyxf7hjzmfdQ94c8VUGJRCrvrUphIL7jAIMyXrwuWUNSeEpjhV1y0xcpIqYqzFbGoXNeTKVmtNaB9vSJ1Ozp3KDVZweY30A5E15RMjpVKcDOzwNBwt2ihHVhxQsqrsXEuGZcPaiiJI9l/IOuznZaf70oIK7vkt4AqB0FyacgNPlXIFhzC+3B6hW0c2bUllSpIgYPzCxN20ieHkZA9kX5DiSSi1xusYaHAtL9QXdNzFGZedG/hi0htx3J23bxHQC+8t8oT5g3asOHTMXOfOjXg=',\n",
       " 'TranscriptionJobSummaries': [{'TranscriptionJobName': 'gaiman_speech_29082019_last',\n",
       "   'CreationTime': datetime.datetime(2019, 8, 29, 13, 27, 1, 283000, tzinfo=tzlocal()),\n",
       "   'CompletionTime': datetime.datetime(2019, 8, 29, 13, 30, 11, 305000, tzinfo=tzlocal()),\n",
       "   'LanguageCode': 'en-US',\n",
       "   'TranscriptionJobStatus': 'COMPLETED',\n",
       "   'OutputLocationType': 'CUSTOMER_BUCKET'},\n",
       "  {'TranscriptionJobName': 'bezos_speech_29082019_last',\n",
       "   'CreationTime': datetime.datetime(2019, 8, 29, 13, 27, 0, 285000, tzinfo=tzlocal()),\n",
       "   'CompletionTime': datetime.datetime(2019, 8, 29, 13, 29, 28, 104000, tzinfo=tzlocal()),\n",
       "   'LanguageCode': 'en-US',\n",
       "   'TranscriptionJobStatus': 'COMPLETED',\n",
       "   'OutputLocationType': 'CUSTOMER_BUCKET'},\n",
       "  {'TranscriptionJobName': 'luther_king_speech_29082019_last',\n",
       "   'CreationTime': datetime.datetime(2019, 8, 29, 13, 26, 59, 444000, tzinfo=tzlocal()),\n",
       "   'CompletionTime': datetime.datetime(2019, 8, 29, 13, 30, 26, 941000, tzinfo=tzlocal()),\n",
       "   'LanguageCode': 'en-US',\n",
       "   'TranscriptionJobStatus': 'COMPLETED',\n",
       "   'OutputLocationType': 'CUSTOMER_BUCKET'},\n",
       "  {'TranscriptionJobName': 'reagan_speech_29082019_last',\n",
       "   'CreationTime': datetime.datetime(2019, 8, 29, 13, 26, 58, 605000, tzinfo=tzlocal()),\n",
       "   'CompletionTime': datetime.datetime(2019, 8, 29, 13, 31, 9, 271000, tzinfo=tzlocal()),\n",
       "   'LanguageCode': 'en-US',\n",
       "   'TranscriptionJobStatus': 'COMPLETED',\n",
       "   'OutputLocationType': 'CUSTOMER_BUCKET'},\n",
       "  {'TranscriptionJobName': 'churchill_speech_29082019_last',\n",
       "   'CreationTime': datetime.datetime(2019, 8, 29, 13, 26, 57, 763000, tzinfo=tzlocal()),\n",
       "   'CompletionTime': datetime.datetime(2019, 8, 29, 13, 30, 5, 746000, tzinfo=tzlocal()),\n",
       "   'LanguageCode': 'en-US',\n",
       "   'TranscriptionJobStatus': 'COMPLETED',\n",
       "   'OutputLocationType': 'CUSTOMER_BUCKET'}],\n",
       " 'ResponseMetadata': {'RequestId': '60a6a8fc-db62-49f4-a2d7-bdc200a8be23',\n",
       "  'HTTPStatusCode': 200,\n",
       "  'HTTPHeaders': {'content-type': 'application/x-amz-json-1.1',\n",
       "   'date': 'Thu, 29 Aug 2019 16:32:06 GMT',\n",
       "   'x-amzn-requestid': '60a6a8fc-db62-49f4-a2d7-bdc200a8be23',\n",
       "   'content-length': '2088',\n",
       "   'connection': 'keep-alive'},\n",
       "  'RetryAttempts': 0}}"
      ]
     },
     "execution_count": 36,
     "metadata": {},
     "output_type": "execute_result"
    }
   ],
   "source": [
    "# Verificar os jobs do Amazon Transcribe que estão com o Status COMPLETED\n",
    "client_transcribe = boto3.client('transcribe')\n",
    "response_transcribe = client_transcribe.list_transcription_jobs(\n",
    "    Status='COMPLETED')\n",
    "   # Status='IN_PROGRESS')\n",
    "\n",
    "response_transcribe"
   ]
  },
  {
   "cell_type": "code",
   "execution_count": 33,
   "metadata": {},
   "outputs": [
    {
     "data": {
      "text/plain": [
       "{'TranscriptionJob': {'TranscriptionJobName': 'churchill_speech_29082019_teste',\n",
       "  'TranscriptionJobStatus': 'COMPLETED',\n",
       "  'LanguageCode': 'en-US',\n",
       "  'MediaSampleRateHertz': 44100,\n",
       "  'MediaFormat': 'mp3',\n",
       "  'Media': {'MediaFileUri': 'https://grupy-nlp-aws.s3.amazonaws.com/WE+SHALL+NEVER+SURRENDER+speech+by+Winston+Churchill+(We+Shall+Fight+on+the+Beaches)-s_LncVnecLA.mp3'},\n",
       "  'Transcript': {'TranscriptFileUri': 'https://s3.amazonaws.com/grupy-nlp-aws/churchill_speech_29082019_teste.json'},\n",
       "  'CreationTime': datetime.datetime(2019, 8, 29, 10, 43, 45, 323000, tzinfo=tzlocal()),\n",
       "  'CompletionTime': datetime.datetime(2019, 8, 29, 10, 47, 32, 602000, tzinfo=tzlocal()),\n",
       "  'Settings': {'ChannelIdentification': False}},\n",
       " 'ResponseMetadata': {'RequestId': '0c775104-d9e4-46d3-965b-19fe973dc08a',\n",
       "  'HTTPStatusCode': 200,\n",
       "  'HTTPHeaders': {'content-type': 'application/x-amz-json-1.1',\n",
       "   'date': 'Thu, 29 Aug 2019 16:29:31 GMT',\n",
       "   'x-amzn-requestid': '0c775104-d9e4-46d3-965b-19fe973dc08a',\n",
       "   'content-length': '577',\n",
       "   'connection': 'keep-alive'},\n",
       "  'RetryAttempts': 0}}"
      ]
     },
     "execution_count": 33,
     "metadata": {},
     "output_type": "execute_result"
    }
   ],
   "source": [
    "client_transcribe = boto3.client('transcribe')\n",
    "response_transcribe_job = client_transcribe.get_transcription_job(\n",
    "    TranscriptionJobName= f'churchill_speech_{today}_teste'\n",
    ")\n",
    "response_transcribe_job"
   ]
  },
  {
   "cell_type": "code",
   "execution_count": 37,
   "metadata": {},
   "outputs": [
    {
     "data": {
      "text/plain": [
       "['https://grupy-nlp-aws.s3.amazonaws.com/churchill_speech_29082019_last.json',\n",
       " 'https://grupy-nlp-aws.s3.amazonaws.com/reagan_speech_29082019_last.json',\n",
       " 'https://grupy-nlp-aws.s3.amazonaws.com/luther_king_speech_29082019_last.json',\n",
       " 'https://grupy-nlp-aws.s3.amazonaws.com/bezos_speech_29082019_last.json',\n",
       " 'https://grupy-nlp-aws.s3.amazonaws.com/gaiman_speech_29082019_last.json']"
      ]
     },
     "execution_count": 37,
     "metadata": {},
     "output_type": "execute_result"
    }
   ],
   "source": [
    "df_audio.transcription_url.to_list()"
   ]
  },
  {
   "cell_type": "code",
   "execution_count": 138,
   "metadata": {},
   "outputs": [],
   "source": []
  },
  {
   "cell_type": "code",
   "execution_count": 38,
   "metadata": {},
   "outputs": [
    {
     "data": {
      "text/plain": [
       "{'Status': 'COMPLETED',\n",
       " 'NextToken': '3/Q22yZ4n/FldYqPp92GoX3ADk9mPfsO3qZo9qhrTcT1AIMpJT1kTo3E1HAYj6CNHbs9w2RWNhpdyVNX6AXq87WJO3tmrjnhME3D8VLKCsKotw3jMJUBWzGWAUjx/PONNqJeda9KqJLMUIh6pprwxVdN47TKNgRLqpxMuJUzl+Xe1Hd9Lx7eg3LzHujCZnsNFrPUf84hA7pvqEoDcfvpaLoD+N3rTrYKtO9RH1x9abd8iLhyugQFwyMn4l4Ab7idr/7/zDRxNIIc7e/X+JhTDUjDs/8pZUDl46HDo4huUkPR2ioblCWsTwxEgG2o5Xn1Mi54uI3EjLeM/gfSQn9fRiKoA65vIt1CKXRfghURJrx3iiT95pvFOMwg05keD1u7nbA8GMHkzwI+W4yVJzenHLWTUUkXaYVJvFUuiq/gQD1r3H/LLsen5wy5I8Yf5wPTdjXXjhW8C8NlXjNlJnsbMXw9WlRXjw7AOr5EGZvC58AuLJ8KiebmP9d70IXbPYiDJOxjliWRlSkfcxZj1vzY60n12JB+t84fbRGDPh/zhZmSzvgDXp3taExoom9/x84IUcrmHPzJ7ouq2sOoB77CD5G9ftoVJRNIBg4FaQTcWWZiad4OVKVIktuBXxUyuyxf7hjzmfdQ94c8VUGJRCrvrUphIL7jAIMyXrwuWUNSeEpjhV1y0xcpIqYqzFbGoXNeTKVmtNaB9vSJ1Ozp3KDVZweY30A5E15RMjpVKcDOzwNBwt2ihHVhxQsqrsXEuGZcPaiiJI9l/IOuznZaf70oIK7vkt4AqB0FyacgNPlXIFhzC+3B6hW0c2bUllSpIgYPzCxN20ieHkZA9kX5DiSSi1xusYaHAtL9QXdNzFGZedG/hi0htx3J23bxHQC+8t8oT5g3asOHTMXOfOjXg=',\n",
       " 'TranscriptionJobSummaries': [{'TranscriptionJobName': 'gaiman_speech_29082019_last',\n",
       "   'CreationTime': datetime.datetime(2019, 8, 29, 13, 27, 1, 283000, tzinfo=tzlocal()),\n",
       "   'CompletionTime': datetime.datetime(2019, 8, 29, 13, 30, 11, 305000, tzinfo=tzlocal()),\n",
       "   'LanguageCode': 'en-US',\n",
       "   'TranscriptionJobStatus': 'COMPLETED',\n",
       "   'OutputLocationType': 'CUSTOMER_BUCKET'},\n",
       "  {'TranscriptionJobName': 'bezos_speech_29082019_last',\n",
       "   'CreationTime': datetime.datetime(2019, 8, 29, 13, 27, 0, 285000, tzinfo=tzlocal()),\n",
       "   'CompletionTime': datetime.datetime(2019, 8, 29, 13, 29, 28, 104000, tzinfo=tzlocal()),\n",
       "   'LanguageCode': 'en-US',\n",
       "   'TranscriptionJobStatus': 'COMPLETED',\n",
       "   'OutputLocationType': 'CUSTOMER_BUCKET'},\n",
       "  {'TranscriptionJobName': 'luther_king_speech_29082019_last',\n",
       "   'CreationTime': datetime.datetime(2019, 8, 29, 13, 26, 59, 444000, tzinfo=tzlocal()),\n",
       "   'CompletionTime': datetime.datetime(2019, 8, 29, 13, 30, 26, 941000, tzinfo=tzlocal()),\n",
       "   'LanguageCode': 'en-US',\n",
       "   'TranscriptionJobStatus': 'COMPLETED',\n",
       "   'OutputLocationType': 'CUSTOMER_BUCKET'},\n",
       "  {'TranscriptionJobName': 'reagan_speech_29082019_last',\n",
       "   'CreationTime': datetime.datetime(2019, 8, 29, 13, 26, 58, 605000, tzinfo=tzlocal()),\n",
       "   'CompletionTime': datetime.datetime(2019, 8, 29, 13, 31, 9, 271000, tzinfo=tzlocal()),\n",
       "   'LanguageCode': 'en-US',\n",
       "   'TranscriptionJobStatus': 'COMPLETED',\n",
       "   'OutputLocationType': 'CUSTOMER_BUCKET'},\n",
       "  {'TranscriptionJobName': 'churchill_speech_29082019_last',\n",
       "   'CreationTime': datetime.datetime(2019, 8, 29, 13, 26, 57, 763000, tzinfo=tzlocal()),\n",
       "   'CompletionTime': datetime.datetime(2019, 8, 29, 13, 30, 5, 746000, tzinfo=tzlocal()),\n",
       "   'LanguageCode': 'en-US',\n",
       "   'TranscriptionJobStatus': 'COMPLETED',\n",
       "   'OutputLocationType': 'CUSTOMER_BUCKET'}],\n",
       " 'ResponseMetadata': {'RequestId': '95f1edc0-a5ab-4fc3-87fc-112c4f06ff4e',\n",
       "  'HTTPStatusCode': 200,\n",
       "  'HTTPHeaders': {'content-type': 'application/x-amz-json-1.1',\n",
       "   'date': 'Thu, 29 Aug 2019 16:32:28 GMT',\n",
       "   'x-amzn-requestid': '95f1edc0-a5ab-4fc3-87fc-112c4f06ff4e',\n",
       "   'content-length': '2088',\n",
       "   'connection': 'keep-alive'},\n",
       "  'RetryAttempts': 0}}"
      ]
     },
     "execution_count": 38,
     "metadata": {},
     "output_type": "execute_result"
    }
   ],
   "source": [
    "# Para listar os jobs executados no Amazon Transcribe\n",
    "transcribe_client = boto3.client('transcribe')\n",
    "response = transcribe_client.list_transcription_jobs(\n",
    "    Status='COMPLETED')\n",
    "response"
   ]
  },
  {
   "cell_type": "code",
   "execution_count": 57,
   "metadata": {},
   "outputs": [
    {
     "data": {
      "text/html": [
       "<div>\n",
       "<style scoped>\n",
       "    .dataframe tbody tr th:only-of-type {\n",
       "        vertical-align: middle;\n",
       "    }\n",
       "\n",
       "    .dataframe tbody tr th {\n",
       "        vertical-align: top;\n",
       "    }\n",
       "\n",
       "    .dataframe thead th {\n",
       "        text-align: right;\n",
       "    }\n",
       "</style>\n",
       "<table border=\"1\" class=\"dataframe\">\n",
       "  <thead>\n",
       "    <tr style=\"text-align: right;\">\n",
       "      <th></th>\n",
       "      <th>youtube_urls</th>\n",
       "      <th>filename</th>\n",
       "      <th>url</th>\n",
       "      <th>transcription_url</th>\n",
       "      <th>json_transcription</th>\n",
       "    </tr>\n",
       "  </thead>\n",
       "  <tbody>\n",
       "    <tr>\n",
       "      <th>churchill</th>\n",
       "      <td>https://www.youtube.com/watch?v=s_LncVnecLA</td>\n",
       "      <td>WE SHALL NEVER SURRENDER speech by Winston Chu...</td>\n",
       "      <td>https://grupy-nlp-aws.s3.amazonaws.com/WE+SHAL...</td>\n",
       "      <td>https://grupy-nlp-aws.s3.amazonaws.com/churchi...</td>\n",
       "      <td>churchill_speech_29082019.json</td>\n",
       "    </tr>\n",
       "    <tr>\n",
       "      <th>reagan</th>\n",
       "      <td>https://www.youtube.com/watch?v=5MDFX-dNtsM&amp;t=6s</td>\n",
       "      <td>'Berlin Wall' Speech - President Reagan's Addr...</td>\n",
       "      <td>https://grupy-nlp-aws.s3.amazonaws.com/'Berlin...</td>\n",
       "      <td>https://grupy-nlp-aws.s3.amazonaws.com/reagan_...</td>\n",
       "      <td>reagan_speech_29082019.json</td>\n",
       "    </tr>\n",
       "    <tr>\n",
       "      <th>luther_king</th>\n",
       "      <td>https://www.youtube.com/watch?v=vP4iY1TtS3s&amp;t=42s</td>\n",
       "      <td>I Have a Dream speech by Martin Luther King .J...</td>\n",
       "      <td>https://grupy-nlp-aws.s3.amazonaws.com/I+Have+...</td>\n",
       "      <td>https://grupy-nlp-aws.s3.amazonaws.com/luther_...</td>\n",
       "      <td>luther_king_speech_29082019.json</td>\n",
       "    </tr>\n",
       "    <tr>\n",
       "      <th>bezos</th>\n",
       "      <td>https://www.youtube.com/watch?v=uvzkujQFlxQ</td>\n",
       "      <td>Amazon founder Jeff Bezos delivers speech at P...</td>\n",
       "      <td>https://grupy-nlp-aws.s3.amazonaws.com/Amazon+...</td>\n",
       "      <td>https://grupy-nlp-aws.s3.amazonaws.com/bezos_s...</td>\n",
       "      <td>bezos_speech_29082019.json</td>\n",
       "    </tr>\n",
       "    <tr>\n",
       "      <th>gaiman</th>\n",
       "      <td>https://www.youtube.com/watch?v=plWexCID-kA</td>\n",
       "      <td>Neil Gaiman 2012 Commencement Speech 'Make Goo...</td>\n",
       "      <td>https://grupy-nlp-aws.s3.amazonaws.com/Neil+Ga...</td>\n",
       "      <td>https://grupy-nlp-aws.s3.amazonaws.com/gaiman_...</td>\n",
       "      <td>gaiman_speech_29082019.json</td>\n",
       "    </tr>\n",
       "  </tbody>\n",
       "</table>\n",
       "</div>"
      ],
      "text/plain": [
       "                                                  youtube_urls  \\\n",
       "churchill          https://www.youtube.com/watch?v=s_LncVnecLA   \n",
       "reagan        https://www.youtube.com/watch?v=5MDFX-dNtsM&t=6s   \n",
       "luther_king  https://www.youtube.com/watch?v=vP4iY1TtS3s&t=42s   \n",
       "bezos              https://www.youtube.com/watch?v=uvzkujQFlxQ   \n",
       "gaiman             https://www.youtube.com/watch?v=plWexCID-kA   \n",
       "\n",
       "                                                      filename  \\\n",
       "churchill    WE SHALL NEVER SURRENDER speech by Winston Chu...   \n",
       "reagan       'Berlin Wall' Speech - President Reagan's Addr...   \n",
       "luther_king  I Have a Dream speech by Martin Luther King .J...   \n",
       "bezos        Amazon founder Jeff Bezos delivers speech at P...   \n",
       "gaiman       Neil Gaiman 2012 Commencement Speech 'Make Goo...   \n",
       "\n",
       "                                                           url  \\\n",
       "churchill    https://grupy-nlp-aws.s3.amazonaws.com/WE+SHAL...   \n",
       "reagan       https://grupy-nlp-aws.s3.amazonaws.com/'Berlin...   \n",
       "luther_king  https://grupy-nlp-aws.s3.amazonaws.com/I+Have+...   \n",
       "bezos        https://grupy-nlp-aws.s3.amazonaws.com/Amazon+...   \n",
       "gaiman       https://grupy-nlp-aws.s3.amazonaws.com/Neil+Ga...   \n",
       "\n",
       "                                             transcription_url  \\\n",
       "churchill    https://grupy-nlp-aws.s3.amazonaws.com/churchi...   \n",
       "reagan       https://grupy-nlp-aws.s3.amazonaws.com/reagan_...   \n",
       "luther_king  https://grupy-nlp-aws.s3.amazonaws.com/luther_...   \n",
       "bezos        https://grupy-nlp-aws.s3.amazonaws.com/bezos_s...   \n",
       "gaiman       https://grupy-nlp-aws.s3.amazonaws.com/gaiman_...   \n",
       "\n",
       "                           json_transcription  \n",
       "churchill      churchill_speech_29082019.json  \n",
       "reagan            reagan_speech_29082019.json  \n",
       "luther_king  luther_king_speech_29082019.json  \n",
       "bezos              bezos_speech_29082019.json  \n",
       "gaiman            gaiman_speech_29082019.json  "
      ]
     },
     "execution_count": 57,
     "metadata": {},
     "output_type": "execute_result"
    }
   ],
   "source": [
    "df_audio"
   ]
  },
  {
   "cell_type": "code",
   "execution_count": 41,
   "metadata": {},
   "outputs": [],
   "source": [
    "# Função para de baixar o texto transcrito de um Json no S3\n",
    "def get_text_from_json(bucket, key):\n",
    "    s3 = boto3.client('s3')\n",
    "    object = s3.get_object(Bucket=bucket, Key=key)\n",
    "    serializedObject = object['Body'].read()\n",
    "    data = json.loads(serializedObject)\n",
    "    return data.get('results').get('transcripts')[0].get('transcript')"
   ]
  },
  {
   "cell_type": "code",
   "execution_count": 42,
   "metadata": {},
   "outputs": [],
   "source": [
    "def start_comprehend_job(text):\n",
    "    list_parts = []\n",
    "    text_for_analysis = ''\n",
    "    for sentence in text.split('.'):\n",
    "        current_text = text_for_analysis + f'{sentence}.'\n",
    "\n",
    "        if len(current_text.encode('utf-8')) > 5000:\n",
    "            list_parts.append([len(text_for_analysis), text_for_analysis])\n",
    "            text_for_analysis = f'{sentence}.'\n",
    "\n",
    "        else:\n",
    "            text_for_analysis += f'{sentence}.'\n",
    "\n",
    "    list_parts.append([len(text_for_analysis), text_for_analysis])\n",
    "    dict_comprehend = {}\n",
    "    for t_parts in list_parts:\n",
    "       \n",
    "        comprehend_client = boto3.client(service_name='comprehend', region_name='us-east-1')\n",
    "        sentimentData = comprehend_client.detect_sentiment(Text=t_parts[1], LanguageCode='en')\n",
    "        \n",
    "        dict_comprehend[t_parts[0]] = sentimentData\n",
    "        dict_comprehend[t_parts[0]]['ratio'] = t_parts[0]/float(len(text))\n",
    "\n",
    "    final_dict = {'Positive':0, 'Negative':0, 'Neutral':0, 'Mixed':0}\n",
    "    list_sentiments = ['Positive', 'Negative', 'Neutral', 'Mixed']\n",
    "    for sentiment in list_sentiments:\n",
    "        for key, value in dict_comprehend.items():\n",
    "            final_dict[sentiment] += value.get('SentimentScore').get(sentiment) * value.get('ratio')\n",
    "    \n",
    "    return final_dict"
   ]
  },
  {
   "cell_type": "code",
   "execution_count": 44,
   "metadata": {},
   "outputs": [],
   "source": [
    "# Gerar a análise de sentimento usando o Amazon Comprehend\n",
    "for index, row in df_audio.iterrows():\n",
    "    transcript_text = get_text_from_json(bucket_name, row.json_transcription)\n",
    "    comprehend_results = start_comprehend_job(transcript_text)\n",
    "    for k,v in comprehend_results.items():\n",
    "        df_audio.at[index, k] = v    \n",
    "    "
   ]
  },
  {
   "cell_type": "code",
   "execution_count": 52,
   "metadata": {},
   "outputs": [
    {
     "data": {
      "text/html": [
       "<div>\n",
       "<style scoped>\n",
       "    .dataframe tbody tr th:only-of-type {\n",
       "        vertical-align: middle;\n",
       "    }\n",
       "\n",
       "    .dataframe tbody tr th {\n",
       "        vertical-align: top;\n",
       "    }\n",
       "\n",
       "    .dataframe thead th {\n",
       "        text-align: right;\n",
       "    }\n",
       "</style>\n",
       "<table border=\"1\" class=\"dataframe\">\n",
       "  <thead>\n",
       "    <tr style=\"text-align: right;\">\n",
       "      <th></th>\n",
       "      <th>youtube_urls</th>\n",
       "      <th>filename</th>\n",
       "      <th>url</th>\n",
       "      <th>transcription_url</th>\n",
       "      <th>json_transcription</th>\n",
       "      <th>Positive</th>\n",
       "      <th>Negative</th>\n",
       "      <th>Neutral</th>\n",
       "      <th>Mixed</th>\n",
       "    </tr>\n",
       "  </thead>\n",
       "  <tbody>\n",
       "    <tr>\n",
       "      <th>churchill</th>\n",
       "      <td>https://www.youtube.com/watch?v=s_LncVnecLA</td>\n",
       "      <td>WE SHALL NEVER SURRENDER speech by Winston Chu...</td>\n",
       "      <td>https://grupy-nlp-aws.s3.amazonaws.com/WE+SHAL...</td>\n",
       "      <td>https://grupy-nlp-aws.s3.amazonaws.com/churchi...</td>\n",
       "      <td>churchill_speech_29082019_last.json</td>\n",
       "      <td>0.28</td>\n",
       "      <td>0.06</td>\n",
       "      <td>0.52</td>\n",
       "      <td>0.13</td>\n",
       "    </tr>\n",
       "    <tr>\n",
       "      <th>reagan</th>\n",
       "      <td>https://www.youtube.com/watch?v=5MDFX-dNtsM&amp;t=6s</td>\n",
       "      <td>'Berlin Wall' Speech - President Reagan's Addr...</td>\n",
       "      <td>https://grupy-nlp-aws.s3.amazonaws.com/'Berlin...</td>\n",
       "      <td>https://grupy-nlp-aws.s3.amazonaws.com/reagan_...</td>\n",
       "      <td>reagan_speech_29082019_last.json</td>\n",
       "      <td>0.16</td>\n",
       "      <td>0.02</td>\n",
       "      <td>0.81</td>\n",
       "      <td>0.02</td>\n",
       "    </tr>\n",
       "    <tr>\n",
       "      <th>luther_king</th>\n",
       "      <td>https://www.youtube.com/watch?v=vP4iY1TtS3s&amp;t=42s</td>\n",
       "      <td>I Have a Dream speech by Martin Luther King .J...</td>\n",
       "      <td>https://grupy-nlp-aws.s3.amazonaws.com/I+Have+...</td>\n",
       "      <td>https://grupy-nlp-aws.s3.amazonaws.com/luther_...</td>\n",
       "      <td>luther_king_speech_29082019_last.json</td>\n",
       "      <td>0.34</td>\n",
       "      <td>0.01</td>\n",
       "      <td>0.59</td>\n",
       "      <td>0.06</td>\n",
       "    </tr>\n",
       "    <tr>\n",
       "      <th>bezos</th>\n",
       "      <td>https://www.youtube.com/watch?v=uvzkujQFlxQ</td>\n",
       "      <td>Amazon founder Jeff Bezos delivers speech at P...</td>\n",
       "      <td>https://grupy-nlp-aws.s3.amazonaws.com/Amazon+...</td>\n",
       "      <td>https://grupy-nlp-aws.s3.amazonaws.com/bezos_s...</td>\n",
       "      <td>bezos_speech_29082019_last.json</td>\n",
       "      <td>0.53</td>\n",
       "      <td>0.02</td>\n",
       "      <td>0.39</td>\n",
       "      <td>0.07</td>\n",
       "    </tr>\n",
       "    <tr>\n",
       "      <th>gaiman</th>\n",
       "      <td>https://www.youtube.com/watch?v=plWexCID-kA</td>\n",
       "      <td>Neil Gaiman 2012 Commencement Speech 'Make Goo...</td>\n",
       "      <td>https://grupy-nlp-aws.s3.amazonaws.com/Neil+Ga...</td>\n",
       "      <td>https://grupy-nlp-aws.s3.amazonaws.com/gaiman_...</td>\n",
       "      <td>gaiman_speech_29082019_last.json</td>\n",
       "      <td>0.46</td>\n",
       "      <td>0.15</td>\n",
       "      <td>0.24</td>\n",
       "      <td>0.16</td>\n",
       "    </tr>\n",
       "  </tbody>\n",
       "</table>\n",
       "</div>"
      ],
      "text/plain": [
       "                                                  youtube_urls  \\\n",
       "churchill          https://www.youtube.com/watch?v=s_LncVnecLA   \n",
       "reagan        https://www.youtube.com/watch?v=5MDFX-dNtsM&t=6s   \n",
       "luther_king  https://www.youtube.com/watch?v=vP4iY1TtS3s&t=42s   \n",
       "bezos              https://www.youtube.com/watch?v=uvzkujQFlxQ   \n",
       "gaiman             https://www.youtube.com/watch?v=plWexCID-kA   \n",
       "\n",
       "                                                      filename  \\\n",
       "churchill    WE SHALL NEVER SURRENDER speech by Winston Chu...   \n",
       "reagan       'Berlin Wall' Speech - President Reagan's Addr...   \n",
       "luther_king  I Have a Dream speech by Martin Luther King .J...   \n",
       "bezos        Amazon founder Jeff Bezos delivers speech at P...   \n",
       "gaiman       Neil Gaiman 2012 Commencement Speech 'Make Goo...   \n",
       "\n",
       "                                                           url  \\\n",
       "churchill    https://grupy-nlp-aws.s3.amazonaws.com/WE+SHAL...   \n",
       "reagan       https://grupy-nlp-aws.s3.amazonaws.com/'Berlin...   \n",
       "luther_king  https://grupy-nlp-aws.s3.amazonaws.com/I+Have+...   \n",
       "bezos        https://grupy-nlp-aws.s3.amazonaws.com/Amazon+...   \n",
       "gaiman       https://grupy-nlp-aws.s3.amazonaws.com/Neil+Ga...   \n",
       "\n",
       "                                             transcription_url  \\\n",
       "churchill    https://grupy-nlp-aws.s3.amazonaws.com/churchi...   \n",
       "reagan       https://grupy-nlp-aws.s3.amazonaws.com/reagan_...   \n",
       "luther_king  https://grupy-nlp-aws.s3.amazonaws.com/luther_...   \n",
       "bezos        https://grupy-nlp-aws.s3.amazonaws.com/bezos_s...   \n",
       "gaiman       https://grupy-nlp-aws.s3.amazonaws.com/gaiman_...   \n",
       "\n",
       "                                json_transcription  Positive  Negative  \\\n",
       "churchill      churchill_speech_29082019_last.json      0.28      0.06   \n",
       "reagan            reagan_speech_29082019_last.json      0.16      0.02   \n",
       "luther_king  luther_king_speech_29082019_last.json      0.34      0.01   \n",
       "bezos              bezos_speech_29082019_last.json      0.53      0.02   \n",
       "gaiman            gaiman_speech_29082019_last.json      0.46      0.15   \n",
       "\n",
       "             Neutral  Mixed  \n",
       "churchill       0.52   0.13  \n",
       "reagan          0.81   0.02  \n",
       "luther_king     0.59   0.06  \n",
       "bezos           0.39   0.07  \n",
       "gaiman          0.24   0.16  "
      ]
     },
     "execution_count": 52,
     "metadata": {},
     "output_type": "execute_result"
    }
   ],
   "source": [
    "# Arrendodar os  valores percentuais dos sentimentos \n",
    "df_audio =  df_audio.round(2)\n",
    "df_audio"
   ]
  },
  {
   "cell_type": "code",
   "execution_count": 25,
   "metadata": {},
   "outputs": [],
   "source": [
    "## Visualização do resultado da análise de sentimento dos discursos"
   ]
  },
  {
   "cell_type": "code",
   "execution_count": 63,
   "metadata": {},
   "outputs": [],
   "source": [
    "df_audio_radar = df_audio[['Positive','Negative','Neutral','Mixed']]"
   ]
  },
  {
   "cell_type": "code",
   "execution_count": 55,
   "metadata": {},
   "outputs": [],
   "source": [
    "df = df_audio[['Positive', 'Negative', 'Neutral', 'Mixed']]"
   ]
  },
  {
   "cell_type": "code",
   "execution_count": 57,
   "metadata": {},
   "outputs": [
    {
     "name": "stderr",
     "output_type": "stream",
     "text": [
      "/home/gabriel/miniconda3/envs/nlp_aws/lib/python3.7/site-packages/ipykernel_launcher.py:1: SettingWithCopyWarning: \n",
      "A value is trying to be set on a copy of a slice from a DataFrame.\n",
      "Try using .loc[row_indexer,col_indexer] = value instead\n",
      "\n",
      "See the caveats in the documentation: http://pandas.pydata.org/pandas-docs/stable/user_guide/indexing.html#returning-a-view-versus-a-copy\n",
      "  \"\"\"Entry point for launching an IPython kernel.\n"
     ]
    }
   ],
   "source": [
    "df['author'] = df.index"
   ]
  },
  {
   "cell_type": "code",
   "execution_count": 58,
   "metadata": {},
   "outputs": [
    {
     "data": {
      "text/html": [
       "<div>\n",
       "<style scoped>\n",
       "    .dataframe tbody tr th:only-of-type {\n",
       "        vertical-align: middle;\n",
       "    }\n",
       "\n",
       "    .dataframe tbody tr th {\n",
       "        vertical-align: top;\n",
       "    }\n",
       "\n",
       "    .dataframe thead th {\n",
       "        text-align: right;\n",
       "    }\n",
       "</style>\n",
       "<table border=\"1\" class=\"dataframe\">\n",
       "  <thead>\n",
       "    <tr style=\"text-align: right;\">\n",
       "      <th></th>\n",
       "      <th>Positive</th>\n",
       "      <th>Negative</th>\n",
       "      <th>Neutral</th>\n",
       "      <th>Mixed</th>\n",
       "      <th>author</th>\n",
       "    </tr>\n",
       "  </thead>\n",
       "  <tbody>\n",
       "    <tr>\n",
       "      <th>churchill</th>\n",
       "      <td>0.28</td>\n",
       "      <td>0.06</td>\n",
       "      <td>0.52</td>\n",
       "      <td>0.13</td>\n",
       "      <td>churchill</td>\n",
       "    </tr>\n",
       "    <tr>\n",
       "      <th>reagan</th>\n",
       "      <td>0.16</td>\n",
       "      <td>0.02</td>\n",
       "      <td>0.81</td>\n",
       "      <td>0.02</td>\n",
       "      <td>reagan</td>\n",
       "    </tr>\n",
       "    <tr>\n",
       "      <th>luther_king</th>\n",
       "      <td>0.34</td>\n",
       "      <td>0.01</td>\n",
       "      <td>0.59</td>\n",
       "      <td>0.06</td>\n",
       "      <td>luther_king</td>\n",
       "    </tr>\n",
       "    <tr>\n",
       "      <th>bezos</th>\n",
       "      <td>0.53</td>\n",
       "      <td>0.02</td>\n",
       "      <td>0.39</td>\n",
       "      <td>0.07</td>\n",
       "      <td>bezos</td>\n",
       "    </tr>\n",
       "    <tr>\n",
       "      <th>gaiman</th>\n",
       "      <td>0.46</td>\n",
       "      <td>0.15</td>\n",
       "      <td>0.24</td>\n",
       "      <td>0.16</td>\n",
       "      <td>gaiman</td>\n",
       "    </tr>\n",
       "  </tbody>\n",
       "</table>\n",
       "</div>"
      ],
      "text/plain": [
       "             Positive  Negative  Neutral  Mixed       author\n",
       "churchill        0.28      0.06     0.52   0.13    churchill\n",
       "reagan           0.16      0.02     0.81   0.02       reagan\n",
       "luther_king      0.34      0.01     0.59   0.06  luther_king\n",
       "bezos            0.53      0.02     0.39   0.07        bezos\n",
       "gaiman           0.46      0.15     0.24   0.16       gaiman"
      ]
     },
     "execution_count": 58,
     "metadata": {},
     "output_type": "execute_result"
    }
   ],
   "source": [
    "df"
   ]
  },
  {
   "cell_type": "code",
   "execution_count": 59,
   "metadata": {},
   "outputs": [],
   "source": [
    "df_melt = pd.melt(df, id_vars=\"author\", var_name=\"sentiment\", value_name=\"sentiment rate\")"
   ]
  },
  {
   "cell_type": "code",
   "execution_count": 60,
   "metadata": {},
   "outputs": [
    {
     "data": {
      "text/html": [
       "<div>\n",
       "<style scoped>\n",
       "    .dataframe tbody tr th:only-of-type {\n",
       "        vertical-align: middle;\n",
       "    }\n",
       "\n",
       "    .dataframe tbody tr th {\n",
       "        vertical-align: top;\n",
       "    }\n",
       "\n",
       "    .dataframe thead th {\n",
       "        text-align: right;\n",
       "    }\n",
       "</style>\n",
       "<table border=\"1\" class=\"dataframe\">\n",
       "  <thead>\n",
       "    <tr style=\"text-align: right;\">\n",
       "      <th></th>\n",
       "      <th>author</th>\n",
       "      <th>sentiment</th>\n",
       "      <th>sentiment rate</th>\n",
       "    </tr>\n",
       "  </thead>\n",
       "  <tbody>\n",
       "    <tr>\n",
       "      <th>0</th>\n",
       "      <td>churchill</td>\n",
       "      <td>Positive</td>\n",
       "      <td>0.28</td>\n",
       "    </tr>\n",
       "    <tr>\n",
       "      <th>1</th>\n",
       "      <td>reagan</td>\n",
       "      <td>Positive</td>\n",
       "      <td>0.16</td>\n",
       "    </tr>\n",
       "    <tr>\n",
       "      <th>2</th>\n",
       "      <td>luther_king</td>\n",
       "      <td>Positive</td>\n",
       "      <td>0.34</td>\n",
       "    </tr>\n",
       "    <tr>\n",
       "      <th>3</th>\n",
       "      <td>bezos</td>\n",
       "      <td>Positive</td>\n",
       "      <td>0.53</td>\n",
       "    </tr>\n",
       "    <tr>\n",
       "      <th>4</th>\n",
       "      <td>gaiman</td>\n",
       "      <td>Positive</td>\n",
       "      <td>0.46</td>\n",
       "    </tr>\n",
       "    <tr>\n",
       "      <th>5</th>\n",
       "      <td>churchill</td>\n",
       "      <td>Negative</td>\n",
       "      <td>0.06</td>\n",
       "    </tr>\n",
       "    <tr>\n",
       "      <th>6</th>\n",
       "      <td>reagan</td>\n",
       "      <td>Negative</td>\n",
       "      <td>0.02</td>\n",
       "    </tr>\n",
       "    <tr>\n",
       "      <th>7</th>\n",
       "      <td>luther_king</td>\n",
       "      <td>Negative</td>\n",
       "      <td>0.01</td>\n",
       "    </tr>\n",
       "    <tr>\n",
       "      <th>8</th>\n",
       "      <td>bezos</td>\n",
       "      <td>Negative</td>\n",
       "      <td>0.02</td>\n",
       "    </tr>\n",
       "    <tr>\n",
       "      <th>9</th>\n",
       "      <td>gaiman</td>\n",
       "      <td>Negative</td>\n",
       "      <td>0.15</td>\n",
       "    </tr>\n",
       "    <tr>\n",
       "      <th>10</th>\n",
       "      <td>churchill</td>\n",
       "      <td>Neutral</td>\n",
       "      <td>0.52</td>\n",
       "    </tr>\n",
       "    <tr>\n",
       "      <th>11</th>\n",
       "      <td>reagan</td>\n",
       "      <td>Neutral</td>\n",
       "      <td>0.81</td>\n",
       "    </tr>\n",
       "    <tr>\n",
       "      <th>12</th>\n",
       "      <td>luther_king</td>\n",
       "      <td>Neutral</td>\n",
       "      <td>0.59</td>\n",
       "    </tr>\n",
       "    <tr>\n",
       "      <th>13</th>\n",
       "      <td>bezos</td>\n",
       "      <td>Neutral</td>\n",
       "      <td>0.39</td>\n",
       "    </tr>\n",
       "    <tr>\n",
       "      <th>14</th>\n",
       "      <td>gaiman</td>\n",
       "      <td>Neutral</td>\n",
       "      <td>0.24</td>\n",
       "    </tr>\n",
       "    <tr>\n",
       "      <th>15</th>\n",
       "      <td>churchill</td>\n",
       "      <td>Mixed</td>\n",
       "      <td>0.13</td>\n",
       "    </tr>\n",
       "    <tr>\n",
       "      <th>16</th>\n",
       "      <td>reagan</td>\n",
       "      <td>Mixed</td>\n",
       "      <td>0.02</td>\n",
       "    </tr>\n",
       "    <tr>\n",
       "      <th>17</th>\n",
       "      <td>luther_king</td>\n",
       "      <td>Mixed</td>\n",
       "      <td>0.06</td>\n",
       "    </tr>\n",
       "    <tr>\n",
       "      <th>18</th>\n",
       "      <td>bezos</td>\n",
       "      <td>Mixed</td>\n",
       "      <td>0.07</td>\n",
       "    </tr>\n",
       "    <tr>\n",
       "      <th>19</th>\n",
       "      <td>gaiman</td>\n",
       "      <td>Mixed</td>\n",
       "      <td>0.16</td>\n",
       "    </tr>\n",
       "  </tbody>\n",
       "</table>\n",
       "</div>"
      ],
      "text/plain": [
       "         author sentiment  sentiment rate\n",
       "0     churchill  Positive            0.28\n",
       "1        reagan  Positive            0.16\n",
       "2   luther_king  Positive            0.34\n",
       "3         bezos  Positive            0.53\n",
       "4        gaiman  Positive            0.46\n",
       "5     churchill  Negative            0.06\n",
       "6        reagan  Negative            0.02\n",
       "7   luther_king  Negative            0.01\n",
       "8         bezos  Negative            0.02\n",
       "9        gaiman  Negative            0.15\n",
       "10    churchill   Neutral            0.52\n",
       "11       reagan   Neutral            0.81\n",
       "12  luther_king   Neutral            0.59\n",
       "13        bezos   Neutral            0.39\n",
       "14       gaiman   Neutral            0.24\n",
       "15    churchill     Mixed            0.13\n",
       "16       reagan     Mixed            0.02\n",
       "17  luther_king     Mixed            0.06\n",
       "18        bezos     Mixed            0.07\n",
       "19       gaiman     Mixed            0.16"
      ]
     },
     "execution_count": 60,
     "metadata": {},
     "output_type": "execute_result"
    }
   ],
   "source": [
    "df_melt"
   ]
  },
  {
   "cell_type": "code",
   "execution_count": 66,
   "metadata": {},
   "outputs": [
    {
     "data": {
      "image/png": "[encoded data removed]",
      "text/plain": [
       "<Figure size 449.35x360 with 1 Axes>"
      ]
     },
     "metadata": {
      "needs_background": "light"
     },
     "output_type": "display_data"
    }
   ],
   "source": [
    "sns_plot = sns.factorplot(x='author', y='sentiment rate', hue='sentiment', data=df_melt, kind='bar')\n",
    "sns_plot.savefig(\"barplot.png\", dpi=600, orientation ='landscape')"
   ]
  },
  {
   "cell_type": "code",
   "execution_count": null,
   "metadata": {},
   "outputs": [],
   "source": []
  },
  {
   "cell_type": "code",
   "execution_count": null,
   "metadata": {},
   "outputs": [],
   "source": []
  },
  {
   "cell_type": "code",
   "execution_count": 69,
   "metadata": {},
   "outputs": [
    {
     "data": {
      "text/html": [
       "<div>\n",
       "<style scoped>\n",
       "    .dataframe tbody tr th:only-of-type {\n",
       "        vertical-align: middle;\n",
       "    }\n",
       "\n",
       "    .dataframe tbody tr th {\n",
       "        vertical-align: top;\n",
       "    }\n",
       "\n",
       "    .dataframe thead th {\n",
       "        text-align: right;\n",
       "    }\n",
       "</style>\n",
       "<table border=\"1\" class=\"dataframe\">\n",
       "  <thead>\n",
       "    <tr style=\"text-align: right;\">\n",
       "      <th></th>\n",
       "      <th>churchill</th>\n",
       "      <th>reagan</th>\n",
       "      <th>luther_king</th>\n",
       "      <th>bezos</th>\n",
       "      <th>gaiman</th>\n",
       "    </tr>\n",
       "  </thead>\n",
       "  <tbody>\n",
       "    <tr>\n",
       "      <th>Positive</th>\n",
       "      <td>0.276516</td>\n",
       "      <td>0.156849</td>\n",
       "      <td>0.343839</td>\n",
       "      <td>0.527087</td>\n",
       "      <td>0.461380</td>\n",
       "    </tr>\n",
       "    <tr>\n",
       "      <th>Negative</th>\n",
       "      <td>0.064977</td>\n",
       "      <td>0.015465</td>\n",
       "      <td>0.005916</td>\n",
       "      <td>0.015820</td>\n",
       "      <td>0.147436</td>\n",
       "    </tr>\n",
       "    <tr>\n",
       "      <th>Neutral</th>\n",
       "      <td>0.523759</td>\n",
       "      <td>0.811257</td>\n",
       "      <td>0.594401</td>\n",
       "      <td>0.390241</td>\n",
       "      <td>0.235781</td>\n",
       "    </tr>\n",
       "    <tr>\n",
       "      <th>Mixed</th>\n",
       "      <td>0.134878</td>\n",
       "      <td>0.016495</td>\n",
       "      <td>0.056180</td>\n",
       "      <td>0.066992</td>\n",
       "      <td>0.155467</td>\n",
       "    </tr>\n",
       "  </tbody>\n",
       "</table>\n",
       "</div>"
      ],
      "text/plain": [
       "          churchill    reagan  luther_king     bezos    gaiman\n",
       "Positive   0.276516  0.156849     0.343839  0.527087  0.461380\n",
       "Negative   0.064977  0.015465     0.005916  0.015820  0.147436\n",
       "Neutral    0.523759  0.811257     0.594401  0.390241  0.235781\n",
       "Mixed      0.134878  0.016495     0.056180  0.066992  0.155467"
      ]
     },
     "execution_count": 69,
     "metadata": {},
     "output_type": "execute_result"
    }
   ],
   "source": [
    "df.T"
   ]
  },
  {
   "cell_type": "code",
   "execution_count": 53,
   "metadata": {},
   "outputs": [
    {
     "ename": "IndentationError",
     "evalue": "expected an indented block (<ipython-input-53-6938e61e3934>, line 21)",
     "output_type": "error",
     "traceback": [
      "\u001b[0;36m  File \u001b[0;32m\"<ipython-input-53-6938e61e3934>\"\u001b[0;36m, line \u001b[0;32m21\u001b[0m\n\u001b[0;31m    categories=list(df)[1:]\u001b[0m\n\u001b[0m             ^\u001b[0m\n\u001b[0;31mIndentationError\u001b[0m\u001b[0;31m:\u001b[0m expected an indented block\n"
     ]
    }
   ],
   "source": [
    "# Libraries\n",
    "import matplotlib.pyplot as plt\n",
    "import pandas as pd\n",
    "from math import pi\n",
    " \n",
    "# Set data\n",
    "df = pd.DataFrame({\n",
    "'group': ['A','B','C','D'],\n",
    "'var1': [38, 1.5, 30, 4],\n",
    "'var2': [29, 10, 9, 34],\n",
    "'var3': [8, 39, 23, 24],\n",
    "'var4': [7, 31, 33, 14],\n",
    "'var5': [28, 15, 32, 14]\n",
    "})\n",
    " \n",
    "# ------- PART 1: Define a function that do a plot for one line of the dataset!\n",
    " \n",
    "def make_spider( row, title, color):\n",
    " \n",
    "# number of variable\n",
    "categories=list(df)[1:]\n",
    "N = len(categories)\n",
    " \n",
    "# What will be the angle of each axis in the plot? (we divide the plot / number of variable)\n",
    "angles = [n / float(N) * 2 * pi for n in range(N)]\n",
    "angles += angles[:1]\n",
    " \n",
    "# Initialise the spider plot\n",
    "ax = plt.subplot(2,2,row+1, polar=True, )\n",
    " \n",
    "# If you want the first axis to be on top:\n",
    "ax.set_theta_offset(pi / 2)\n",
    "ax.set_theta_direction(-1)\n",
    " \n",
    "# Draw one axe per variable + add labels labels yet\n",
    "plt.xticks(angles[:-1], categories, color='grey', size=8)\n",
    " \n",
    "# Draw ylabels\n",
    "ax.set_rlabel_position(0)\n",
    "plt.yticks([10,20,30], [\"10\",\"20\",\"30\"], color=\"grey\", size=7)\n",
    "plt.ylim(0,40)\n",
    " \n",
    "# Ind1\n",
    "values=df.loc[row].drop('group').values.flatten().tolist()\n",
    "values += values[:1]\n",
    "ax.plot(angles, values, color=color, linewidth=2, linestyle='solid')\n",
    "ax.fill(angles, values, color=color, alpha=0.4)\n",
    " \n",
    "# Add a title\n",
    "plt.title(title, size=11, color=color, y=1.1)\n",
    " \n",
    "# ------- PART 2: Apply to all individuals\n",
    "# initialize the figure\n",
    "my_dpi=96\n",
    "plt.figure(figsize=(1000/my_dpi, 1000/my_dpi), dpi=my_dpi)\n",
    " \n",
    "# Create a color palette:\n",
    "my_palette = plt.cm.get_cmap(\"Set2\", len(df.index))\n",
    " \n",
    "# Loop to plot\n",
    "for row in range(0, len(df.index)):\n",
    "make_spider( row=row, title='group '+df['group'][row], color=my_palette(row))\n"
   ]
  },
  {
   "cell_type": "code",
   "execution_count": null,
   "metadata": {},
   "outputs": [],
   "source": []
  },
  {
   "cell_type": "code",
   "execution_count": null,
   "metadata": {},
   "outputs": [],
   "source": []
  },
  {
   "cell_type": "code",
   "execution_count": null,
   "metadata": {},
   "outputs": [],
   "source": []
  },
  {
   "cell_type": "code",
   "execution_count": null,
   "metadata": {},
   "outputs": [],
   "source": []
  },
  {
   "cell_type": "code",
   "execution_count": null,
   "metadata": {},
   "outputs": [],
   "source": []
  },
  {
   "cell_type": "code",
   "execution_count": 4,
   "metadata": {},
   "outputs": [
    {
     "data": {
      "image/png": "[encoded data removed]",
      "text/plain": [
       "<Figure size 432x288 with 1 Axes>"
      ]
     },
     "metadata": {},
     "output_type": "display_data"
    }
   ],
   "source": [
    "import seaborn as sns\n",
    "sns.set(style=\"whitegrid\")\n",
    "tips = sns.load_dataset(\"tips\")\n",
    "ax = sns.barplot(x=\"day\", y=\"total_bill\", data=tips)"
   ]
  },
  {
   "cell_type": "code",
   "execution_count": 5,
   "metadata": {},
   "outputs": [
    {
     "data": {
      "image/png": "[encoded data removed]",
      "text/plain": [
       "<Figure size 432x288 with 1 Axes>"
      ]
     },
     "metadata": {},
     "output_type": "display_data"
    }
   ],
   "source": [
    "ax = sns.barplot(x=\"day\", y=\"total_bill\", hue=\"sex\", data=tips)"
   ]
  },
  {
   "cell_type": "code",
   "execution_count": 7,
   "metadata": {},
   "outputs": [
    {
     "data": {
      "text/html": [
       "<div>\n",
       "<style scoped>\n",
       "    .dataframe tbody tr th:only-of-type {\n",
       "        vertical-align: middle;\n",
       "    }\n",
       "\n",
       "    .dataframe tbody tr th {\n",
       "        vertical-align: top;\n",
       "    }\n",
       "\n",
       "    .dataframe thead th {\n",
       "        text-align: right;\n",
       "    }\n",
       "</style>\n",
       "<table border=\"1\" class=\"dataframe\">\n",
       "  <thead>\n",
       "    <tr style=\"text-align: right;\">\n",
       "      <th></th>\n",
       "      <th>total_bill</th>\n",
       "      <th>tip</th>\n",
       "      <th>sex</th>\n",
       "      <th>smoker</th>\n",
       "      <th>day</th>\n",
       "      <th>time</th>\n",
       "      <th>size</th>\n",
       "    </tr>\n",
       "  </thead>\n",
       "  <tbody>\n",
       "    <tr>\n",
       "      <th>0</th>\n",
       "      <td>16.99</td>\n",
       "      <td>1.01</td>\n",
       "      <td>Female</td>\n",
       "      <td>No</td>\n",
       "      <td>Sun</td>\n",
       "      <td>Dinner</td>\n",
       "      <td>2</td>\n",
       "    </tr>\n",
       "    <tr>\n",
       "      <th>1</th>\n",
       "      <td>10.34</td>\n",
       "      <td>1.66</td>\n",
       "      <td>Male</td>\n",
       "      <td>No</td>\n",
       "      <td>Sun</td>\n",
       "      <td>Dinner</td>\n",
       "      <td>3</td>\n",
       "    </tr>\n",
       "    <tr>\n",
       "      <th>2</th>\n",
       "      <td>21.01</td>\n",
       "      <td>3.50</td>\n",
       "      <td>Male</td>\n",
       "      <td>No</td>\n",
       "      <td>Sun</td>\n",
       "      <td>Dinner</td>\n",
       "      <td>3</td>\n",
       "    </tr>\n",
       "    <tr>\n",
       "      <th>3</th>\n",
       "      <td>23.68</td>\n",
       "      <td>3.31</td>\n",
       "      <td>Male</td>\n",
       "      <td>No</td>\n",
       "      <td>Sun</td>\n",
       "      <td>Dinner</td>\n",
       "      <td>2</td>\n",
       "    </tr>\n",
       "    <tr>\n",
       "      <th>4</th>\n",
       "      <td>24.59</td>\n",
       "      <td>3.61</td>\n",
       "      <td>Female</td>\n",
       "      <td>No</td>\n",
       "      <td>Sun</td>\n",
       "      <td>Dinner</td>\n",
       "      <td>4</td>\n",
       "    </tr>\n",
       "  </tbody>\n",
       "</table>\n",
       "</div>"
      ],
      "text/plain": [
       "   total_bill   tip     sex smoker  day    time  size\n",
       "0       16.99  1.01  Female     No  Sun  Dinner     2\n",
       "1       10.34  1.66    Male     No  Sun  Dinner     3\n",
       "2       21.01  3.50    Male     No  Sun  Dinner     3\n",
       "3       23.68  3.31    Male     No  Sun  Dinner     2\n",
       "4       24.59  3.61  Female     No  Sun  Dinner     4"
      ]
     },
     "execution_count": 7,
     "metadata": {},
     "output_type": "execute_result"
    }
   ],
   "source": [
    "tips.head()"
   ]
  },
  {
   "cell_type": "code",
   "execution_count": null,
   "metadata": {},
   "outputs": [],
   "source": []
  },
  {
   "cell_type": "code",
   "execution_count": null,
   "metadata": {},
   "outputs": [],
   "source": []
  },
  {
   "cell_type": "code",
   "execution_count": null,
   "metadata": {},
   "outputs": [],
   "source": []
  },
  {
   "cell_type": "code",
   "execution_count": 9,
   "metadata": {},
   "outputs": [
    {
     "ename": "NameError",
     "evalue": "name 'df2' is not defined",
     "output_type": "error",
     "traceback": [
      "\u001b[0;31m---------------------------------------------------------------------------\u001b[0m",
      "\u001b[0;31mNameError\u001b[0m                                 Traceback (most recent call last)",
      "\u001b[0;32m<ipython-input-9-2068723f1203>\u001b[0m in \u001b[0;36m<module>\u001b[0;34m\u001b[0m\n\u001b[0;32m----> 1\u001b[0;31m \u001b[0mdf2\u001b[0m\u001b[0;34m\u001b[0m\u001b[0;34m\u001b[0m\u001b[0m\n\u001b[0m",
      "\u001b[0;31mNameError\u001b[0m: name 'df2' is not defined"
     ]
    }
   ],
   "source": [
    "df2"
   ]
  },
  {
   "cell_type": "code",
   "execution_count": null,
   "metadata": {},
   "outputs": [],
   "source": [
    "ax = sns.barplot(x=\"tip\", y=\"day\", data=df2)"
   ]
  },
  {
   "cell_type": "code",
   "execution_count": null,
   "metadata": {},
   "outputs": [],
   "source": [
    "ax = sns.barplot(x=\"day\", y=\"total_bill\", hue=\"sex\", data=tips)\n"
   ]
  },
  {
   "cell_type": "code",
   "execution_count": 88,
   "metadata": {},
   "outputs": [],
   "source": [
    "df2 = df.T"
   ]
  },
  {
   "cell_type": "code",
   "execution_count": 89,
   "metadata": {},
   "outputs": [
    {
     "data": {
      "text/html": [
       "<div>\n",
       "<style scoped>\n",
       "    .dataframe tbody tr th:only-of-type {\n",
       "        vertical-align: middle;\n",
       "    }\n",
       "\n",
       "    .dataframe tbody tr th {\n",
       "        vertical-align: top;\n",
       "    }\n",
       "\n",
       "    .dataframe thead th {\n",
       "        text-align: right;\n",
       "    }\n",
       "</style>\n",
       "<table border=\"1\" class=\"dataframe\">\n",
       "  <thead>\n",
       "    <tr style=\"text-align: right;\">\n",
       "      <th></th>\n",
       "      <th>Positive</th>\n",
       "      <th>Neutral</th>\n",
       "      <th>Negative</th>\n",
       "      <th>Mixed</th>\n",
       "    </tr>\n",
       "  </thead>\n",
       "  <tbody>\n",
       "    <tr>\n",
       "      <th>churchill</th>\n",
       "      <td>0.276516</td>\n",
       "      <td>0.523759</td>\n",
       "      <td>0.064977</td>\n",
       "      <td>0.134878</td>\n",
       "    </tr>\n",
       "    <tr>\n",
       "      <th>reagan</th>\n",
       "      <td>0.156849</td>\n",
       "      <td>0.811257</td>\n",
       "      <td>0.015465</td>\n",
       "      <td>0.016495</td>\n",
       "    </tr>\n",
       "    <tr>\n",
       "      <th>luther_king</th>\n",
       "      <td>0.343839</td>\n",
       "      <td>0.594401</td>\n",
       "      <td>0.005916</td>\n",
       "      <td>0.056180</td>\n",
       "    </tr>\n",
       "    <tr>\n",
       "      <th>bezos</th>\n",
       "      <td>0.527087</td>\n",
       "      <td>0.390241</td>\n",
       "      <td>0.015820</td>\n",
       "      <td>0.066992</td>\n",
       "    </tr>\n",
       "    <tr>\n",
       "      <th>gaiman</th>\n",
       "      <td>0.461380</td>\n",
       "      <td>0.235781</td>\n",
       "      <td>0.147436</td>\n",
       "      <td>0.155467</td>\n",
       "    </tr>\n",
       "  </tbody>\n",
       "</table>\n",
       "</div>"
      ],
      "text/plain": [
       "             Positive   Neutral  Negative     Mixed\n",
       "churchill    0.276516  0.523759  0.064977  0.134878\n",
       "reagan       0.156849  0.811257  0.015465  0.016495\n",
       "luther_king  0.343839  0.594401  0.005916  0.056180\n",
       "bezos        0.527087  0.390241  0.015820  0.066992\n",
       "gaiman       0.461380  0.235781  0.147436  0.155467"
      ]
     },
     "execution_count": 89,
     "metadata": {},
     "output_type": "execute_result"
    }
   ],
   "source": [
    "df2"
   ]
  },
  {
   "cell_type": "code",
   "execution_count": null,
   "metadata": {},
   "outputs": [],
   "source": []
  },
  {
   "cell_type": "code",
   "execution_count": 3,
   "metadata": {},
   "outputs": [],
   "source": [
    "import seaborn as sns\n",
    "titanic = sns.load_dataset(\"titanic\")\n",
    "sns.catplot(x=\"sex\", y=\"survived\", hue=\"class\", kind=\"bar\", data=titanic);"
   ]
  },
  {
   "cell_type": "code",
   "execution_count": 2,
   "metadata": {},
   "outputs": [
    {
     "name": "stdout",
     "output_type": "stream",
     "text": [
      "Collecting seaborn\n",
      "  Using cached https://files.pythonhosted.org/packages/a8/76/220ba4420459d9c4c9c9587c6ce607bf56c25b3d3d2de62056efe482dadc/seaborn-0.9.0-py3-none-any.whl\n",
      "Collecting scipy>=0.14.0 (from seaborn)\n",
      "  Using cached https://files.pythonhosted.org/packages/94/7f/b535ec711cbcc3246abea4385d17e1b325d4c3404dd86f15fc4f3dba1dbb/scipy-1.3.1-cp37-cp37m-manylinux1_x86_64.whl\n",
      "Requirement already satisfied: pandas>=0.15.2 in /home/gabriel/miniconda3/envs/nlp_aws/lib/python3.7/site-packages (from seaborn) (0.25.0)\n",
      "Requirement already satisfied: numpy>=1.9.3 in /home/gabriel/miniconda3/envs/nlp_aws/lib/python3.7/site-packages (from seaborn) (1.16.4)\n",
      "Requirement already satisfied: matplotlib>=1.4.3 in /home/gabriel/.local/lib/python3.7/site-packages (from seaborn) (3.1.1)\n",
      "Requirement already satisfied: pytz>=2017.2 in /home/gabriel/miniconda3/envs/nlp_aws/lib/python3.7/site-packages (from pandas>=0.15.2->seaborn) (2019.1)\n",
      "Requirement already satisfied: python-dateutil>=2.6.1 in /home/gabriel/miniconda3/envs/nlp_aws/lib/python3.7/site-packages (from pandas>=0.15.2->seaborn) (2.8.0)\n",
      "Requirement already satisfied: cycler>=0.10 in /home/gabriel/.local/lib/python3.7/site-packages (from matplotlib>=1.4.3->seaborn) (0.10.0)\n",
      "Requirement already satisfied: kiwisolver>=1.0.1 in /home/gabriel/.local/lib/python3.7/site-packages (from matplotlib>=1.4.3->seaborn) (1.1.0)\n",
      "Requirement already satisfied: pyparsing!=2.0.4,!=2.1.2,!=2.1.6,>=2.0.1 in /home/gabriel/.local/lib/python3.7/site-packages (from matplotlib>=1.4.3->seaborn) (2.4.2)\n",
      "Requirement already satisfied: six>=1.5 in /home/gabriel/miniconda3/envs/nlp_aws/lib/python3.7/site-packages (from python-dateutil>=2.6.1->pandas>=0.15.2->seaborn) (1.12.0)\n",
      "Requirement already satisfied: setuptools in /home/gabriel/miniconda3/envs/nlp_aws/lib/python3.7/site-packages (from kiwisolver>=1.0.1->matplotlib>=1.4.3->seaborn) (41.0.1)\n",
      "Installing collected packages: scipy, seaborn\n",
      "Successfully installed scipy-1.3.1 seaborn-0.9.0\n"
     ]
    }
   ],
   "source": [
    "# Subindo os arquivos de audio para o bucket s3 criado\n",
    "for audio_file in df_audio.filename.values:\n",
    "    print(audio_file)\n",
    "    s3.upload_file(audio_file, bucket_name,  audio_file)\n",
    "    #boto3.resource('s3').ObjectAcl(bucket_name,audio_file).put(ACL='public-read')"
   ]
  },
  {
   "cell_type": "markdown",
   "metadata": {},
   "source": [
    "Bibliografia e Links\n",
    "* Tutorial de reconhecimento de audio em Python https://realpython.com/python-speech-recognition/\n",
    "* Tutorial de como baixar videos do Youtube usando linha de comando no Linux https://itsfoss.com/download-youtube-linux/\n",
    "* Projeto Youtube-DL https://github.com/ytdl-org/youtube-dl/blob/master/README.md#readme\n",
    "* Discurso “We Shall Fight on the Beaches” de Winston Churchill https://www.artofmanliness.com/we-shall-fight-on-the-beaches-by-winston-churchill/\n",
    "* Discurso “Remarks at the Brandenburg Gate” de Ronald Regan https://www.artofmanliness.com/remarks-at-the-brandenburg-gate-by-ronald-regan/\n",
    "* Discurso \"I Have a Dream\" de Martin Luther King https://kinginstitute.stanford.edu/king-papers/documents/i-have-dream-address-delivered-march-washington-jobs-and-freedom\n",
    "* Discurso “What Matters More Than Your Talents” de Jeff Bezos https://jamesclear.com/great-speeches/what-matters-more-than-your-talents-by-jeff-bezos\n",
    "* Discurso “Make Good Art” de Neil Gaiman https://jamesclear.com/great-speeches/make-good-art-by-neil-gaiman\n",
    "* Tutorial de configuração de conta AWS e boto3 https://boto3.amazonaws.com/v1/documentation/api/latest/guide/quickstart.html#using-boto-3\n",
    "* Tutorial de como lidar com Json no Python https://realpython.com/python-json/\n",
    "* Curso de 'Natural Language Processing Fundamentals in Python' do DataCamp https://www.datacamp.com/courses/natural-language-processing-fundamentals-in-python"
   ]
  },
  {
   "cell_type": "code",
   "execution_count": 2,
   "metadata": {},
   "outputs": [],
   "source": []
  },
  {
   "cell_type": "code",
   "execution_count": null,
   "metadata": {},
   "outputs": [],
   "source": []
  }
 ],
 "metadata": {
  "kernelspec": {
   "display_name": "nlp_aws",
   "language": "python",
   "name": "nlp_aws"
  },
  "language_info": {
   "codemirror_mode": {
    "name": "ipython",
    "version": 3
   },
   "file_extension": ".py",
   "mimetype": "text/x-python",
   "name": "python",
   "nbconvert_exporter": "python",
   "pygments_lexer": "ipython3",
   "version": "3.7.3"
  }
 },
 "nbformat": 4,
 "nbformat_minor": 4
}
