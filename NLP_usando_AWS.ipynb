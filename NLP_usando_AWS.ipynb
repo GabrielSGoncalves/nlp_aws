{
 "cells": [
  {
   "cell_type": "markdown",
   "metadata": {},
   "source": [
    "### Utilizando boto3 para processamento de Linguagem Natural \n",
    "Neste tutorial iremos utilizar ferramentas de processamento de audio e texto e Linguagem Natural para analisar dados provenientes de vídeos do Youtube. <br>\n",
    "Os arquivos serão baixados utilizando uma ferramenta de linha de comando chamada [Youtube-DL](https://github.com/ytdl-org/youtube-dl/blob/master/README.md#readme), e iremos utilizar os serviços de NLP oferecidos pela AWS, accessados pela biblioteca [boto3](https://boto3.amazonaws.com/v1/documentation/api/latest/index.html)."
   ]
  },
  {
   "cell_type": "code",
   "execution_count": 129,
   "metadata": {},
   "outputs": [],
   "source": [
    "# Bibliotecas que serão utilizadas ao longo do tutorial\n",
    "from __future__ import print_function\n",
    "import boto3\n",
    "import os\n",
    "import time\n",
    "import pandas as pd\n",
    "import matplotlib as plt\n",
    "import logging\n",
    "from botocore.exceptions import ClientError\n",
    "from datetime import date\n",
    "import json\n",
    "\n",
    "%matplotlib inline"
   ]
  },
  {
   "cell_type": "markdown",
   "metadata": {},
   "source": [
    "#### 1) Baixando arquivos de vídeo do Youtube\n",
    "O primeiro passo em nosso tutorial é baixar os arquivos de áudio a partir de links de videos específicos selecionados. Para isso usaremos a ferramenta Youtube-DL que pode ser instalada através do ```pip```.\n",
    "\n",
    "```sudo pip install youtube-dl```<br>\n",
    "ou<br>\n",
    "```conda install -c conda-forge youtube-dl```\n",
    "\n",
    "\n",
    "Para baixar um vídeo qualquer: \n",
    "\n",
    "```youtube-dl <video_url>```\n",
    "\n",
    "Como iremos trabalhar apenas com áudio, podemos usar o parâmetro ```-x``` e ```--audio-format \"mp3\"``` para baixar somente a parte de áudio do vídeo do Youtube. \n",
    "\n",
    "```youtube-dl -x --audio-format \"mp3\" <video_url>```\n",
    "\n",
    "#### Lista de Vídeos de selecionados\n",
    "Serão analisados 5 discursos gravados em vídeo e disponibilizados publicamente no Youtube. Segue a descrição de cada um deles:\n",
    "\n",
    "A) [\"We shall never surrender\" de Winston Churchill](https://www.youtube.com/watch?v=s_LncVnecLA)\n",
    "Esse discurso histórico foi proferido pelo Primeiro Ministro Britânico Winston Churchill no dia 4 junho de 1940. Nele, o estadista aborda a situação crítica no qual se encontrava os aliados frente a invasão nazista na França e da batalha de Dunkirk.\n",
    "\n",
    "B) [\"40o Aniversário de Invasão da Normandia\", Ronald Reagan](https://www.youtube.com/watch?v=1Leb7ynduCU)\n",
    "No dia 6 de junho de 1984 Ronald Reagan, presidente americano em exercício na época, discursou na Normandia (França) em homenagem aos 40 anos do Dia-D. O discurso homenageou de forma marcante os soldados que morreram na batalha ao longo da costa norte francesa, e que de certa forma definiram o destino da Segunda Guerra, e consequentemente, da história moderna.\n",
    "\n",
    "C) [\"I have a dream\", Martin Luther King](https://www.youtube.com/watch?v=vP4iY1TtS3s&t=42s)\n",
    "Discurso do pastor Martin Luther King em 28 de agosto de 1963 durante a Marcha de Washington é considerado um dos mais importantes da história americana. Nele, Martin Luther King fala sobre a necessidade de se combater o racismo presente nos EUA na época e conclama uma coexistência harmoniosa em brancos e negros no futuro.\n",
    "\n",
    "D) [\"It's harder to be kind than clever\", Jeff Bezos](https://www.youtube.com/watch?v=uvzkujQFlxQ)\n",
    "Discurso do CEO da Amazon na formatura da Universidade de Princeton em 2010 fala sobre experiências pessoais na construção de seu caráter e decisões importantes na carreira. No momento alto do discurso Bezos diz que é mais difícil ser bom do que ser inteligente, mostrando um lado afetuoso de um dos grandes líderes de empresa da história.\n",
    "\n",
    "E) [\"Make good Art\", Neil Gaiman](https://www.youtube.com/watch?v=plWexCID-kA)\n",
    "Neil Gaiman coloca toda sua genialidade literária em um discurso desafiador na formatura da universidade de Artes da Filadélfia em 2012 e desafia os formandos a \"fazerem boa arte\" com coragem e paixão."
   ]
  },
  {
   "cell_type": "code",
   "execution_count": 3,
   "metadata": {},
   "outputs": [],
   "source": [
    "dict_urls_youtube = {\n",
    "    'churchill': 'https://www.youtube.com/watch?v=s_LncVnecLA',\n",
    "    'reagan': 'https://www.youtube.com/watch?v=1Leb7ynduCU',\n",
    "    'luther_king': 'https://www.youtube.com/watch?v=vP4iY1TtS3s&t=42s',\n",
    "    'bezos': 'https://www.youtube.com/watch?v=uvzkujQFlxQ',\n",
    "    'gaiman': 'https://www.youtube.com/watch?v=plWexCID-kA'}"
   ]
  },
  {
   "cell_type": "code",
   "execution_count": 4,
   "metadata": {},
   "outputs": [
    {
     "name": "stdout",
     "output_type": "stream",
     "text": [
      "Baixando arquivo de áudio do link: https://www.youtube.com/watch?v=s_LncVnecLA\n",
      "Baixando arquivo de áudio do link: https://www.youtube.com/watch?v=1Leb7ynduCU\n",
      "Baixando arquivo de áudio do link: https://www.youtube.com/watch?v=vP4iY1TtS3s&t=42s\n",
      "Baixando arquivo de áudio do link: https://www.youtube.com/watch?v=uvzkujQFlxQ\n",
      "Baixando arquivo de áudio do link: https://www.youtube.com/watch?v=plWexCID-kA\n"
     ]
    }
   ],
   "source": [
    "for url in list(dict_urls_youtube.values()):\n",
    "    print(f'Baixando arquivo de áudio do link: {url}')\n",
    "    os.system(f'youtube-dl -x --audio-format \"mp3\" {url}')"
   ]
  },
  {
   "cell_type": "code",
   "execution_count": 4,
   "metadata": {},
   "outputs": [
    {
     "data": {
      "text/html": [
       "<div>\n",
       "<style scoped>\n",
       "    .dataframe tbody tr th:only-of-type {\n",
       "        vertical-align: middle;\n",
       "    }\n",
       "\n",
       "    .dataframe tbody tr th {\n",
       "        vertical-align: top;\n",
       "    }\n",
       "\n",
       "    .dataframe thead th {\n",
       "        text-align: right;\n",
       "    }\n",
       "</style>\n",
       "<table border=\"1\" class=\"dataframe\">\n",
       "  <thead>\n",
       "    <tr style=\"text-align: right;\">\n",
       "      <th></th>\n",
       "      <th>youtube_urls</th>\n",
       "    </tr>\n",
       "  </thead>\n",
       "  <tbody>\n",
       "    <tr>\n",
       "      <th>churchill</th>\n",
       "      <td>https://www.youtube.com/watch?v=s_LncVnecLA</td>\n",
       "    </tr>\n",
       "    <tr>\n",
       "      <th>reagan</th>\n",
       "      <td>https://www.youtube.com/watch?v=1Leb7ynduCU</td>\n",
       "    </tr>\n",
       "    <tr>\n",
       "      <th>luther_king</th>\n",
       "      <td>https://www.youtube.com/watch?v=vP4iY1TtS3s&amp;t=42s</td>\n",
       "    </tr>\n",
       "    <tr>\n",
       "      <th>bezos</th>\n",
       "      <td>https://www.youtube.com/watch?v=uvzkujQFlxQ</td>\n",
       "    </tr>\n",
       "    <tr>\n",
       "      <th>gaiman</th>\n",
       "      <td>https://www.youtube.com/watch?v=plWexCID-kA</td>\n",
       "    </tr>\n",
       "  </tbody>\n",
       "</table>\n",
       "</div>"
      ],
      "text/plain": [
       "                                                  youtube_urls\n",
       "churchill          https://www.youtube.com/watch?v=s_LncVnecLA\n",
       "reagan             https://www.youtube.com/watch?v=1Leb7ynduCU\n",
       "luther_king  https://www.youtube.com/watch?v=vP4iY1TtS3s&t=42s\n",
       "bezos              https://www.youtube.com/watch?v=uvzkujQFlxQ\n",
       "gaiman             https://www.youtube.com/watch?v=plWexCID-kA"
      ]
     },
     "execution_count": 4,
     "metadata": {},
     "output_type": "execute_result"
    }
   ],
   "source": [
    "# Criar um Dataframe para guardar as informações geradas ao longo da análise\n",
    "df_audio = pd.DataFrame.from_dict(dict_urls_youtube, orient='index', columns=['youtube_urls'])\n",
    "df_audio"
   ]
  },
  {
   "cell_type": "code",
   "execution_count": 5,
   "metadata": {},
   "outputs": [],
   "source": [
    "# Atribuindo nome do arquivo baixado a cada autor do discurso\n",
    "for audio_file in os.listdir('.'):\n",
    "    if 'churchill' in audio_file.lower():\n",
    "        df_audio.at['churchill','filename'] = audio_file\n",
    "    elif 'reagan' in audio_file.lower():\n",
    "        df_audio.at['reagan', 'filename'] = audio_file\n",
    "    elif 'king' in audio_file.lower():\n",
    "        df_audio.at['luther_king', 'filename'] = audio_file\n",
    "    elif 'bezos' in audio_file.lower():\n",
    "        df_audio.at['bezos', 'filename'] = audio_file\n",
    "    elif 'gaiman' in audio_file.lower():\n",
    "        df_audio.at['gaiman', 'filename'] = audio_file"
   ]
  },
  {
   "cell_type": "code",
   "execution_count": 6,
   "metadata": {},
   "outputs": [
    {
     "data": {
      "text/html": [
       "<div>\n",
       "<style scoped>\n",
       "    .dataframe tbody tr th:only-of-type {\n",
       "        vertical-align: middle;\n",
       "    }\n",
       "\n",
       "    .dataframe tbody tr th {\n",
       "        vertical-align: top;\n",
       "    }\n",
       "\n",
       "    .dataframe thead th {\n",
       "        text-align: right;\n",
       "    }\n",
       "</style>\n",
       "<table border=\"1\" class=\"dataframe\">\n",
       "  <thead>\n",
       "    <tr style=\"text-align: right;\">\n",
       "      <th></th>\n",
       "      <th>youtube_urls</th>\n",
       "      <th>filename</th>\n",
       "    </tr>\n",
       "  </thead>\n",
       "  <tbody>\n",
       "    <tr>\n",
       "      <th>churchill</th>\n",
       "      <td>https://www.youtube.com/watch?v=s_LncVnecLA</td>\n",
       "      <td>WE SHALL NEVER SURRENDER speech by Winston Chu...</td>\n",
       "    </tr>\n",
       "    <tr>\n",
       "      <th>reagan</th>\n",
       "      <td>https://www.youtube.com/watch?v=1Leb7ynduCU</td>\n",
       "      <td>Normandy Speech - President Reagan's Address C...</td>\n",
       "    </tr>\n",
       "    <tr>\n",
       "      <th>luther_king</th>\n",
       "      <td>https://www.youtube.com/watch?v=vP4iY1TtS3s&amp;t=42s</td>\n",
       "      <td>I Have a Dream speech by Martin Luther King .J...</td>\n",
       "    </tr>\n",
       "    <tr>\n",
       "      <th>bezos</th>\n",
       "      <td>https://www.youtube.com/watch?v=uvzkujQFlxQ</td>\n",
       "      <td>Amazon founder Jeff Bezos delivers speech at P...</td>\n",
       "    </tr>\n",
       "    <tr>\n",
       "      <th>gaiman</th>\n",
       "      <td>https://www.youtube.com/watch?v=plWexCID-kA</td>\n",
       "      <td>Neil Gaiman 2012 Commencement Speech 'Make Goo...</td>\n",
       "    </tr>\n",
       "  </tbody>\n",
       "</table>\n",
       "</div>"
      ],
      "text/plain": [
       "                                                  youtube_urls  \\\n",
       "churchill          https://www.youtube.com/watch?v=s_LncVnecLA   \n",
       "reagan             https://www.youtube.com/watch?v=1Leb7ynduCU   \n",
       "luther_king  https://www.youtube.com/watch?v=vP4iY1TtS3s&t=42s   \n",
       "bezos              https://www.youtube.com/watch?v=uvzkujQFlxQ   \n",
       "gaiman             https://www.youtube.com/watch?v=plWexCID-kA   \n",
       "\n",
       "                                                      filename  \n",
       "churchill    WE SHALL NEVER SURRENDER speech by Winston Chu...  \n",
       "reagan       Normandy Speech - President Reagan's Address C...  \n",
       "luther_king  I Have a Dream speech by Martin Luther King .J...  \n",
       "bezos        Amazon founder Jeff Bezos delivers speech at P...  \n",
       "gaiman       Neil Gaiman 2012 Commencement Speech 'Make Goo...  "
      ]
     },
     "execution_count": 6,
     "metadata": {},
     "output_type": "execute_result"
    }
   ],
   "source": [
    "df_audio"
   ]
  },
  {
   "cell_type": "markdown",
   "metadata": {},
   "source": [
    "### Configurando o AWS CLI pelo terminal\n",
    "Para trabalhar com o boto3, você deve instalar o ```awscli```\n",
    "```\n",
    "$ pip install awscli --upgrade --user\n",
    "```\n",
    "\n",
    "E em seguida configurá-lo com as suas credenciais da AWS\n",
    "\n",
    "```\n",
    "aws configure\n",
    "```\n",
    "\n",
    "E definir os seguintes valores:\n",
    "\n",
    "```\n",
    "AWS Access Key ID [****************DNYA]: \n",
    "AWS Secret Access Key [****************oEG/]: \n",
    "Default region name [us-east-1]: \n",
    "Default output format [json]:\n",
    "```\n",
    "\n",
    "\n",
    "\n",
    "\n"
   ]
  },
  {
   "cell_type": "code",
   "execution_count": null,
   "metadata": {},
   "outputs": [],
   "source": [
    "# Definir a AZ respectiva da AWS\n",
    "boto3.setup_default_session(region_name='us-east-1')"
   ]
  },
  {
   "cell_type": "code",
   "execution_count": 7,
   "metadata": {},
   "outputs": [
    {
     "name": "stdout",
     "output_type": "stream",
     "text": [
      "aws-deepracer-35d06d75-1bdf-410f-8544-4675a95e89e2\n",
      "aws-sam-cli-gsg\n",
      "dnanexus-backup-gsg\n",
      "elasticbeanstalk-us-east-1-089951219780\n",
      "grupy-nlp-aws\n",
      "little-thomas-assets\n",
      "medium-lambda-tutorial-bucket\n",
      "regis-media\n",
      "stackery-assetsbucket-p8b8xq12o1re\n",
      "udacity-secure-and-pivate-ai-project\n",
      "vision-pmp\n"
     ]
    }
   ],
   "source": [
    "# Subindo os arquivos para o S3\n",
    "# Criar um cliente S3\n",
    "s3 = boto3.client('s3')\n",
    "\n",
    "# Buscar lista de buckets no S3\n",
    "response = s3.list_buckets()\n",
    "\n",
    "# Organizar a resposta em uma lista\n",
    "buckets = [bucket['Name'] for bucket in response['Buckets']]\n",
    "\n",
    "for bucket in buckets:\n",
    "    print(bucket)\n",
    "#print(\"Bucket List: %s\" % buckets)"
   ]
  },
  {
   "cell_type": "code",
   "execution_count": 8,
   "metadata": {},
   "outputs": [],
   "source": [
    "# Criando um novo bucket para subir os arquivos\n",
    "bucket_name = 'grupy-nlp-aws'\n",
    "try:\n",
    "    s3 = boto3.client('s3')\n",
    "    s3.create_bucket(Bucket=bucket_name)\n",
    "except:\n",
    "    print('Bucket com o mesmo nome já criado.')"
   ]
  },
  {
   "cell_type": "code",
   "execution_count": null,
   "metadata": {},
   "outputs": [],
   "source": [
    "df_audio"
   ]
  },
  {
   "cell_type": "code",
   "execution_count": 11,
   "metadata": {
    "scrolled": true
   },
   "outputs": [
    {
     "name": "stdout",
     "output_type": "stream",
     "text": [
      "WE SHALL NEVER SURRENDER speech by Winston Churchill (We Shall Fight on the Beaches)-s_LncVnecLA.mp3\n",
      "Normandy Speech - President Reagan's Address Commemorating 40th Anniversary of Normandy_D-Day  6_6_84-1Leb7ynduCU.mp3\n",
      "I Have a Dream speech by Martin Luther King .Jr HD (subtitled) (Remastered)-vP4iY1TtS3s.mp3\n",
      "Amazon founder Jeff Bezos delivers speech at Princeton University - Engsub-uvzkujQFlxQ.mp3\n",
      "Neil Gaiman 2012 Commencement Speech 'Make Good Art'-plWexCID-kA.mp3\n"
     ]
    }
   ],
   "source": [
    "df_audiobindo os arquivos de audio para o bucket s3 criado\n",
    "for audio_file in df_audio.filename.values:\n",
    "    print(audio_file)\n",
    "    s3.upload_file(audio_file, bucket_name, audio_file)\n",
    "    #boto3.resource('s3').ObjectAcl(bucket_name,audio_file).put(ACL='public-read')"
   ]
  },
  {
   "cell_type": "code",
   "execution_count": 9,
   "metadata": {},
   "outputs": [
    {
     "data": {
      "text/html": [
       "<div>\n",
       "<style scoped>\n",
       "    .dataframe tbody tr th:only-of-type {\n",
       "        vertical-align: middle;\n",
       "    }\n",
       "\n",
       "    .dataframe tbody tr th {\n",
       "        vertical-align: top;\n",
       "    }\n",
       "\n",
       "    .dataframe thead th {\n",
       "        text-align: right;\n",
       "    }\n",
       "</style>\n",
       "<table border=\"1\" class=\"dataframe\">\n",
       "  <thead>\n",
       "    <tr style=\"text-align: right;\">\n",
       "      <th></th>\n",
       "      <th>youtube_urls</th>\n",
       "      <th>filename</th>\n",
       "    </tr>\n",
       "  </thead>\n",
       "  <tbody>\n",
       "    <tr>\n",
       "      <th>churchill</th>\n",
       "      <td>https://www.youtube.com/watch?v=s_LncVnecLA</td>\n",
       "      <td>WE SHALL NEVER SURRENDER speech by Winston Chu...</td>\n",
       "    </tr>\n",
       "    <tr>\n",
       "      <th>reagan</th>\n",
       "      <td>https://www.youtube.com/watch?v=1Leb7ynduCU</td>\n",
       "      <td>Normandy Speech - President Reagan's Address C...</td>\n",
       "    </tr>\n",
       "    <tr>\n",
       "      <th>luther_king</th>\n",
       "      <td>https://www.youtube.com/watch?v=vP4iY1TtS3s&amp;t=42s</td>\n",
       "      <td>I Have a Dream speech by Martin Luther King .J...</td>\n",
       "    </tr>\n",
       "    <tr>\n",
       "      <th>bezos</th>\n",
       "      <td>https://www.youtube.com/watch?v=uvzkujQFlxQ</td>\n",
       "      <td>Amazon founder Jeff Bezos delivers speech at P...</td>\n",
       "    </tr>\n",
       "    <tr>\n",
       "      <th>gaiman</th>\n",
       "      <td>https://www.youtube.com/watch?v=plWexCID-kA</td>\n",
       "      <td>Neil Gaiman 2012 Commencement Speech 'Make Goo...</td>\n",
       "    </tr>\n",
       "  </tbody>\n",
       "</table>\n",
       "</div>"
      ],
      "text/plain": [
       "                                                  youtube_urls  \\\n",
       "churchill          https://www.youtube.com/watch?v=s_LncVnecLA   \n",
       "reagan             https://www.youtube.com/watch?v=1Leb7ynduCU   \n",
       "luther_king  https://www.youtube.com/watch?v=vP4iY1TtS3s&t=42s   \n",
       "bezos              https://www.youtube.com/watch?v=uvzkujQFlxQ   \n",
       "gaiman             https://www.youtube.com/watch?v=plWexCID-kA   \n",
       "\n",
       "                                                      filename  \n",
       "churchill    WE SHALL NEVER SURRENDER speech by Winston Chu...  \n",
       "reagan       Normandy Speech - President Reagan's Address C...  \n",
       "luther_king  I Have a Dream speech by Martin Luther King .J...  \n",
       "bezos        Amazon founder Jeff Bezos delivers speech at P...  \n",
       "gaiman       Neil Gaiman 2012 Commencement Speech 'Make Goo...  "
      ]
     },
     "execution_count": 9,
     "metadata": {},
     "output_type": "execute_result"
    }
   ],
   "source": [
    "df_audio"
   ]
  },
  {
   "cell_type": "code",
   "execution_count": 15,
   "metadata": {
    "scrolled": true
   },
   "outputs": [
    {
     "name": "stdout",
     "output_type": "stream",
     "text": [
      "https://grupy-nlp-aws.s3.amazonaws.com/WE+SHALL+NEVER+SURRENDER+speech+by+Winston+Churchill+(We+Shall+Fight+on+the+Beaches)-s_LncVnecLA.mp3\n",
      "https://grupy-nlp-aws.s3.amazonaws.com/Normandy+Speech+-+President+Reagan's+Address+Commemorating+40th+Anniversary+of+Normandy_D-Day++6_6_84-1Leb7ynduCU.mp3\n",
      "https://grupy-nlp-aws.s3.amazonaws.com/I+Have+a+Dream+speech+by+Martin+Luther+King+.Jr+HD+(subtitled)+(Remastered)-vP4iY1TtS3s.mp3\n",
      "https://grupy-nlp-aws.s3.amazonaws.com/Amazon+founder+Jeff+Bezos+delivers+speech+at+Princeton+University+-+Engsub-uvzkujQFlxQ.mp3\n",
      "https://grupy-nlp-aws.s3.amazonaws.com/Neil+Gaiman+2012+Commencement+Speech+'Make+Good+Art'-plWexCID-kA.mp3\n"
     ]
    }
   ],
   "source": [
    "# Definir as URLs dos arquivos no S3 em uma nova coluna no Dataframe\n",
    "for index, row in df_audio.iterrows():\n",
    "    bucket_location = boto3.client('s3').get_bucket_location(Bucket=bucket_name)\n",
    "    object_url = f\"https://{bucket_name}.s3.amazonaws.com/{row['filename'].replace(' ', '+')}\"\n",
    "    df_audio.at[index, 'url'] = object_url\n",
    "    print(object_url)"
   ]
  },
  {
   "cell_type": "code",
   "execution_count": 29,
   "metadata": {},
   "outputs": [
    {
     "data": {
      "text/html": [
       "<div>\n",
       "<style scoped>\n",
       "    .dataframe tbody tr th:only-of-type {\n",
       "        vertical-align: middle;\n",
       "    }\n",
       "\n",
       "    .dataframe tbody tr th {\n",
       "        vertical-align: top;\n",
       "    }\n",
       "\n",
       "    .dataframe thead th {\n",
       "        text-align: right;\n",
       "    }\n",
       "</style>\n",
       "<table border=\"1\" class=\"dataframe\">\n",
       "  <thead>\n",
       "    <tr style=\"text-align: right;\">\n",
       "      <th></th>\n",
       "      <th>youtube_urls</th>\n",
       "      <th>filename</th>\n",
       "      <th>url</th>\n",
       "    </tr>\n",
       "  </thead>\n",
       "  <tbody>\n",
       "    <tr>\n",
       "      <th>churchill</th>\n",
       "      <td>https://www.youtube.com/watch?v=s_LncVnecLA</td>\n",
       "      <td>WE SHALL NEVER SURRENDER speech by Winston Chu...</td>\n",
       "      <td>https://grupy-nlp-aws.s3.amazonaws.com/WE+SHAL...</td>\n",
       "    </tr>\n",
       "    <tr>\n",
       "      <th>reagan</th>\n",
       "      <td>https://www.youtube.com/watch?v=1Leb7ynduCU</td>\n",
       "      <td>Normandy Speech - President Reagan's Address C...</td>\n",
       "      <td>https://grupy-nlp-aws.s3.amazonaws.com/Normand...</td>\n",
       "    </tr>\n",
       "    <tr>\n",
       "      <th>luther_king</th>\n",
       "      <td>https://www.youtube.com/watch?v=vP4iY1TtS3s&amp;t=42s</td>\n",
       "      <td>I Have a Dream speech by Martin Luther King .J...</td>\n",
       "      <td>https://grupy-nlp-aws.s3.amazonaws.com/I+Have+...</td>\n",
       "    </tr>\n",
       "    <tr>\n",
       "      <th>bezos</th>\n",
       "      <td>https://www.youtube.com/watch?v=uvzkujQFlxQ</td>\n",
       "      <td>Amazon founder Jeff Bezos delivers speech at P...</td>\n",
       "      <td>https://grupy-nlp-aws.s3.amazonaws.com/Amazon+...</td>\n",
       "    </tr>\n",
       "    <tr>\n",
       "      <th>gaiman</th>\n",
       "      <td>https://www.youtube.com/watch?v=plWexCID-kA</td>\n",
       "      <td>Neil Gaiman 2012 Commencement Speech 'Make Goo...</td>\n",
       "      <td>https://grupy-nlp-aws.s3.amazonaws.com/Neil+Ga...</td>\n",
       "    </tr>\n",
       "  </tbody>\n",
       "</table>\n",
       "</div>"
      ],
      "text/plain": [
       "                                                  youtube_urls  \\\n",
       "churchill          https://www.youtube.com/watch?v=s_LncVnecLA   \n",
       "reagan             https://www.youtube.com/watch?v=1Leb7ynduCU   \n",
       "luther_king  https://www.youtube.com/watch?v=vP4iY1TtS3s&t=42s   \n",
       "bezos              https://www.youtube.com/watch?v=uvzkujQFlxQ   \n",
       "gaiman             https://www.youtube.com/watch?v=plWexCID-kA   \n",
       "\n",
       "                                                      filename  \\\n",
       "churchill    WE SHALL NEVER SURRENDER speech by Winston Chu...   \n",
       "reagan       Normandy Speech - President Reagan's Address C...   \n",
       "luther_king  I Have a Dream speech by Martin Luther King .J...   \n",
       "bezos        Amazon founder Jeff Bezos delivers speech at P...   \n",
       "gaiman       Neil Gaiman 2012 Commencement Speech 'Make Goo...   \n",
       "\n",
       "                                                           url  \n",
       "churchill    https://grupy-nlp-aws.s3.amazonaws.com/WE+SHAL...  \n",
       "reagan       https://grupy-nlp-aws.s3.amazonaws.com/Normand...  \n",
       "luther_king  https://grupy-nlp-aws.s3.amazonaws.com/I+Have+...  \n",
       "bezos        https://grupy-nlp-aws.s3.amazonaws.com/Amazon+...  \n",
       "gaiman       https://grupy-nlp-aws.s3.amazonaws.com/Neil+Ga...  "
      ]
     },
     "execution_count": 29,
     "metadata": {},
     "output_type": "execute_result"
    }
   ],
   "source": [
    "df_audio"
   ]
  },
  {
   "cell_type": "code",
   "execution_count": 17,
   "metadata": {},
   "outputs": [],
   "source": [
    "# Definir uma função para disparar o serviço Amazon Transcribe\n",
    "def start_transcription(bucket, job_name, file_url, wait_process=True):\n",
    "    client_transcribe = boto3.client('transcribe')\n",
    "    client_transcribe.start_transcription_job(\n",
    "        TranscriptionJobName=job_name,\n",
    "        Media={'MediaFileUri': file_url},\n",
    "        MediaFormat='mp3',\n",
    "        LanguageCode='en-US',\n",
    "        OutputBucketName=bucket)\n",
    "    if wait_process:\n",
    "        while True:\n",
    "            status = client_transcribe.get_transcription_job(TranscriptionJobName=job_name)\n",
    "            if status['TranscriptionJob']['TranscriptionJobStatus'] in ['COMPLETED', 'FAILED']:\n",
    "                break\n",
    "            print(\"Not ready yet...\")\n",
    "            time.sleep(20)\n",
    "\n",
    "        print('Transcription finished')\n",
    "        return status\n",
    "    "
   ]
  },
  {
   "cell_type": "code",
   "execution_count": 22,
   "metadata": {},
   "outputs": [
    {
     "data": {
      "text/html": [
       "<div>\n",
       "<style scoped>\n",
       "    .dataframe tbody tr th:only-of-type {\n",
       "        vertical-align: middle;\n",
       "    }\n",
       "\n",
       "    .dataframe tbody tr th {\n",
       "        vertical-align: top;\n",
       "    }\n",
       "\n",
       "    .dataframe thead th {\n",
       "        text-align: right;\n",
       "    }\n",
       "</style>\n",
       "<table border=\"1\" class=\"dataframe\">\n",
       "  <thead>\n",
       "    <tr style=\"text-align: right;\">\n",
       "      <th></th>\n",
       "      <th>youtube_urls</th>\n",
       "      <th>filename</th>\n",
       "      <th>url</th>\n",
       "    </tr>\n",
       "  </thead>\n",
       "  <tbody>\n",
       "    <tr>\n",
       "      <th>churchill</th>\n",
       "      <td>https://www.youtube.com/watch?v=s_LncVnecLA</td>\n",
       "      <td>WE SHALL NEVER SURRENDER speech by Winston Chu...</td>\n",
       "      <td>https://grupy-nlp-aws.s3.amazonaws.com/WE+SHAL...</td>\n",
       "    </tr>\n",
       "    <tr>\n",
       "      <th>reagan</th>\n",
       "      <td>https://www.youtube.com/watch?v=1Leb7ynduCU</td>\n",
       "      <td>Normandy Speech - President Reagan's Address C...</td>\n",
       "      <td>https://grupy-nlp-aws.s3.amazonaws.com/Normand...</td>\n",
       "    </tr>\n",
       "    <tr>\n",
       "      <th>luther_king</th>\n",
       "      <td>https://www.youtube.com/watch?v=vP4iY1TtS3s&amp;t=42s</td>\n",
       "      <td>I Have a Dream speech by Martin Luther King .J...</td>\n",
       "      <td>https://grupy-nlp-aws.s3.amazonaws.com/I+Have+...</td>\n",
       "    </tr>\n",
       "    <tr>\n",
       "      <th>bezos</th>\n",
       "      <td>https://www.youtube.com/watch?v=uvzkujQFlxQ</td>\n",
       "      <td>Amazon founder Jeff Bezos delivers speech at P...</td>\n",
       "      <td>https://grupy-nlp-aws.s3.amazonaws.com/Amazon+...</td>\n",
       "    </tr>\n",
       "    <tr>\n",
       "      <th>gaiman</th>\n",
       "      <td>https://www.youtube.com/watch?v=plWexCID-kA</td>\n",
       "      <td>Neil Gaiman 2012 Commencement Speech 'Make Goo...</td>\n",
       "      <td>https://grupy-nlp-aws.s3.amazonaws.com/Neil+Ga...</td>\n",
       "    </tr>\n",
       "  </tbody>\n",
       "</table>\n",
       "</div>"
      ],
      "text/plain": [
       "                                                  youtube_urls  \\\n",
       "churchill          https://www.youtube.com/watch?v=s_LncVnecLA   \n",
       "reagan             https://www.youtube.com/watch?v=1Leb7ynduCU   \n",
       "luther_king  https://www.youtube.com/watch?v=vP4iY1TtS3s&t=42s   \n",
       "bezos              https://www.youtube.com/watch?v=uvzkujQFlxQ   \n",
       "gaiman             https://www.youtube.com/watch?v=plWexCID-kA   \n",
       "\n",
       "                                                      filename  \\\n",
       "churchill    WE SHALL NEVER SURRENDER speech by Winston Chu...   \n",
       "reagan       Normandy Speech - President Reagan's Address C...   \n",
       "luther_king  I Have a Dream speech by Martin Luther King .J...   \n",
       "bezos        Amazon founder Jeff Bezos delivers speech at P...   \n",
       "gaiman       Neil Gaiman 2012 Commencement Speech 'Make Goo...   \n",
       "\n",
       "                                                           url  \n",
       "churchill    https://grupy-nlp-aws.s3.amazonaws.com/WE+SHAL...  \n",
       "reagan       https://grupy-nlp-aws.s3.amazonaws.com/Normand...  \n",
       "luther_king  https://grupy-nlp-aws.s3.amazonaws.com/I+Have+...  \n",
       "bezos        https://grupy-nlp-aws.s3.amazonaws.com/Amazon+...  \n",
       "gaiman       https://grupy-nlp-aws.s3.amazonaws.com/Neil+Ga...  "
      ]
     },
     "execution_count": 22,
     "metadata": {},
     "output_type": "execute_result"
    }
   ],
   "source": [
    "df_audio"
   ]
  },
  {
   "cell_type": "code",
   "execution_count": 131,
   "metadata": {},
   "outputs": [
    {
     "name": "stdout",
     "output_type": "stream",
     "text": [
      "churchill_speech_29082019\n",
      "reagan_speech_29082019\n",
      "luther_king_speech_29082019\n",
      "bezos_speech_29082019\n",
      "gaiman_speech_29082019\n"
     ]
    }
   ],
   "source": [
    "# Definir a data de hoje para usar no nome dos jobs\n",
    "today = date.today().strftime(\"%d%m%Y\")\n",
    "\n",
    "# Iterar pelos arquivos de audio no bucket S3 e disparar os jobs no Transcribe\n",
    "for index, row in df_audio.iterrows():\n",
    "    print(f'{index}_speech_{today}')\n",
    "    start_transcription(bucket_name, f'{index}_speech_{today}', row.url, wait_process=False)\n",
    "    df_audio.at[index, 'transcription_url'] = f\"https://{bucket_name}.s3.amazonaws.com/{index}_speech_{today}\"\n",
    "    df_audio.at[index, 'json_transcrition'] = f\"{index}_speech_{today}.json\""
   ]
  },
  {
   "cell_type": "code",
   "execution_count": 132,
   "metadata": {},
   "outputs": [
    {
     "data": {
      "text/html": [
       "<div>\n",
       "<style scoped>\n",
       "    .dataframe tbody tr th:only-of-type {\n",
       "        vertical-align: middle;\n",
       "    }\n",
       "\n",
       "    .dataframe tbody tr th {\n",
       "        vertical-align: top;\n",
       "    }\n",
       "\n",
       "    .dataframe thead th {\n",
       "        text-align: right;\n",
       "    }\n",
       "</style>\n",
       "<table border=\"1\" class=\"dataframe\">\n",
       "  <thead>\n",
       "    <tr style=\"text-align: right;\">\n",
       "      <th></th>\n",
       "      <th>youtube_urls</th>\n",
       "      <th>filename</th>\n",
       "      <th>url</th>\n",
       "      <th>transcription_url</th>\n",
       "      <th>json_transcrition</th>\n",
       "    </tr>\n",
       "  </thead>\n",
       "  <tbody>\n",
       "    <tr>\n",
       "      <th>churchill</th>\n",
       "      <td>https://www.youtube.com/watch?v=s_LncVnecLA</td>\n",
       "      <td>WE SHALL NEVER SURRENDER speech by Winston Chu...</td>\n",
       "      <td>https://grupy-nlp-aws.s3.amazonaws.com/WE+SHAL...</td>\n",
       "      <td>https://grupy-nlp-aws.s3.amazonaws.com/churchi...</td>\n",
       "      <td>churchill_speech_29082019.json</td>\n",
       "    </tr>\n",
       "    <tr>\n",
       "      <th>reagan</th>\n",
       "      <td>https://www.youtube.com/watch?v=1Leb7ynduCU</td>\n",
       "      <td>Normandy Speech - President Reagan's Address C...</td>\n",
       "      <td>https://grupy-nlp-aws.s3.amazonaws.com/Normand...</td>\n",
       "      <td>https://grupy-nlp-aws.s3.amazonaws.com/reagan_...</td>\n",
       "      <td>reagan_speech_29082019.json</td>\n",
       "    </tr>\n",
       "    <tr>\n",
       "      <th>luther_king</th>\n",
       "      <td>https://www.youtube.com/watch?v=vP4iY1TtS3s&amp;t=42s</td>\n",
       "      <td>I Have a Dream speech by Martin Luther King .J...</td>\n",
       "      <td>https://grupy-nlp-aws.s3.amazonaws.com/I+Have+...</td>\n",
       "      <td>https://grupy-nlp-aws.s3.amazonaws.com/luther_...</td>\n",
       "      <td>luther_king_speech_29082019.json</td>\n",
       "    </tr>\n",
       "    <tr>\n",
       "      <th>bezos</th>\n",
       "      <td>https://www.youtube.com/watch?v=uvzkujQFlxQ</td>\n",
       "      <td>Amazon founder Jeff Bezos delivers speech at P...</td>\n",
       "      <td>https://grupy-nlp-aws.s3.amazonaws.com/Amazon+...</td>\n",
       "      <td>https://grupy-nlp-aws.s3.amazonaws.com/bezos_s...</td>\n",
       "      <td>bezos_speech_29082019.json</td>\n",
       "    </tr>\n",
       "    <tr>\n",
       "      <th>gaiman</th>\n",
       "      <td>https://www.youtube.com/watch?v=plWexCID-kA</td>\n",
       "      <td>Neil Gaiman 2012 Commencement Speech 'Make Goo...</td>\n",
       "      <td>https://grupy-nlp-aws.s3.amazonaws.com/Neil+Ga...</td>\n",
       "      <td>https://grupy-nlp-aws.s3.amazonaws.com/gaiman_...</td>\n",
       "      <td>gaiman_speech_29082019.json</td>\n",
       "    </tr>\n",
       "  </tbody>\n",
       "</table>\n",
       "</div>"
      ],
      "text/plain": [
       "                                                  youtube_urls  \\\n",
       "churchill          https://www.youtube.com/watch?v=s_LncVnecLA   \n",
       "reagan             https://www.youtube.com/watch?v=1Leb7ynduCU   \n",
       "luther_king  https://www.youtube.com/watch?v=vP4iY1TtS3s&t=42s   \n",
       "bezos              https://www.youtube.com/watch?v=uvzkujQFlxQ   \n",
       "gaiman             https://www.youtube.com/watch?v=plWexCID-kA   \n",
       "\n",
       "                                                      filename  \\\n",
       "churchill    WE SHALL NEVER SURRENDER speech by Winston Chu...   \n",
       "reagan       Normandy Speech - President Reagan's Address C...   \n",
       "luther_king  I Have a Dream speech by Martin Luther King .J...   \n",
       "bezos        Amazon founder Jeff Bezos delivers speech at P...   \n",
       "gaiman       Neil Gaiman 2012 Commencement Speech 'Make Goo...   \n",
       "\n",
       "                                                           url  \\\n",
       "churchill    https://grupy-nlp-aws.s3.amazonaws.com/WE+SHAL...   \n",
       "reagan       https://grupy-nlp-aws.s3.amazonaws.com/Normand...   \n",
       "luther_king  https://grupy-nlp-aws.s3.amazonaws.com/I+Have+...   \n",
       "bezos        https://grupy-nlp-aws.s3.amazonaws.com/Amazon+...   \n",
       "gaiman       https://grupy-nlp-aws.s3.amazonaws.com/Neil+Ga...   \n",
       "\n",
       "                                             transcription_url  \\\n",
       "churchill    https://grupy-nlp-aws.s3.amazonaws.com/churchi...   \n",
       "reagan       https://grupy-nlp-aws.s3.amazonaws.com/reagan_...   \n",
       "luther_king  https://grupy-nlp-aws.s3.amazonaws.com/luther_...   \n",
       "bezos        https://grupy-nlp-aws.s3.amazonaws.com/bezos_s...   \n",
       "gaiman       https://grupy-nlp-aws.s3.amazonaws.com/gaiman_...   \n",
       "\n",
       "                            json_transcrition  \n",
       "churchill      churchill_speech_29082019.json  \n",
       "reagan            reagan_speech_29082019.json  \n",
       "luther_king  luther_king_speech_29082019.json  \n",
       "bezos              bezos_speech_29082019.json  \n",
       "gaiman            gaiman_speech_29082019.json  "
      ]
     },
     "execution_count": 132,
     "metadata": {},
     "output_type": "execute_result"
    }
   ],
   "source": [
    "df_audio"
   ]
  },
  {
   "cell_type": "code",
   "execution_count": 32,
   "metadata": {},
   "outputs": [
    {
     "data": {
      "text/plain": [
       "{'Status': 'COMPLETED',\n",
       " 'NextToken': '3/Q22yZ4n/FldYqPp92GoX3ADk9mPfsO3qZo9qhrTcT1AIMpJT1kTo3E1HAYj6CNHbs9w2RWNhpdyVNX6AXq87WJO3tmrjnhME3D8VLKCsKotw3jMJUBWzGWAUjx/PONNqJeda9KqJLMUIh6pprwxVdN47TKNgRLqpxMuJUzl+Xe1Hd9Lx7eg3LzHujCZnsNFrPUf84hA7pvqEoDcfvpaLoD+N3rTrYKtO9RH1x9abd8iLhyugQFwyMn4l4Ab7idr/7/zDRxNIIc7e/X+JhTDUjDs/8pZUDl46HDo4huUkPR2ioblCWsTwxEgG2o5Xn1Mi54uI3EjLeM/gfSQn9fRiKoA65vIt1CKXRfghURJrx3iiT95pvFOMwg05keD1u7nbA8GMHkzwI+W4yVJzenHLWTUUkXaYVJvFUuiq/gQD1r3H/LLsen5wy5I8Yf5wPTYaNwRMJaNWHTWYyqCHnZDsb6sho8ZaDwMnfQo4mX/aCDUO9w4/zLAQBPOtNEmccBHkIAcXZmHY/q7oBkX/SSCdXGWecKSJgL1fIMkFtAct3oystMBneko1fzn4oyBh01nn1mfyiu2nLtTuS2jP+inXRzAbhu+15pO089ypWgWdE3ZaePVlpCpz2hwW2/8ICMNM2ftUQsCJbZAPupI/YcZCTsVvn0HGJSEmLq9/nut2ctanYNtsw2ZhLBR9Mwxa8V/aArNTPjhfMuyqHdVWyOnx7WlyHIeWbBZ4Co70K5ZlzE1xgqqMz9XL/uz0X4ofZYv0jZg3M4aAvYal9Cox/SLSii3MLo6XJ2NNg1Uq9mtPM9QB2zV0tlgYq0LUS4Ir10VkNaGQGD43wPdoXN1cRPGS037ONm4GOPDNqbdQAUnpZXURRldYddjUkQ3e4xprF/zTFOm27Irh',\n",
       " 'TranscriptionJobSummaries': [{'TranscriptionJobName': 'gaiman_speech_28082019',\n",
       "   'CreationTime': datetime.datetime(2019, 8, 28, 23, 10, 29, 631000, tzinfo=tzlocal()),\n",
       "   'CompletionTime': datetime.datetime(2019, 8, 28, 23, 14, 0, 704000, tzinfo=tzlocal()),\n",
       "   'LanguageCode': 'en-US',\n",
       "   'TranscriptionJobStatus': 'COMPLETED',\n",
       "   'OutputLocationType': 'CUSTOMER_BUCKET'},\n",
       "  {'TranscriptionJobName': 'bezos_speech_28082019',\n",
       "   'CreationTime': datetime.datetime(2019, 8, 28, 23, 10, 28, 834000, tzinfo=tzlocal()),\n",
       "   'CompletionTime': datetime.datetime(2019, 8, 28, 23, 12, 17, 58000, tzinfo=tzlocal()),\n",
       "   'LanguageCode': 'en-US',\n",
       "   'TranscriptionJobStatus': 'COMPLETED',\n",
       "   'OutputLocationType': 'CUSTOMER_BUCKET'},\n",
       "  {'TranscriptionJobName': 'luther_king_speech_28082019',\n",
       "   'CreationTime': datetime.datetime(2019, 8, 28, 23, 10, 28, 38000, tzinfo=tzlocal()),\n",
       "   'CompletionTime': datetime.datetime(2019, 8, 28, 23, 13, 54, 987000, tzinfo=tzlocal()),\n",
       "   'LanguageCode': 'en-US',\n",
       "   'TranscriptionJobStatus': 'COMPLETED',\n",
       "   'OutputLocationType': 'CUSTOMER_BUCKET'},\n",
       "  {'TranscriptionJobName': 'reagan_speech_28082019',\n",
       "   'CreationTime': datetime.datetime(2019, 8, 28, 23, 10, 27, 126000, tzinfo=tzlocal()),\n",
       "   'CompletionTime': datetime.datetime(2019, 8, 28, 23, 12, 14, 421000, tzinfo=tzlocal()),\n",
       "   'LanguageCode': 'en-US',\n",
       "   'TranscriptionJobStatus': 'COMPLETED',\n",
       "   'OutputLocationType': 'CUSTOMER_BUCKET'},\n",
       "  {'TranscriptionJobName': 'churchill_speech_28082019',\n",
       "   'CreationTime': datetime.datetime(2019, 8, 28, 23, 10, 25, 966000, tzinfo=tzlocal()),\n",
       "   'CompletionTime': datetime.datetime(2019, 8, 28, 23, 13, 33, 922000, tzinfo=tzlocal()),\n",
       "   'LanguageCode': 'en-US',\n",
       "   'TranscriptionJobStatus': 'COMPLETED',\n",
       "   'OutputLocationType': 'CUSTOMER_BUCKET'}],\n",
       " 'ResponseMetadata': {'RequestId': 'e33b8700-c543-413f-b4c9-a013ed139ae2',\n",
       "  'HTTPStatusCode': 200,\n",
       "  'HTTPHeaders': {'content-type': 'application/x-amz-json-1.1',\n",
       "   'date': 'Thu, 29 Aug 2019 02:18:27 GMT',\n",
       "   'x-amzn-requestid': 'e33b8700-c543-413f-b4c9-a013ed139ae2',\n",
       "   'content-length': '2055',\n",
       "   'connection': 'keep-alive'},\n",
       "  'RetryAttempts': 0}}"
      ]
     },
     "execution_count": 32,
     "metadata": {},
     "output_type": "execute_result"
    }
   ],
   "source": [
    "# Verificar os jobs do Amazon Transcribe que estão com o Status COMPLETED\n",
    "client_transcribe = boto3.client('transcribe')\n",
    "response_transcribe = client_transcribe.list_transcription_jobs(\n",
    "    Status='COMPLETED')\n",
    "response_transcribe"
   ]
  },
  {
   "cell_type": "code",
   "execution_count": 37,
   "metadata": {},
   "outputs": [
    {
     "data": {
      "text/plain": [
       "{'TranscriptionJob': {'TranscriptionJobName': 'churchill_speech_28082019',\n",
       "  'TranscriptionJobStatus': 'COMPLETED',\n",
       "  'LanguageCode': 'en-US',\n",
       "  'MediaSampleRateHertz': 44100,\n",
       "  'MediaFormat': 'mp3',\n",
       "  'Media': {'MediaFileUri': 'https://grupy-nlp-aws.s3.amazonaws.com/WE+SHALL+NEVER+SURRENDER+speech+by+Winston+Churchill+(We+Shall+Fight+on+the+Beaches)-s_LncVnecLA.mp3'},\n",
       "  'Transcript': {'TranscriptFileUri': 'https://s3.amazonaws.com/grupy-nlp-aws/churchill_speech_28082019.json'},\n",
       "  'CreationTime': datetime.datetime(2019, 8, 28, 23, 10, 25, 966000, tzinfo=tzlocal()),\n",
       "  'CompletionTime': datetime.datetime(2019, 8, 28, 23, 13, 33, 922000, tzinfo=tzlocal()),\n",
       "  'Settings': {'ChannelIdentification': False}},\n",
       " 'ResponseMetadata': {'RequestId': '635a7130-b647-42c8-b017-11a138dc4de5',\n",
       "  'HTTPStatusCode': 200,\n",
       "  'HTTPHeaders': {'content-type': 'application/x-amz-json-1.1',\n",
       "   'date': 'Thu, 29 Aug 2019 02:20:32 GMT',\n",
       "   'x-amzn-requestid': '635a7130-b647-42c8-b017-11a138dc4de5',\n",
       "   'content-length': '565',\n",
       "   'connection': 'keep-alive'},\n",
       "  'RetryAttempts': 0}}"
      ]
     },
     "execution_count": 37,
     "metadata": {},
     "output_type": "execute_result"
    }
   ],
   "source": [
    "client_transcribe = boto3.client('transcribe')\n",
    "response_transcribe_job = client_transcribe.get_transcription_job(\n",
    "    TranscriptionJobName= f'churchill_speech_{today}'\n",
    ")\n",
    "response_transcribe_job"
   ]
  },
  {
   "cell_type": "code",
   "execution_count": 41,
   "metadata": {},
   "outputs": [
    {
     "data": {
      "text/plain": [
       "['https://grupy-nlp-aws.s3.amazonaws.com/churchill_speech_28082019',\n",
       " 'https://grupy-nlp-aws.s3.amazonaws.com/reagan_speech_28082019',\n",
       " 'https://grupy-nlp-aws.s3.amazonaws.com/luther_king_speech_28082019',\n",
       " 'https://grupy-nlp-aws.s3.amazonaws.com/bezos_speech_28082019',\n",
       " 'https://grupy-nlp-aws.s3.amazonaws.com/gaiman_speech_28082019']"
      ]
     },
     "execution_count": 41,
     "metadata": {},
     "output_type": "execute_result"
    }
   ],
   "source": [
    "df_audio.transcription_url.to_list()"
   ]
  },
  {
   "cell_type": "code",
   "execution_count": 138,
   "metadata": {},
   "outputs": [],
   "source": [
    "# Função para de baixar o texto transcrito de um Json no S3\n",
    "def get_text_from_json(bucket, key):\n",
    "    s3 = boto3.client('s3')\n",
    "    object = s3.get_object(Bucket=bucket, Key=key)\n",
    "    serializedObject = object['Body'].read()\n",
    "    data = json.loads(serializedObject)\n",
    "    return data.get('results').get('transcripts')[0].get('transcript')"
   ]
  },
  {
   "cell_type": "code",
   "execution_count": 140,
   "metadata": {},
   "outputs": [
    {
     "data": {
      "text/plain": [
       "15796"
      ]
     },
     "execution_count": 140,
     "metadata": {},
     "output_type": "execute_result"
    }
   ],
   "source": [
    "len(get_text_from_json(bucket_name, df_audio.loc['gaiman', 'json_transcrition']))"
   ]
  },
  {
   "cell_type": "code",
   "execution_count": 141,
   "metadata": {},
   "outputs": [
    {
     "data": {
      "text/plain": [
       "{'Status': 'COMPLETED',\n",
       " 'NextToken': '3/Q22yZ4n/FldYqPp92GoX3ADk9mPfsO3qZo9qhrTcT1AIMpJT1kTo3E1HAYj6CNHbs9w2RWNhpdyVNX6AXq87WJO3tmrjnhME3D8VLKCsKotw3jMJUBWzGWAUjx/PONNqJeda9KqJLMUIh6pprwxVdN47TKNgRLqpxMuJUzl+Xe1Hd9Lx7eg3LzHujCZnsNFrPUf84hA7pvqEoDcfvpaLoD+N3rTrYKtO9RH1x9abd8iLhyugQFwyMn4l4Ab7idr/7/zDRxNIIc7e/X+JhTDUjDs/8pZUDl46HDo4huUkPR2ioblCWsTwxEgG2o5Xn1Mi54uI3EjLeM/gfSQn9fRiKoA65vIt1CKXRfghURJrx3iiT95pvFOMwg05keD1u7nbA8GMHkzwI+W4yVJzenHLWTUUkXaYVJvFUuiq/gQD1r3H/LLsen5wy5I8Yf5wPTYcD89YBlWLxXKcdXOe49a0STbAnqFp7JKQNsY34tYQIsEgyDBMJPUBrvxLseklAXBVkEvp+M6ppv+FSp7QPevCHbPhXxLKy9SMNzHfcmzCgUTh2REWK+heN2s1iJymP2SMHyM2A/abER3b/UonQG6ZkTOF/fFcLz9VISrmk1q5hM3Cj1d6JG1FU5SJ9HcIplDBX9sYCimuxVAP0jFbBpqYTrQGIErd5jfhK0a9eDmV2Mrth69CDByAVdrFPq9qrvsJ4PL02ZYsRD+Z8cKxn2PUaxH5upnmt1v1+OPrkz/Dw/0EPCriR7OJdH40wQ+lDuPrG1ar2QF5ZejcMopUqvffPxecLl7LU/KV89XEk9gzwP7P9WA+SLnNo+mOfWm+dVWR3zWY8EKIGBc90bFf2wsnvFYQH3yQ4XQRRMkk1/054tQJF52Ytu/viDumCdOmXLzrpul/qNnC',\n",
       " 'TranscriptionJobSummaries': [{'TranscriptionJobName': 'gaiman_speech_29082019',\n",
       "   'CreationTime': datetime.datetime(2019, 8, 29, 1, 16, 51, 19000, tzinfo=tzlocal()),\n",
       "   'CompletionTime': datetime.datetime(2019, 8, 29, 1, 20, 1, 130000, tzinfo=tzlocal()),\n",
       "   'LanguageCode': 'en-US',\n",
       "   'TranscriptionJobStatus': 'COMPLETED',\n",
       "   'OutputLocationType': 'CUSTOMER_BUCKET'},\n",
       "  {'TranscriptionJobName': 'bezos_speech_29082019',\n",
       "   'CreationTime': datetime.datetime(2019, 8, 29, 1, 16, 50, 233000, tzinfo=tzlocal()),\n",
       "   'CompletionTime': datetime.datetime(2019, 8, 29, 1, 19, 38, 681000, tzinfo=tzlocal()),\n",
       "   'LanguageCode': 'en-US',\n",
       "   'TranscriptionJobStatus': 'COMPLETED',\n",
       "   'OutputLocationType': 'CUSTOMER_BUCKET'},\n",
       "  {'TranscriptionJobName': 'luther_king_speech_29082019',\n",
       "   'CreationTime': datetime.datetime(2019, 8, 29, 1, 16, 49, 362000, tzinfo=tzlocal()),\n",
       "   'CompletionTime': datetime.datetime(2019, 8, 29, 1, 19, 55, 530000, tzinfo=tzlocal()),\n",
       "   'LanguageCode': 'en-US',\n",
       "   'TranscriptionJobStatus': 'COMPLETED',\n",
       "   'OutputLocationType': 'CUSTOMER_BUCKET'},\n",
       "  {'TranscriptionJobName': 'reagan_speech_29082019',\n",
       "   'CreationTime': datetime.datetime(2019, 8, 29, 1, 16, 48, 541000, tzinfo=tzlocal()),\n",
       "   'CompletionTime': datetime.datetime(2019, 8, 29, 1, 18, 35, 82000, tzinfo=tzlocal()),\n",
       "   'LanguageCode': 'en-US',\n",
       "   'TranscriptionJobStatus': 'COMPLETED',\n",
       "   'OutputLocationType': 'CUSTOMER_BUCKET'},\n",
       "  {'TranscriptionJobName': 'churchill_speech_29082019',\n",
       "   'CreationTime': datetime.datetime(2019, 8, 29, 1, 16, 47, 663000, tzinfo=tzlocal()),\n",
       "   'CompletionTime': datetime.datetime(2019, 8, 29, 1, 20, 34, 672000, tzinfo=tzlocal()),\n",
       "   'LanguageCode': 'en-US',\n",
       "   'TranscriptionJobStatus': 'COMPLETED',\n",
       "   'OutputLocationType': 'CUSTOMER_BUCKET'}],\n",
       " 'ResponseMetadata': {'RequestId': '5a8f24fd-670c-4ee6-97c9-410eb5830642',\n",
       "  'HTTPStatusCode': 200,\n",
       "  'HTTPHeaders': {'content-type': 'application/x-amz-json-1.1',\n",
       "   'date': 'Thu, 29 Aug 2019 04:24:28 GMT',\n",
       "   'x-amzn-requestid': '5a8f24fd-670c-4ee6-97c9-410eb5830642',\n",
       "   'content-length': '2053',\n",
       "   'connection': 'keep-alive'},\n",
       "  'RetryAttempts': 0}}"
      ]
     },
     "execution_count": 141,
     "metadata": {},
     "output_type": "execute_result"
    }
   ],
   "source": [
    "# Para listar os jobs executados no Amazon Transcribe\n",
    "transcribe_client = boto3.client('transcribe')\n",
    "response = transcribe_client.list_transcription_jobs(\n",
    "    Status='COMPLETED')\n",
    "response"
   ]
  },
  {
   "cell_type": "code",
   "execution_count": 127,
   "metadata": {},
   "outputs": [],
   "source": [
    "def start_comprehend_job(text):\n",
    "    list_parts = []\n",
    "    text_for_analysis = ''\n",
    "    for sentence in text.split('.'):\n",
    "        current_text = text_for_analysis + f'{sentence}.'\n",
    "\n",
    "        if len(current_text.encode('utf-8')) > 5000:\n",
    "            list_parts.append([len(text_for_analysis), text_for_analysis])\n",
    "            text_for_analysis = f'{sentence}.'\n",
    "\n",
    "        else:\n",
    "            text_for_analysis += f'{sentence}.'\n",
    "\n",
    "    list_parts.append([len(text_for_analysis), text_for_analysis])\n",
    "    dict_comprehend = {}\n",
    "    for t_parts in list_parts:\n",
    "        comprehend_client = boto3.client(service_name='comprehend', region_name='us-east-1')\n",
    "        sentimentData = comprehend_client.detect_sentiment(Text=t_parts[1], LanguageCode='en')\n",
    "        dict_comprehend[t_parts[0]] = sentimentData\n",
    "        dict_comprehend[t_parts[0]]['ratio'] = t_parts[0]/float(len(text))\n",
    "\n",
    "    final_dict = {'Positive':0, 'Negative':0, 'Neutral':0, 'Mixed':0}\n",
    "    list_sentiments = ['Positive', 'Negative', 'Neutral', 'Mixed']\n",
    "    for sentiment in list_sentiments:\n",
    "        for key, value in dict_comprehend.items():\n",
    "            final_dict[sentiment] += value.get('SentimentScore').get(sentiment) * value.get('ratio')\n",
    "    \n",
    "    return final_dict"
   ]
  },
  {
   "cell_type": "code",
   "execution_count": 142,
   "metadata": {},
   "outputs": [
    {
     "data": {
      "text/html": [
       "<div>\n",
       "<style scoped>\n",
       "    .dataframe tbody tr th:only-of-type {\n",
       "        vertical-align: middle;\n",
       "    }\n",
       "\n",
       "    .dataframe tbody tr th {\n",
       "        vertical-align: top;\n",
       "    }\n",
       "\n",
       "    .dataframe thead th {\n",
       "        text-align: right;\n",
       "    }\n",
       "</style>\n",
       "<table border=\"1\" class=\"dataframe\">\n",
       "  <thead>\n",
       "    <tr style=\"text-align: right;\">\n",
       "      <th></th>\n",
       "      <th>youtube_urls</th>\n",
       "      <th>filename</th>\n",
       "      <th>url</th>\n",
       "      <th>transcription_url</th>\n",
       "      <th>json_transcrition</th>\n",
       "    </tr>\n",
       "  </thead>\n",
       "  <tbody>\n",
       "    <tr>\n",
       "      <th>churchill</th>\n",
       "      <td>https://www.youtube.com/watch?v=s_LncVnecLA</td>\n",
       "      <td>WE SHALL NEVER SURRENDER speech by Winston Chu...</td>\n",
       "      <td>https://grupy-nlp-aws.s3.amazonaws.com/WE+SHAL...</td>\n",
       "      <td>https://grupy-nlp-aws.s3.amazonaws.com/churchi...</td>\n",
       "      <td>churchill_speech_29082019.json</td>\n",
       "    </tr>\n",
       "    <tr>\n",
       "      <th>reagan</th>\n",
       "      <td>https://www.youtube.com/watch?v=1Leb7ynduCU</td>\n",
       "      <td>Normandy Speech - President Reagan's Address C...</td>\n",
       "      <td>https://grupy-nlp-aws.s3.amazonaws.com/Normand...</td>\n",
       "      <td>https://grupy-nlp-aws.s3.amazonaws.com/reagan_...</td>\n",
       "      <td>reagan_speech_29082019.json</td>\n",
       "    </tr>\n",
       "    <tr>\n",
       "      <th>luther_king</th>\n",
       "      <td>https://www.youtube.com/watch?v=vP4iY1TtS3s&amp;t=42s</td>\n",
       "      <td>I Have a Dream speech by Martin Luther King .J...</td>\n",
       "      <td>https://grupy-nlp-aws.s3.amazonaws.com/I+Have+...</td>\n",
       "      <td>https://grupy-nlp-aws.s3.amazonaws.com/luther_...</td>\n",
       "      <td>luther_king_speech_29082019.json</td>\n",
       "    </tr>\n",
       "    <tr>\n",
       "      <th>bezos</th>\n",
       "      <td>https://www.youtube.com/watch?v=uvzkujQFlxQ</td>\n",
       "      <td>Amazon founder Jeff Bezos delivers speech at P...</td>\n",
       "      <td>https://grupy-nlp-aws.s3.amazonaws.com/Amazon+...</td>\n",
       "      <td>https://grupy-nlp-aws.s3.amazonaws.com/bezos_s...</td>\n",
       "      <td>bezos_speech_29082019.json</td>\n",
       "    </tr>\n",
       "    <tr>\n",
       "      <th>gaiman</th>\n",
       "      <td>https://www.youtube.com/watch?v=plWexCID-kA</td>\n",
       "      <td>Neil Gaiman 2012 Commencement Speech 'Make Goo...</td>\n",
       "      <td>https://grupy-nlp-aws.s3.amazonaws.com/Neil+Ga...</td>\n",
       "      <td>https://grupy-nlp-aws.s3.amazonaws.com/gaiman_...</td>\n",
       "      <td>gaiman_speech_29082019.json</td>\n",
       "    </tr>\n",
       "  </tbody>\n",
       "</table>\n",
       "</div>"
      ],
      "text/plain": [
       "                                                  youtube_urls  \\\n",
       "churchill          https://www.youtube.com/watch?v=s_LncVnecLA   \n",
       "reagan             https://www.youtube.com/watch?v=1Leb7ynduCU   \n",
       "luther_king  https://www.youtube.com/watch?v=vP4iY1TtS3s&t=42s   \n",
       "bezos              https://www.youtube.com/watch?v=uvzkujQFlxQ   \n",
       "gaiman             https://www.youtube.com/watch?v=plWexCID-kA   \n",
       "\n",
       "                                                      filename  \\\n",
       "churchill    WE SHALL NEVER SURRENDER speech by Winston Chu...   \n",
       "reagan       Normandy Speech - President Reagan's Address C...   \n",
       "luther_king  I Have a Dream speech by Martin Luther King .J...   \n",
       "bezos        Amazon founder Jeff Bezos delivers speech at P...   \n",
       "gaiman       Neil Gaiman 2012 Commencement Speech 'Make Goo...   \n",
       "\n",
       "                                                           url  \\\n",
       "churchill    https://grupy-nlp-aws.s3.amazonaws.com/WE+SHAL...   \n",
       "reagan       https://grupy-nlp-aws.s3.amazonaws.com/Normand...   \n",
       "luther_king  https://grupy-nlp-aws.s3.amazonaws.com/I+Have+...   \n",
       "bezos        https://grupy-nlp-aws.s3.amazonaws.com/Amazon+...   \n",
       "gaiman       https://grupy-nlp-aws.s3.amazonaws.com/Neil+Ga...   \n",
       "\n",
       "                                             transcription_url  \\\n",
       "churchill    https://grupy-nlp-aws.s3.amazonaws.com/churchi...   \n",
       "reagan       https://grupy-nlp-aws.s3.amazonaws.com/reagan_...   \n",
       "luther_king  https://grupy-nlp-aws.s3.amazonaws.com/luther_...   \n",
       "bezos        https://grupy-nlp-aws.s3.amazonaws.com/bezos_s...   \n",
       "gaiman       https://grupy-nlp-aws.s3.amazonaws.com/gaiman_...   \n",
       "\n",
       "                            json_transcrition  \n",
       "churchill      churchill_speech_29082019.json  \n",
       "reagan            reagan_speech_29082019.json  \n",
       "luther_king  luther_king_speech_29082019.json  \n",
       "bezos              bezos_speech_29082019.json  \n",
       "gaiman            gaiman_speech_29082019.json  "
      ]
     },
     "execution_count": 142,
     "metadata": {},
     "output_type": "execute_result"
    }
   ],
   "source": [
    "df_audio"
   ]
  },
  {
   "cell_type": "code",
   "execution_count": 143,
   "metadata": {},
   "outputs": [],
   "source": [
    "# Gerar a análise de sentimento usando o Amazon Comprehend\n",
    "for index, row in df_audio.iterrows():\n",
    "    transcript_text = get_text_from_json(bucket_name, row.json_transcrition)\n",
    "    comprehend_results = start_comprehend_job(transcript_text)\n",
    "    for k,v in comprehend_results.items():\n",
    "        df_audio.at[index, k] = v\n",
    "    \n",
    "    \n",
    "    "
   ]
  },
  {
   "cell_type": "code",
   "execution_count": 144,
   "metadata": {},
   "outputs": [
    {
     "data": {
      "text/html": [
       "<div>\n",
       "<style scoped>\n",
       "    .dataframe tbody tr th:only-of-type {\n",
       "        vertical-align: middle;\n",
       "    }\n",
       "\n",
       "    .dataframe tbody tr th {\n",
       "        vertical-align: top;\n",
       "    }\n",
       "\n",
       "    .dataframe thead th {\n",
       "        text-align: right;\n",
       "    }\n",
       "</style>\n",
       "<table border=\"1\" class=\"dataframe\">\n",
       "  <thead>\n",
       "    <tr style=\"text-align: right;\">\n",
       "      <th></th>\n",
       "      <th>youtube_urls</th>\n",
       "      <th>filename</th>\n",
       "      <th>url</th>\n",
       "      <th>transcription_url</th>\n",
       "      <th>json_transcrition</th>\n",
       "      <th>Positive</th>\n",
       "      <th>Negative</th>\n",
       "      <th>Neutral</th>\n",
       "      <th>Mixed</th>\n",
       "    </tr>\n",
       "  </thead>\n",
       "  <tbody>\n",
       "    <tr>\n",
       "      <th>churchill</th>\n",
       "      <td>https://www.youtube.com/watch?v=s_LncVnecLA</td>\n",
       "      <td>WE SHALL NEVER SURRENDER speech by Winston Chu...</td>\n",
       "      <td>https://grupy-nlp-aws.s3.amazonaws.com/WE+SHAL...</td>\n",
       "      <td>https://grupy-nlp-aws.s3.amazonaws.com/churchi...</td>\n",
       "      <td>churchill_speech_29082019.json</td>\n",
       "      <td>0.276516</td>\n",
       "      <td>0.064977</td>\n",
       "      <td>0.523759</td>\n",
       "      <td>0.134878</td>\n",
       "    </tr>\n",
       "    <tr>\n",
       "      <th>reagan</th>\n",
       "      <td>https://www.youtube.com/watch?v=1Leb7ynduCU</td>\n",
       "      <td>Normandy Speech - President Reagan's Address C...</td>\n",
       "      <td>https://grupy-nlp-aws.s3.amazonaws.com/Normand...</td>\n",
       "      <td>https://grupy-nlp-aws.s3.amazonaws.com/reagan_...</td>\n",
       "      <td>reagan_speech_29082019.json</td>\n",
       "      <td>0.241181</td>\n",
       "      <td>0.005791</td>\n",
       "      <td>0.719546</td>\n",
       "      <td>0.033668</td>\n",
       "    </tr>\n",
       "    <tr>\n",
       "      <th>luther_king</th>\n",
       "      <td>https://www.youtube.com/watch?v=vP4iY1TtS3s&amp;t=42s</td>\n",
       "      <td>I Have a Dream speech by Martin Luther King .J...</td>\n",
       "      <td>https://grupy-nlp-aws.s3.amazonaws.com/I+Have+...</td>\n",
       "      <td>https://grupy-nlp-aws.s3.amazonaws.com/luther_...</td>\n",
       "      <td>luther_king_speech_29082019.json</td>\n",
       "      <td>0.343839</td>\n",
       "      <td>0.005916</td>\n",
       "      <td>0.594401</td>\n",
       "      <td>0.056180</td>\n",
       "    </tr>\n",
       "    <tr>\n",
       "      <th>bezos</th>\n",
       "      <td>https://www.youtube.com/watch?v=uvzkujQFlxQ</td>\n",
       "      <td>Amazon founder Jeff Bezos delivers speech at P...</td>\n",
       "      <td>https://grupy-nlp-aws.s3.amazonaws.com/Amazon+...</td>\n",
       "      <td>https://grupy-nlp-aws.s3.amazonaws.com/bezos_s...</td>\n",
       "      <td>bezos_speech_29082019.json</td>\n",
       "      <td>0.527087</td>\n",
       "      <td>0.015820</td>\n",
       "      <td>0.390241</td>\n",
       "      <td>0.066992</td>\n",
       "    </tr>\n",
       "    <tr>\n",
       "      <th>gaiman</th>\n",
       "      <td>https://www.youtube.com/watch?v=plWexCID-kA</td>\n",
       "      <td>Neil Gaiman 2012 Commencement Speech 'Make Goo...</td>\n",
       "      <td>https://grupy-nlp-aws.s3.amazonaws.com/Neil+Ga...</td>\n",
       "      <td>https://grupy-nlp-aws.s3.amazonaws.com/gaiman_...</td>\n",
       "      <td>gaiman_speech_29082019.json</td>\n",
       "      <td>0.461380</td>\n",
       "      <td>0.147436</td>\n",
       "      <td>0.235781</td>\n",
       "      <td>0.155467</td>\n",
       "    </tr>\n",
       "  </tbody>\n",
       "</table>\n",
       "</div>"
      ],
      "text/plain": [
       "                                                  youtube_urls  \\\n",
       "churchill          https://www.youtube.com/watch?v=s_LncVnecLA   \n",
       "reagan             https://www.youtube.com/watch?v=1Leb7ynduCU   \n",
       "luther_king  https://www.youtube.com/watch?v=vP4iY1TtS3s&t=42s   \n",
       "bezos              https://www.youtube.com/watch?v=uvzkujQFlxQ   \n",
       "gaiman             https://www.youtube.com/watch?v=plWexCID-kA   \n",
       "\n",
       "                                                      filename  \\\n",
       "churchill    WE SHALL NEVER SURRENDER speech by Winston Chu...   \n",
       "reagan       Normandy Speech - President Reagan's Address C...   \n",
       "luther_king  I Have a Dream speech by Martin Luther King .J...   \n",
       "bezos        Amazon founder Jeff Bezos delivers speech at P...   \n",
       "gaiman       Neil Gaiman 2012 Commencement Speech 'Make Goo...   \n",
       "\n",
       "                                                           url  \\\n",
       "churchill    https://grupy-nlp-aws.s3.amazonaws.com/WE+SHAL...   \n",
       "reagan       https://grupy-nlp-aws.s3.amazonaws.com/Normand...   \n",
       "luther_king  https://grupy-nlp-aws.s3.amazonaws.com/I+Have+...   \n",
       "bezos        https://grupy-nlp-aws.s3.amazonaws.com/Amazon+...   \n",
       "gaiman       https://grupy-nlp-aws.s3.amazonaws.com/Neil+Ga...   \n",
       "\n",
       "                                             transcription_url  \\\n",
       "churchill    https://grupy-nlp-aws.s3.amazonaws.com/churchi...   \n",
       "reagan       https://grupy-nlp-aws.s3.amazonaws.com/reagan_...   \n",
       "luther_king  https://grupy-nlp-aws.s3.amazonaws.com/luther_...   \n",
       "bezos        https://grupy-nlp-aws.s3.amazonaws.com/bezos_s...   \n",
       "gaiman       https://grupy-nlp-aws.s3.amazonaws.com/gaiman_...   \n",
       "\n",
       "                            json_transcrition  Positive  Negative   Neutral  \\\n",
       "churchill      churchill_speech_29082019.json  0.276516  0.064977  0.523759   \n",
       "reagan            reagan_speech_29082019.json  0.241181  0.005791  0.719546   \n",
       "luther_king  luther_king_speech_29082019.json  0.343839  0.005916  0.594401   \n",
       "bezos              bezos_speech_29082019.json  0.527087  0.015820  0.390241   \n",
       "gaiman            gaiman_speech_29082019.json  0.461380  0.147436  0.235781   \n",
       "\n",
       "                Mixed  \n",
       "churchill    0.134878  \n",
       "reagan       0.033668  \n",
       "luther_king  0.056180  \n",
       "bezos        0.066992  \n",
       "gaiman       0.155467  "
      ]
     },
     "execution_count": 144,
     "metadata": {},
     "output_type": "execute_result"
    }
   ],
   "source": [
    "df_audio"
   ]
  },
  {
   "cell_type": "code",
   "execution_count": 25,
   "metadata": {},
   "outputs": [],
   "source": [
    "## Visualização do resultado da análise de sentimento dos discursos"
   ]
  },
  {
   "cell_type": "code",
   "execution_count": 145,
   "metadata": {},
   "outputs": [],
   "source": [
    "df_audio_radar = df_audio[['Positive','Negative','Neutral','Mixed']]"
   ]
  },
  {
   "cell_type": "code",
   "execution_count": 147,
   "metadata": {},
   "outputs": [],
   "source": [
    "df = df_audio_radar"
   ]
  },
  {
   "cell_type": "code",
   "execution_count": 150,
   "metadata": {},
   "outputs": [
    {
     "data": {
      "text/html": [
       "<div>\n",
       "<style scoped>\n",
       "    .dataframe tbody tr th:only-of-type {\n",
       "        vertical-align: middle;\n",
       "    }\n",
       "\n",
       "    .dataframe tbody tr th {\n",
       "        vertical-align: top;\n",
       "    }\n",
       "\n",
       "    .dataframe thead th {\n",
       "        text-align: right;\n",
       "    }\n",
       "</style>\n",
       "<table border=\"1\" class=\"dataframe\">\n",
       "  <thead>\n",
       "    <tr style=\"text-align: right;\">\n",
       "      <th></th>\n",
       "      <th>group</th>\n",
       "      <th>var1</th>\n",
       "      <th>var2</th>\n",
       "      <th>var3</th>\n",
       "      <th>var4</th>\n",
       "      <th>var5</th>\n",
       "    </tr>\n",
       "  </thead>\n",
       "  <tbody>\n",
       "    <tr>\n",
       "      <th>0</th>\n",
       "      <td>A</td>\n",
       "      <td>38.0</td>\n",
       "      <td>29</td>\n",
       "      <td>8</td>\n",
       "      <td>7</td>\n",
       "      <td>28</td>\n",
       "    </tr>\n",
       "    <tr>\n",
       "      <th>1</th>\n",
       "      <td>B</td>\n",
       "      <td>1.5</td>\n",
       "      <td>10</td>\n",
       "      <td>39</td>\n",
       "      <td>31</td>\n",
       "      <td>15</td>\n",
       "    </tr>\n",
       "    <tr>\n",
       "      <th>2</th>\n",
       "      <td>C</td>\n",
       "      <td>30.0</td>\n",
       "      <td>9</td>\n",
       "      <td>23</td>\n",
       "      <td>33</td>\n",
       "      <td>32</td>\n",
       "    </tr>\n",
       "    <tr>\n",
       "      <th>3</th>\n",
       "      <td>D</td>\n",
       "      <td>4.0</td>\n",
       "      <td>34</td>\n",
       "      <td>24</td>\n",
       "      <td>14</td>\n",
       "      <td>14</td>\n",
       "    </tr>\n",
       "  </tbody>\n",
       "</table>\n",
       "</div>"
      ],
      "text/plain": [
       "  group  var1  var2  var3  var4  var5\n",
       "0     A  38.0    29     8     7    28\n",
       "1     B   1.5    10    39    31    15\n",
       "2     C  30.0     9    23    33    32\n",
       "3     D   4.0    34    24    14    14"
      ]
     },
     "execution_count": 150,
     "metadata": {},
     "output_type": "execute_result"
    }
   ],
   "source": [
    "df2 = pd.DataFrame({\n",
    "'group': ['A','B','C','D'],\n",
    "'var1': [38, 1.5, 30, 4],\n",
    "'var2': [29, 10, 9, 34],\n",
    "'var3': [8, 39, 23, 24],\n",
    "'var4': [7, 31, 33, 14],\n",
    "'var5': [28, 15, 32, 14]\n",
    "})\n",
    "df2"
   ]
  },
  {
   "cell_type": "code",
   "execution_count": 149,
   "metadata": {},
   "outputs": [
    {
     "data": {
      "text/html": [
       "<div>\n",
       "<style scoped>\n",
       "    .dataframe tbody tr th:only-of-type {\n",
       "        vertical-align: middle;\n",
       "    }\n",
       "\n",
       "    .dataframe tbody tr th {\n",
       "        vertical-align: top;\n",
       "    }\n",
       "\n",
       "    .dataframe thead th {\n",
       "        text-align: right;\n",
       "    }\n",
       "</style>\n",
       "<table border=\"1\" class=\"dataframe\">\n",
       "  <thead>\n",
       "    <tr style=\"text-align: right;\">\n",
       "      <th></th>\n",
       "      <th>Positive</th>\n",
       "      <th>Negative</th>\n",
       "      <th>Neutral</th>\n",
       "      <th>Mixed</th>\n",
       "    </tr>\n",
       "  </thead>\n",
       "  <tbody>\n",
       "    <tr>\n",
       "      <th>churchill</th>\n",
       "      <td>0.276516</td>\n",
       "      <td>0.064977</td>\n",
       "      <td>0.523759</td>\n",
       "      <td>0.134878</td>\n",
       "    </tr>\n",
       "    <tr>\n",
       "      <th>reagan</th>\n",
       "      <td>0.241181</td>\n",
       "      <td>0.005791</td>\n",
       "      <td>0.719546</td>\n",
       "      <td>0.033668</td>\n",
       "    </tr>\n",
       "    <tr>\n",
       "      <th>luther_king</th>\n",
       "      <td>0.343839</td>\n",
       "      <td>0.005916</td>\n",
       "      <td>0.594401</td>\n",
       "      <td>0.056180</td>\n",
       "    </tr>\n",
       "    <tr>\n",
       "      <th>bezos</th>\n",
       "      <td>0.527087</td>\n",
       "      <td>0.015820</td>\n",
       "      <td>0.390241</td>\n",
       "      <td>0.066992</td>\n",
       "    </tr>\n",
       "    <tr>\n",
       "      <th>gaiman</th>\n",
       "      <td>0.461380</td>\n",
       "      <td>0.147436</td>\n",
       "      <td>0.235781</td>\n",
       "      <td>0.155467</td>\n",
       "    </tr>\n",
       "  </tbody>\n",
       "</table>\n",
       "</div>"
      ],
      "text/plain": [
       "             Positive  Negative   Neutral     Mixed\n",
       "churchill    0.276516  0.064977  0.523759  0.134878\n",
       "reagan       0.241181  0.005791  0.719546  0.033668\n",
       "luther_king  0.343839  0.005916  0.594401  0.056180\n",
       "bezos        0.527087  0.015820  0.390241  0.066992\n",
       "gaiman       0.461380  0.147436  0.235781  0.155467"
      ]
     },
     "execution_count": 149,
     "metadata": {},
     "output_type": "execute_result"
    }
   ],
   "source": [
    "df"
   ]
  },
  {
   "cell_type": "code",
   "execution_count": 156,
   "metadata": {},
   "outputs": [
    {
     "data": {
      "text/plain": [
       "['Positive', 'Negative', 'Neutral', 'Mixed']"
      ]
     },
     "execution_count": 156,
     "metadata": {},
     "output_type": "execute_result"
    }
   ],
   "source": [
    "categories=list(df)[:]\n",
    "categories"
   ]
  },
  {
   "cell_type": "code",
   "execution_count": 158,
   "metadata": {},
   "outputs": [
    {
     "ename": "ValueError",
     "evalue": "The truth value of a Series is ambiguous. Use a.empty, a.bool(), a.item(), a.any() or a.all().",
     "output_type": "error",
     "traceback": [
      "\u001b[0;31m---------------------------------------------------------------------------\u001b[0m",
      "\u001b[0;31mValueError\u001b[0m                                Traceback (most recent call last)",
      "\u001b[0;32m<ipython-input-158-9f0563968916>\u001b[0m in \u001b[0;36m<module>\u001b[0;34m\u001b[0m\n\u001b[1;32m     61\u001b[0m \u001b[0;32mfor\u001b[0m \u001b[0mindex\u001b[0m\u001b[0;34m,\u001b[0m \u001b[0mrow\u001b[0m \u001b[0;32min\u001b[0m \u001b[0mdf\u001b[0m\u001b[0;34m.\u001b[0m\u001b[0miterrows\u001b[0m\u001b[0;34m(\u001b[0m\u001b[0;34m)\u001b[0m\u001b[0;34m:\u001b[0m\u001b[0;34m\u001b[0m\u001b[0;34m\u001b[0m\u001b[0m\n\u001b[1;32m     62\u001b[0m \u001b[0;34m\u001b[0m\u001b[0m\n\u001b[0;32m---> 63\u001b[0;31m     \u001b[0mmake_spider\u001b[0m\u001b[0;34m(\u001b[0m \u001b[0mrow\u001b[0m\u001b[0;34m=\u001b[0m\u001b[0mrow\u001b[0m\u001b[0;34m,\u001b[0m \u001b[0mtitle\u001b[0m\u001b[0;34m=\u001b[0m\u001b[0;34m'group '\u001b[0m\u001b[0;34m+\u001b[0m\u001b[0mindex\u001b[0m\u001b[0;34m,\u001b[0m \u001b[0mcolor\u001b[0m\u001b[0;34m=\u001b[0m\u001b[0mmy_palette\u001b[0m\u001b[0;34m(\u001b[0m\u001b[0mrow\u001b[0m\u001b[0;34m)\u001b[0m\u001b[0;34m)\u001b[0m\u001b[0;34m\u001b[0m\u001b[0;34m\u001b[0m\u001b[0m\n\u001b[0m",
      "\u001b[0;32m<ipython-input-158-9f0563968916>\u001b[0m in \u001b[0;36mmake_spider\u001b[0;34m(row, title, color)\u001b[0m\n\u001b[1;32m     26\u001b[0m \u001b[0;34m\u001b[0m\u001b[0m\n\u001b[1;32m     27\u001b[0m     \u001b[0;31m# Initialise the spider plot\u001b[0m\u001b[0;34m\u001b[0m\u001b[0;34m\u001b[0m\u001b[0;34m\u001b[0m\u001b[0m\n\u001b[0;32m---> 28\u001b[0;31m     \u001b[0max\u001b[0m \u001b[0;34m=\u001b[0m \u001b[0mplt\u001b[0m\u001b[0;34m.\u001b[0m\u001b[0msubplot\u001b[0m\u001b[0;34m(\u001b[0m\u001b[0;36m2\u001b[0m\u001b[0;34m,\u001b[0m\u001b[0;36m2\u001b[0m\u001b[0;34m,\u001b[0m\u001b[0mrow\u001b[0m\u001b[0;34m,\u001b[0m \u001b[0mpolar\u001b[0m\u001b[0;34m=\u001b[0m\u001b[0;32mTrue\u001b[0m\u001b[0;34m,\u001b[0m \u001b[0;34m)\u001b[0m\u001b[0;34m\u001b[0m\u001b[0;34m\u001b[0m\u001b[0m\n\u001b[0m\u001b[1;32m     29\u001b[0m \u001b[0;34m\u001b[0m\u001b[0m\n\u001b[1;32m     30\u001b[0m     \u001b[0;31m# If you want the first axis to be on top:\u001b[0m\u001b[0;34m\u001b[0m\u001b[0;34m\u001b[0m\u001b[0;34m\u001b[0m\u001b[0m\n",
      "\u001b[0;32m~/.local/lib/python3.7/site-packages/matplotlib/pyplot.py\u001b[0m in \u001b[0;36msubplot\u001b[0;34m(*args, **kwargs)\u001b[0m\n\u001b[1;32m   1074\u001b[0m \u001b[0;34m\u001b[0m\u001b[0m\n\u001b[1;32m   1075\u001b[0m     \u001b[0mfig\u001b[0m \u001b[0;34m=\u001b[0m \u001b[0mgcf\u001b[0m\u001b[0;34m(\u001b[0m\u001b[0;34m)\u001b[0m\u001b[0;34m\u001b[0m\u001b[0;34m\u001b[0m\u001b[0m\n\u001b[0;32m-> 1076\u001b[0;31m     \u001b[0ma\u001b[0m \u001b[0;34m=\u001b[0m \u001b[0mfig\u001b[0m\u001b[0;34m.\u001b[0m\u001b[0madd_subplot\u001b[0m\u001b[0;34m(\u001b[0m\u001b[0;34m*\u001b[0m\u001b[0margs\u001b[0m\u001b[0;34m,\u001b[0m \u001b[0;34m**\u001b[0m\u001b[0mkwargs\u001b[0m\u001b[0;34m)\u001b[0m\u001b[0;34m\u001b[0m\u001b[0;34m\u001b[0m\u001b[0m\n\u001b[0m\u001b[1;32m   1077\u001b[0m     \u001b[0mbbox\u001b[0m \u001b[0;34m=\u001b[0m \u001b[0ma\u001b[0m\u001b[0;34m.\u001b[0m\u001b[0mbbox\u001b[0m\u001b[0;34m\u001b[0m\u001b[0;34m\u001b[0m\u001b[0m\n\u001b[1;32m   1078\u001b[0m     \u001b[0mbyebye\u001b[0m \u001b[0;34m=\u001b[0m \u001b[0;34m[\u001b[0m\u001b[0;34m]\u001b[0m\u001b[0;34m\u001b[0m\u001b[0;34m\u001b[0m\u001b[0m\n",
      "\u001b[0;32m~/.local/lib/python3.7/site-packages/matplotlib/figure.py\u001b[0m in \u001b[0;36madd_subplot\u001b[0;34m(self, *args, **kwargs)\u001b[0m\n\u001b[1;32m   1412\u001b[0m                     \u001b[0mself\u001b[0m\u001b[0;34m.\u001b[0m\u001b[0m_axstack\u001b[0m\u001b[0;34m.\u001b[0m\u001b[0mremove\u001b[0m\u001b[0;34m(\u001b[0m\u001b[0max\u001b[0m\u001b[0;34m)\u001b[0m\u001b[0;34m\u001b[0m\u001b[0;34m\u001b[0m\u001b[0m\n\u001b[1;32m   1413\u001b[0m \u001b[0;34m\u001b[0m\u001b[0m\n\u001b[0;32m-> 1414\u001b[0;31m             \u001b[0ma\u001b[0m \u001b[0;34m=\u001b[0m \u001b[0msubplot_class_factory\u001b[0m\u001b[0;34m(\u001b[0m\u001b[0mprojection_class\u001b[0m\u001b[0;34m)\u001b[0m\u001b[0;34m(\u001b[0m\u001b[0mself\u001b[0m\u001b[0;34m,\u001b[0m \u001b[0;34m*\u001b[0m\u001b[0margs\u001b[0m\u001b[0;34m,\u001b[0m \u001b[0;34m**\u001b[0m\u001b[0mkwargs\u001b[0m\u001b[0;34m)\u001b[0m\u001b[0;34m\u001b[0m\u001b[0;34m\u001b[0m\u001b[0m\n\u001b[0m\u001b[1;32m   1415\u001b[0m \u001b[0;34m\u001b[0m\u001b[0m\n\u001b[1;32m   1416\u001b[0m         \u001b[0;32mreturn\u001b[0m \u001b[0mself\u001b[0m\u001b[0;34m.\u001b[0m\u001b[0m_add_axes_internal\u001b[0m\u001b[0;34m(\u001b[0m\u001b[0mkey\u001b[0m\u001b[0;34m,\u001b[0m \u001b[0ma\u001b[0m\u001b[0;34m)\u001b[0m\u001b[0;34m\u001b[0m\u001b[0;34m\u001b[0m\u001b[0m\n",
      "\u001b[0;32m~/.local/lib/python3.7/site-packages/matplotlib/axes/_subplots.py\u001b[0m in \u001b[0;36m__init__\u001b[0;34m(self, fig, *args, **kwargs)\u001b[0m\n\u001b[1;32m     55\u001b[0m                         figure=self.figure)[(num[0] - 1):num[1]]\n\u001b[1;32m     56\u001b[0m             \u001b[0;32melse\u001b[0m\u001b[0;34m:\u001b[0m\u001b[0;34m\u001b[0m\u001b[0;34m\u001b[0m\u001b[0m\n\u001b[0;32m---> 57\u001b[0;31m                 \u001b[0;32mif\u001b[0m \u001b[0mnum\u001b[0m \u001b[0;34m<\u001b[0m \u001b[0;36m1\u001b[0m \u001b[0;32mor\u001b[0m \u001b[0mnum\u001b[0m \u001b[0;34m>\u001b[0m \u001b[0mrows\u001b[0m\u001b[0;34m*\u001b[0m\u001b[0mcols\u001b[0m\u001b[0;34m:\u001b[0m\u001b[0;34m\u001b[0m\u001b[0;34m\u001b[0m\u001b[0m\n\u001b[0m\u001b[1;32m     58\u001b[0m                     raise ValueError(\n\u001b[1;32m     59\u001b[0m                         f\"num must be 1 <= num <= {rows*cols}, not {num}\")\n",
      "\u001b[0;32m~/miniconda3/envs/nlp_aws/lib/python3.7/site-packages/pandas/core/generic.py\u001b[0m in \u001b[0;36m__nonzero__\u001b[0;34m(self)\u001b[0m\n\u001b[1;32m   1554\u001b[0m             \u001b[0;34m\"The truth value of a {0} is ambiguous. \"\u001b[0m\u001b[0;34m\u001b[0m\u001b[0;34m\u001b[0m\u001b[0m\n\u001b[1;32m   1555\u001b[0m             \"Use a.empty, a.bool(), a.item(), a.any() or a.all().\".format(\n\u001b[0;32m-> 1556\u001b[0;31m                 \u001b[0mself\u001b[0m\u001b[0;34m.\u001b[0m\u001b[0m__class__\u001b[0m\u001b[0;34m.\u001b[0m\u001b[0m__name__\u001b[0m\u001b[0;34m\u001b[0m\u001b[0;34m\u001b[0m\u001b[0m\n\u001b[0m\u001b[1;32m   1557\u001b[0m             )\n\u001b[1;32m   1558\u001b[0m         )\n",
      "\u001b[0;31mValueError\u001b[0m: The truth value of a Series is ambiguous. Use a.empty, a.bool(), a.item(), a.any() or a.all()."
     ]
    },
    {
     "data": {
      "text/plain": [
       "<Figure size 1000x1000 with 0 Axes>"
      ]
     },
     "metadata": {},
     "output_type": "display_data"
    }
   ],
   "source": [
    "import matplotlib.pyplot as plt\n",
    "import pandas as pd\n",
    "from math import pi\n",
    " \n",
    "# Set data\n",
    "\"\"\"\n",
    "df = pd.DataFrame({\n",
    "'group': ['A','B','C','D'],\n",
    "'var1': [38, 1.5, 30, 4],\n",
    "'var2': [29, 10, 9, 34],\n",
    "'var3': [8, 39, 23, 24],\n",
    "'var4': [7, 31, 33, 14],\n",
    "'var5': [28, 15, 32, 14]\n",
    "})\n",
    "\"\"\"\n",
    "# ------- PART 1: Define a function that do a plot for one line of the dataset!\n",
    " \n",
    "def make_spider(row, title, color):\n",
    "    # number of variable\n",
    "    categories=list(df)[:]\n",
    "    N = len(categories)\n",
    "\n",
    "    # What will be the angle of each axis in the plot? (we divide the plot / number of variable)\n",
    "    angles = [n / float(N) * 2 * pi for n in range(N)]\n",
    "    angles += angles[:1]\n",
    "\n",
    "    # Initialise the spider plot\n",
    "    ax = plt.subplot(2,2,row, polar=True, )\n",
    "\n",
    "    # If you want the first axis to be on top:\n",
    "    ax.set_theta_offset(pi / 2)\n",
    "    ax.set_theta_direction(-1)\n",
    "\n",
    "    # Draw one axe per variable + add labels labels yet\n",
    "    plt.xticks(angles[:-1], categories, color='grey', size=8)\n",
    "\n",
    "    # Draw ylabels\n",
    "    ax.set_rlabel_position(0)\n",
    "    plt.yticks([10,20,30], [\"10\",\"20\",\"30\"], color=\"grey\", size=7)\n",
    "    plt.ylim(0,40)\n",
    "\n",
    "    # Ind1\n",
    "    values=df.loc[row].drop('group').values.flatten().tolist()\n",
    "    values += values[:1]\n",
    "    ax.plot(angles, values, color=color, linewidth=2, linestyle='solid')\n",
    "    ax.fill(angles, values, color=color, alpha=0.4)\n",
    "\n",
    "    # Add a title\n",
    "    plt.title(title, size=11, color=color, y=1.1)\n",
    " \n",
    "# ------- PART 2: Apply to all individuals\n",
    "# initialize the figure\n",
    "my_dpi=96\n",
    "plt.figure(figsize=(1000/my_dpi, 1000/my_dpi), dpi=my_dpi)\n",
    " \n",
    "# Create a color palette:\n",
    "my_palette = plt.cm.get_cmap(\"Set2\", len(df.index))\n",
    " \n",
    "# Loop to plot\n",
    "#for row in range(0, len(df.index)):\n",
    "for index, row in df.iterrows():\n",
    "\n",
    "    make_spider( row=row, title='group '+index, color=my_palette(row))\n"
   ]
  },
  {
   "cell_type": "code",
   "execution_count": 26,
   "metadata": {},
   "outputs": [
    {
     "name": "stderr",
     "output_type": "stream",
     "text": [
      "BokehUserWarning: ColumnDataSource's columns must be of the same length. Current lengths: ('text', 9), ('x', 10), ('y', 10)\n"
     ]
    }
   ],
   "source": [
    "import numpy as np\n",
    "from bokeh.plotting import figure, show, output_file\n",
    "from bokeh.models import ColumnDataSource, LabelSet\n",
    "\n",
    "num_vars = 9\n",
    "\n",
    "theta = np.linspace(0, 2*np.pi, num_vars, endpoint=False)\n",
    "# rotate theta such that the first axis is at the top\n",
    "theta += np.pi/2\n",
    "\n",
    "def unit_poly_verts(theta):\n",
    "    \"\"\"Return vertices of polygon for subplot axes.\n",
    "    This polygon is circumscribed by a unit circle centered at (0.5, 0.5)\n",
    "    \"\"\"\n",
    "    x0, y0, r = [0.5] * 3\n",
    "    verts = [(r*np.cos(t) + x0, r*np.sin(t) + y0) for t in theta]\n",
    "    return verts\n",
    "\n",
    "def radar_patch(r, theta):\n",
    "    yt = (r + 0.01) * np.sin(theta) + 0.5\n",
    "    xt = (r + 0.01) * np.cos(theta) + 0.5\n",
    "    return xt, yt\n",
    "\n",
    "verts = unit_poly_verts(theta)\n",
    "x = [v[0] for v in verts] \n",
    "y = [v[1] for v in verts] \n",
    "\n",
    "p = figure(title=\"Radar\")\n",
    "text = ['Sulfate', 'Nitrate', 'EC', 'OC1', 'OC2', 'OC3', 'OP', 'CO', 'O3']\n",
    "source = ColumnDataSource({'x':x+ [0.5],'y':y+ [1],'text':text})\n",
    "\n",
    "p.line(x=\"x\", y=\"y\", source=source)\n",
    "\n",
    "labels = LabelSet(x=\"x\",y=\"y\",text=\"text\",source=source)\n",
    "\n",
    "p.add_layout(labels)\n",
    "\n",
    "# example factor:\n",
    "f1 = np.array([0.88, 0.01, 0.03, 0.03, 0.00, 0.06, 0.01, 0.00, 0.00]) * 0.5\n",
    "f2 = np.array([0.07, 0.95, 0.04, 0.05, 0.00, 0.02, 0.01, 0.00, 0.00]) * 0.5\n",
    "f3 = np.array([0.01, 0.02, 0.85, 0.19, 0.05, 0.10, 0.00, 0.00, 0.00]) * 0.5\n",
    "f4 = np.array([0.02, 0.01, 0.07, 0.01, 0.21, 0.12, 0.98, 0.00, 0.00]) * 0.5\n",
    "f5 = np.array([0.01, 0.01, 0.02, 0.71, 0.74, 0.70, 0.00, 0.00, 0.00]) * 0.5\n",
    "#xt = np.array(x)\n",
    "flist = [f1,f2,f3,f4,f5]\n",
    "colors = ['blue','green','red', 'orange','purple']\n",
    "for i in range(len(flist)):\n",
    "    xt, yt = radar_patch(flist[i], theta)\n",
    "    p.patch(x=xt, y=yt, fill_alpha=0.15, fill_color=colors[i])\n",
    "show(p)"
   ]
  },
  {
   "cell_type": "code",
   "execution_count": 74,
   "metadata": {},
   "outputs": [
    {
     "data": {
      "text/plain": [
       "<matplotlib.legend.Legend at 0x7fcab286cc88>"
      ]
     },
     "execution_count": 74,
     "metadata": {},
     "output_type": "execute_result"
    },
    {
     "data": {
      "image/png": "[encoded data removed]",
      "text/plain": [
       "<Figure size 432x288 with 1 Axes>"
      ]
     },
     "metadata": {},
     "output_type": "display_data"
    }
   ],
   "source": [
    "# Libraries\n",
    "import matplotlib.pyplot as plt\n",
    "import pandas as pd\n",
    "from math import pi\n",
    " \n",
    "# Set data\n",
    "\"\"\"\n",
    "df = pd.DataFrame({\n",
    "'group': ['A','B','C','D'],\n",
    "'var1': [38, 1.5, 30, 4],\n",
    "'var2': [29, 10, 9, 34],\n",
    "'var3': [8, 39, 23, 24],\n",
    "'var4': [7, 31, 33, 14],\n",
    "'var5': [28, 15, 32, 14]\n",
    "})\n",
    "\"\"\"\n",
    "df = pd.DataFrame({\n",
    "    'group': ['MLK'],\n",
    "    'Positive': [0.36963951587677],\n",
    "    'Neutral': [0.5614382028579712],\n",
    "    'Negative': [0.006769296247512102],\n",
    "    'Mixed':[0.06215296685695648]})\n",
    "#\"\"\" \n",
    " \n",
    "# ------- PART 1: Create background\n",
    " \n",
    "# number of variable\n",
    "categories=list(df)[1:]\n",
    "N = len(categories)\n",
    " \n",
    "# What will be the angle of each axis in the plot? (we divide the plot / number of variable)\n",
    "angles = [n / float(N) * 2 * pi for n in range(N)]\n",
    "angles += angles[:1]\n",
    " \n",
    "# Initialise the spider plot\n",
    "ax = plt.subplot(111, polar=True)\n",
    " \n",
    "# If you want the first axis to be on top:\n",
    "ax.set_theta_offset(pi / 2)\n",
    "ax.set_theta_direction(-1)\n",
    " \n",
    "# Draw one axe per variable + add labels labels yet\n",
    "plt.xticks(angles[:-1], categories)\n",
    " \n",
    "# Draw ylabels\n",
    "ax.set_rlabel_position(0)\n",
    "plt.yticks([0.25,0.5,0.75], [\"25\",\"50\",\"75\"], color=\"grey\", size=7)\n",
    "plt.ylim(0,1)\n",
    " \n",
    " \n",
    "# ------- PART 2: Add plots\n",
    " \n",
    "# Plot each individual = each line of the data\n",
    "# I don't do a loop, because plotting more than 3 groups makes the chart unreadable\n",
    " \n",
    "# Ind1\n",
    "values=df.loc[0].drop('group').values.flatten().tolist()\n",
    "values += values[:1]\n",
    "ax.plot(angles, values, linewidth=1, linestyle='solid', label=\"group A\")\n",
    "ax.fill(angles, values, 'b', alpha=0.1)\n",
    " \n",
    "# Ind2\n",
    "#values=df.loc[1].drop('group').values.flatten().tolist()\n",
    "#values += values[:1]\n",
    "#ax.plot(angles, values, linewidth=1, linestyle='solid', label=\"group B\")\n",
    "#ax.fill(angles, values, 'r', alpha=0.1)\n",
    " \n",
    "# Add legend\n",
    "plt.legend(loc='upper right', bbox_to_anchor=(0.1, 0.1))\n"
   ]
  },
  {
   "cell_type": "code",
   "execution_count": 69,
   "metadata": {},
   "outputs": [
    {
     "data": {
      "text/plain": [
       "['var1', 'var2', 'var3', 'var4', 'var5']"
      ]
     },
     "execution_count": 69,
     "metadata": {},
     "output_type": "execute_result"
    }
   ],
   "source": [
    "categories"
   ]
  },
  {
   "cell_type": "code",
   "execution_count": null,
   "metadata": {},
   "outputs": [],
   "source": []
  },
  {
   "cell_type": "code",
   "execution_count": null,
   "metadata": {},
   "outputs": [],
   "source": []
  },
  {
   "cell_type": "code",
   "execution_count": null,
   "metadata": {},
   "outputs": [],
   "source": []
  },
  {
   "cell_type": "markdown",
   "metadata": {},
   "source": [
    "Bibliografia e Links\n",
    "* Tutorial de reconhecimento de audio em Python https://realpython.com/python-speech-recognition/\n",
    "* Tutorial de como baixar videos do Youtube usando linha de comando no Linux https://itsfoss.com/download-youtube-linux/\n",
    "* Projeto Youtube-DL https://github.com/ytdl-org/youtube-dl/blob/master/README.md#readme\n",
    "* Discurso “We Shall Fight on the Beaches” de Winston Churchill https://www.artofmanliness.com/we-shall-fight-on-the-beaches-by-winston-churchill/\n",
    "* Discurso “40th Anniversary of D-Day” de Ronald Regan https://www.artofmanliness.com/40th-anniversary-of-d-day-by-ronald-regan/ https://www.youtube.com/watch?v=eEIqdcHbc8I\n",
    "* Discurso \"I Have a Dream\" de Martin Luther King https://kinginstitute.stanford.edu/king-papers/documents/i-have-dream-address-delivered-march-washington-jobs-and-freedom\n",
    "* Discurso “What Matters More Than Your Talents” de Jeff Bezos https://jamesclear.com/great-speeches/what-matters-more-than-your-talents-by-jeff-bezos\n",
    "* Discurso “Make Good Art” de Neil Gaiman https://jamesclear.com/great-speeches/make-good-art-by-neil-gaiman\n",
    "* Tutorial de configuração de conta AWS e boto3 https://boto3.amazonaws.com/v1/documentation/api/latest/guide/quickstart.html#using-boto-3\n",
    "* Tutorial de como lidar com Json no Python https://realpython.com/python-json/\n",
    "* Curso de 'Natural Language Processing Fundamentals in Python' do DataCamp https://www.datacamp.com/courses/natural-language-processing-fundamentals-in-python"
   ]
  },
  {
   "cell_type": "code",
   "execution_count": 2,
   "metadata": {},
   "outputs": [],
   "source": []
  },
  {
   "cell_type": "code",
   "execution_count": null,
   "metadata": {},
   "outputs": [],
   "source": []
  }
 ],
 "metadata": {
  "kernelspec": {
   "display_name": "Python 3",
   "language": "python",
   "name": "python3"
  },
  "language_info": {
   "codemirror_mode": {
    "name": "ipython",
    "version": 3
   },
   "file_extension": ".py",
   "mimetype": "text/x-python",
   "name": "python",
   "nbconvert_exporter": "python",
   "pygments_lexer": "ipython3",
   "version": "3.7.3"
  }
 },
 "nbformat": 4,
 "nbformat_minor": 4
}
