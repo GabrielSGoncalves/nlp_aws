{
 "cells": [
  {
   "cell_type": "markdown",
   "metadata": {},
   "source": [
    "# Using Amazon Transcribe and Comprehend to analyze historical speeches\n",
    "\n",
    "On this tutorial we are going to use tools for Natural Language Processing (NLP) to analyze historical videos from Youtube.\n",
    "We are going to use [Youtube-DL](https://github.com/ytdl-org/youtube-dl/blob/master/README.md#readme) to download the files and Amazon Web Services (AWS) NLP tools through the [boto3](https://boto3.amazonaws.com/v1/documentation/api/latest/index.html) library."
   ]
  },
  {
   "cell_type": "code",
   "execution_count": 8,
   "metadata": {},
   "outputs": [],
   "source": [
    "# Libraries used on the tutorial\n",
    "import boto3\n",
    "import os\n",
    "import time\n",
    "import pandas as pd\n",
    "import matplotlib as plt\n",
    "from botocore.exceptions import ClientError\n",
    "from datetime import date\n",
    "import json\n",
    "import seaborn as sns\n",
    "import spacy\n",
    "import numpy as np\n",
    "\n",
    "\n",
    "%matplotlib inline"
   ]
  },
  {
   "cell_type": "markdown",
   "metadata": {},
   "source": [
    "## List of selected speeches\n",
    "We are going to analyze 5 recorded speeches that are publicly available on Youtube:\n",
    "\n",
    "A) [Winston Churchill, \"We Shall Fight on the Beaches\"](https://www.youtube.com/watch?v=s_LncVnecLA)<br>\n",
    "In July the 4th of 1940 Winston Churchill went to the House of Commons to deliver one of the most courageous and important speeches in history. Europe was being rapidly conquered by the German army and France has already fallen into Hitler's control, and the British army had to retreat from the battle of Dunkirk. So Churchill invokes the British people to fight the Nazi menace discarding any cahnce of surrender, becoming the point of inflection in the history of World War II.\n",
    "\n",
    "B) [Ronald Reagan, \"Remarks at the Brandenburg Gate\"](https://www.youtube.com/watch?v=5MDFX-dNtsM&t=6s)<br>\n",
    "Former US president Ronald Reagan showed the world his sense of leadership and freedom when by the Brandeburg Gate in June the 12th of 1987, side by side with the Soviet leader Mikhail Gorbachov, he calls for an end to Cold War.\n",
    "\n",
    "C) [Martin Luther King Jr., \"I Have a Dream\"](https://www.youtube.com/watch?v=I47Y6VHc3Ms)<br>\n",
    "Minister Martin Luther King Jr. was the main leader of the Civil Rights movement that happened in the 50's and 60's in the US. During the March on Washington in 1963, he delivered his famous \"I have a dream\" speech claiming for peace and respect between whites and blacks the US.\n",
    "\n",
    "D) [General Douglas MacArthur, \"Duty, Honor, Country\"](https://www.youtube.com/watch?v=_42_aLGkRpg&t=19s)<br>\n",
    "Few Americans in history have come close to General Douglas MacArthur when it comes to military life achievements.  Having fought in more than three wars, he embodied the figure of duty and honor for a military leader. His final speech at West Point Academy is an ode to patriotism and to soldiers that have died in the name of freedom.\n",
    "\n",
    "E) [John F. Kennedy, \"The Decision to Go to the Moon\"](https://www.youtube.com/watch?v=QAmHcdwKgtQ)<br>\n",
    "Former US President John F. Kennedy was of the greatest speakers in modern history and during an event in May the 25th of 1961 in Houston he communicated the nation and the world the goal for America to go to the moon. Few times in our history a project this massive have impacted so much science and modern society as the space race and moon landing.\n",
    "\n"
   ]
  },
  {
   "cell_type": "markdown",
   "metadata": {},
   "source": [
    "## 1) Downloading the audio files from Youtube\n",
    "First, we are going to download the audio files from Youtube using Youtube-DL.\n",
    "You can easily install it using pip or conda package managers.\n",
    "\n",
    "```sudo pip install youtube-dl```<br>\n",
    "or<br>\n",
    "```conda install -c conda-forge youtube-dl```\n",
    "\n",
    "\n",
    "To download the file of any Youtube video you simply run on your terminal:\n",
    "\n",
    "```youtube-dl <video_url>```<br>\n",
    "\n",
    "As we only need the audio for our analysis, we can specify the parameters ```-x``` and ```--audio-format \"mp3\"``` to download the audio files \n",
    "\n",
    "```youtube-dl -x --audio-format \"mp3\" <video_url>```"
   ]
  },
  {
   "cell_type": "code",
   "execution_count": 9,
   "metadata": {},
   "outputs": [],
   "source": [
    "# Create a dictionary with the URLs for each speech on Youtube\n",
    "dict_urls_youtube = {\n",
    "    'churchill': 'https://www.youtube.com/watch?v=s_LncVnecLA',\n",
    "    'reagan': 'https://www.youtube.com/watch?v=5MDFX-dNtsM&t=6s',\n",
    "    'luther_king': 'https://www.youtube.com/watch?v=I47Y6VHc3Ms',\n",
    "    'macarthur': 'https://www.youtube.com/watch?v=_42_aLGkRpg&t=19s',\n",
    "    'kennedy': 'https://www.youtube.com/watch?v=QAmHcdwKgtQ'}"
   ]
  },
  {
   "cell_type": "code",
   "execution_count": 10,
   "metadata": {},
   "outputs": [
    {
     "name": "stdout",
     "output_type": "stream",
     "text": [
      "Downloading audio file from the link: https://www.youtube.com/watch?v=s_LncVnecLA\n",
      "Downloading audio file from the link: https://www.youtube.com/watch?v=5MDFX-dNtsM&t=6s\n",
      "Downloading audio file from the link: https://www.youtube.com/watch?v=I47Y6VHc3Ms\n",
      "Downloading audio file from the link: https://www.youtube.com/watch?v=_42_aLGkRpg&t=19s\n",
      "Downloading audio file from the link: https://www.youtube.com/watch?v=QAmHcdwKgtQ\n"
     ]
    }
   ],
   "source": [
    "# Download each speech in mp3 format using Youtube-DL\n",
    "for url in list(dict_urls_youtube.values()):\n",
    "    print(f'Downloading audio file from the link: {url}')\n",
    "    os.system(f'youtube-dl -x --audio-format \"mp3\" {url}')"
   ]
  },
  {
   "cell_type": "code",
   "execution_count": 11,
   "metadata": {},
   "outputs": [
    {
     "data": {
      "text/html": [
       "<div>\n",
       "<style scoped>\n",
       "    .dataframe tbody tr th:only-of-type {\n",
       "        vertical-align: middle;\n",
       "    }\n",
       "\n",
       "    .dataframe tbody tr th {\n",
       "        vertical-align: top;\n",
       "    }\n",
       "\n",
       "    .dataframe thead th {\n",
       "        text-align: right;\n",
       "    }\n",
       "</style>\n",
       "<table border=\"1\" class=\"dataframe\">\n",
       "  <thead>\n",
       "    <tr style=\"text-align: right;\">\n",
       "      <th></th>\n",
       "      <th>youtube_urls</th>\n",
       "    </tr>\n",
       "  </thead>\n",
       "  <tbody>\n",
       "    <tr>\n",
       "      <th>churchill</th>\n",
       "      <td>https://www.youtube.com/watch?v=s_LncVnecLA</td>\n",
       "    </tr>\n",
       "    <tr>\n",
       "      <th>reagan</th>\n",
       "      <td>https://www.youtube.com/watch?v=5MDFX-dNtsM&amp;t=6s</td>\n",
       "    </tr>\n",
       "    <tr>\n",
       "      <th>luther_king</th>\n",
       "      <td>https://www.youtube.com/watch?v=I47Y6VHc3Ms</td>\n",
       "    </tr>\n",
       "    <tr>\n",
       "      <th>macarthur</th>\n",
       "      <td>https://www.youtube.com/watch?v=_42_aLGkRpg&amp;t=19s</td>\n",
       "    </tr>\n",
       "    <tr>\n",
       "      <th>kennedy</th>\n",
       "      <td>https://www.youtube.com/watch?v=QAmHcdwKgtQ</td>\n",
       "    </tr>\n",
       "  </tbody>\n",
       "</table>\n",
       "</div>"
      ],
      "text/plain": [
       "                                                  youtube_urls\n",
       "churchill          https://www.youtube.com/watch?v=s_LncVnecLA\n",
       "reagan        https://www.youtube.com/watch?v=5MDFX-dNtsM&t=6s\n",
       "luther_king        https://www.youtube.com/watch?v=I47Y6VHc3Ms\n",
       "macarthur    https://www.youtube.com/watch?v=_42_aLGkRpg&t=19s\n",
       "kennedy            https://www.youtube.com/watch?v=QAmHcdwKgtQ"
      ]
     },
     "execution_count": 11,
     "metadata": {},
     "output_type": "execute_result"
    }
   ],
   "source": [
    "# Create a Dataframe to store the information trough the analysis\n",
    "df_audio = pd.DataFrame.from_dict(dict_urls_youtube, orient='index', columns=['youtube_urls'])\n",
    "df_audio"
   ]
  },
  {
   "cell_type": "code",
   "execution_count": 12,
   "metadata": {},
   "outputs": [],
   "source": [
    "# Linking the name of each audio file to the speaker\n",
    "for audio_file in os.listdir('.'):\n",
    "    if 'churchill' in audio_file.lower():\n",
    "        df_audio.at['churchill','filename'] = audio_file\n",
    "    elif 'reagan' in audio_file.lower():\n",
    "        df_audio.at['reagan', 'filename'] = audio_file\n",
    "    elif 'king' in audio_file.lower():\n",
    "        df_audio.at['luther_king', 'filename'] = audio_file\n",
    "    elif 'macarthur' in audio_file.lower():\n",
    "        df_audio.at['macarthur', 'filename'] = audio_file\n",
    "    elif 'kennedy' in audio_file.lower():\n",
    "        df_audio.at['kennedy', 'filename'] = audio_file"
   ]
  },
  {
   "cell_type": "code",
   "execution_count": 13,
   "metadata": {},
   "outputs": [
    {
     "data": {
      "text/html": [
       "<div>\n",
       "<style scoped>\n",
       "    .dataframe tbody tr th:only-of-type {\n",
       "        vertical-align: middle;\n",
       "    }\n",
       "\n",
       "    .dataframe tbody tr th {\n",
       "        vertical-align: top;\n",
       "    }\n",
       "\n",
       "    .dataframe thead th {\n",
       "        text-align: right;\n",
       "    }\n",
       "</style>\n",
       "<table border=\"1\" class=\"dataframe\">\n",
       "  <thead>\n",
       "    <tr style=\"text-align: right;\">\n",
       "      <th></th>\n",
       "      <th>youtube_urls</th>\n",
       "      <th>filename</th>\n",
       "    </tr>\n",
       "  </thead>\n",
       "  <tbody>\n",
       "    <tr>\n",
       "      <th>churchill</th>\n",
       "      <td>https://www.youtube.com/watch?v=s_LncVnecLA</td>\n",
       "      <td>WE SHALL NEVER SURRENDER speech by Winston Chu...</td>\n",
       "    </tr>\n",
       "    <tr>\n",
       "      <th>reagan</th>\n",
       "      <td>https://www.youtube.com/watch?v=5MDFX-dNtsM&amp;t=6s</td>\n",
       "      <td>'Berlin Wall' Speech - President Reagan's Addr...</td>\n",
       "    </tr>\n",
       "    <tr>\n",
       "      <th>luther_king</th>\n",
       "      <td>https://www.youtube.com/watch?v=I47Y6VHc3Ms</td>\n",
       "      <td>Martin Luther King _ 'I Have A Dream' Speech-I...</td>\n",
       "    </tr>\n",
       "    <tr>\n",
       "      <th>macarthur</th>\n",
       "      <td>https://www.youtube.com/watch?v=_42_aLGkRpg&amp;t=19s</td>\n",
       "      <td>Duty, Honor, Country _ Douglas MacArthur _ May...</td>\n",
       "    </tr>\n",
       "    <tr>\n",
       "      <th>kennedy</th>\n",
       "      <td>https://www.youtube.com/watch?v=QAmHcdwKgtQ</td>\n",
       "      <td>'We choose to go to the moon' Speech by Presid...</td>\n",
       "    </tr>\n",
       "  </tbody>\n",
       "</table>\n",
       "</div>"
      ],
      "text/plain": [
       "                                                  youtube_urls  \\\n",
       "churchill          https://www.youtube.com/watch?v=s_LncVnecLA   \n",
       "reagan        https://www.youtube.com/watch?v=5MDFX-dNtsM&t=6s   \n",
       "luther_king        https://www.youtube.com/watch?v=I47Y6VHc3Ms   \n",
       "macarthur    https://www.youtube.com/watch?v=_42_aLGkRpg&t=19s   \n",
       "kennedy            https://www.youtube.com/watch?v=QAmHcdwKgtQ   \n",
       "\n",
       "                                                      filename  \n",
       "churchill    WE SHALL NEVER SURRENDER speech by Winston Chu...  \n",
       "reagan       'Berlin Wall' Speech - President Reagan's Addr...  \n",
       "luther_king  Martin Luther King _ 'I Have A Dream' Speech-I...  \n",
       "macarthur    Duty, Honor, Country _ Douglas MacArthur _ May...  \n",
       "kennedy      'We choose to go to the moon' Speech by Presid...  "
      ]
     },
     "execution_count": 13,
     "metadata": {},
     "output_type": "execute_result"
    }
   ],
   "source": [
    "df_audio"
   ]
  },
  {
   "cell_type": "markdown",
   "metadata": {},
   "source": [
    "### Configuring AWS using the terminal\n",
    "To use boto3 you first need to install the ```awscli```\n",
    "```\n",
    "$ pip install awscli --upgrade --user\n",
    "```\n",
    "\n",
    "Next step is to use your aws credentials to configure ```awscli``` by typing:\n",
    "\n",
    "```\n",
    "aws configure\n",
    "```\n",
    "\n",
    "And define the following values:\n",
    "\n",
    "```\n",
    "AWS Access Key ID [****************DNYA]: \n",
    "AWS Secret Access Key [****************oEG/]: \n",
    "Default region name [us-east-1]: \n",
    "Default output format [json]:\n",
    "```\n",
    "\n",
    "Another option to configure your AWS credentials is to use *boto3*\n",
    "\n",
    "```python\n",
    "import boto3\n",
    " \n",
    "aws_access_key_id = '<AWS_ACCESS_KEY_ID>'\n",
    "aws_secret_access_key = '<AWS_SECRET_ACCESS_KEY>'\n",
    "region_name = 'us-east-1'\n",
    " \n",
    "session = boto3.session.Session(aws_access_key_id=aws_access_key_id,\n",
    "                                aws_secret_access_key=aws_secret_access_key,\n",
    "                                region_name=region_name)\n",
    "```"
   ]
  },
  {
   "cell_type": "code",
   "execution_count": 14,
   "metadata": {},
   "outputs": [
    {
     "name": "stdout",
     "output_type": "stream",
     "text": [
      "aws-deepracer-35d06d75-1bdf-410f-8544-4675a95e89e2\n",
      "aws-sam-cli-gsg\n",
      "dnanexus-backup-gsg\n",
      "dvc-repos-gsg\n",
      "elasticbeanstalk-us-east-1-089951219780\n",
      "grupy-nlp-aws\n",
      "little-thomas-assets\n",
      "medium-lambda-tutorial-bucket\n",
      "medium-nlp-aws\n",
      "regis-media\n",
      "stackery-assetsbucket-p8b8xq12o1re\n",
      "udacity-secure-and-pivate-ai-project\n",
      "vision-pmp\n"
     ]
    }
   ],
   "source": [
    "# Subindo os arquivos para o S3\n",
    "# Criar um cliente S3\n",
    "s3 = boto3.client('s3')\n",
    "\n",
    "# Buscar lista de buckets no S3\n",
    "response = s3.list_buckets()\n",
    "\n",
    "# Organizar a resposta em uma lista\n",
    "buckets = [bucket['Name'] for bucket in response['Buckets']]\n",
    "\n",
    "for bucket in buckets:\n",
    "    print(bucket)\n",
    "#print(\"Bucket List: %s\" % buckets)"
   ]
  },
  {
   "cell_type": "code",
   "execution_count": 15,
   "metadata": {},
   "outputs": [
    {
     "data": {
      "text/plain": [
       "{'ResponseMetadata': {'RequestId': '5E49D355AF2214A2',\n",
       "  'HostId': 'T8+7rAKO6Xbf5bJbsEhHkCq6nxYkReTTWxK5eoIJRByt8dVaQkv9/ofYogptyejIeQYgUZbuWjE=',\n",
       "  'HTTPStatusCode': 200,\n",
       "  'HTTPHeaders': {'x-amz-id-2': 'T8+7rAKO6Xbf5bJbsEhHkCq6nxYkReTTWxK5eoIJRByt8dVaQkv9/ofYogptyejIeQYgUZbuWjE=',\n",
       "   'x-amz-request-id': '5E49D355AF2214A2',\n",
       "   'date': 'Mon, 23 Sep 2019 20:02:13 GMT',\n",
       "   'location': '/medium-nlp-aws',\n",
       "   'content-length': '0',\n",
       "   'server': 'AmazonS3'},\n",
       "  'RetryAttempts': 0},\n",
       " 'Location': '/medium-nlp-aws'}"
      ]
     },
     "execution_count": 15,
     "metadata": {},
     "output_type": "execute_result"
    }
   ],
   "source": [
    "# Creating a new S3 bucket to upload the audio files\n",
    "bucket_name = 'medium-nlp-aws'\n",
    "client_s3 = boto3.client('s3')\n",
    "client_s3.create_bucket(Bucket=bucket_name)"
   ]
  },
  {
   "cell_type": "code",
   "execution_count": 16,
   "metadata": {
    "scrolled": true
   },
   "outputs": [
    {
     "name": "stdout",
     "output_type": "stream",
     "text": [
      "WE SHALL NEVER SURRENDER speech by Winston Churchill (We Shall Fight on the Beaches)-s_LncVnecLA.mp3\n",
      "'Berlin Wall' Speech - President Reagan's Address at the Brandenburg Gate - 6_12_87-5MDFX-dNtsM.mp3\n",
      "Martin Luther King _ 'I Have A Dream' Speech-I47Y6VHc3Ms.mp3\n",
      "Duty, Honor, Country _ Douglas MacArthur _ May 12, 1962 _ West Point-_42_aLGkRpg.mp3\n",
      "'We choose to go to the moon' Speech by President John F. Kennedy-QAmHcdwKgtQ.mp3\n"
     ]
    }
   ],
   "source": [
    "# Uploading the files to the created bucket\n",
    "for audio_file in df_audio.filename.values:\n",
    "    print(audio_file)\n",
    "    #client_s3.upload_file(audio_file, bucket_name,  audio_file)"
   ]
  },
  {
   "cell_type": "code",
   "execution_count": 17,
   "metadata": {},
   "outputs": [
    {
     "data": {
      "text/html": [
       "<div>\n",
       "<style scoped>\n",
       "    .dataframe tbody tr th:only-of-type {\n",
       "        vertical-align: middle;\n",
       "    }\n",
       "\n",
       "    .dataframe tbody tr th {\n",
       "        vertical-align: top;\n",
       "    }\n",
       "\n",
       "    .dataframe thead th {\n",
       "        text-align: right;\n",
       "    }\n",
       "</style>\n",
       "<table border=\"1\" class=\"dataframe\">\n",
       "  <thead>\n",
       "    <tr style=\"text-align: right;\">\n",
       "      <th></th>\n",
       "      <th>youtube_urls</th>\n",
       "      <th>filename</th>\n",
       "    </tr>\n",
       "  </thead>\n",
       "  <tbody>\n",
       "    <tr>\n",
       "      <th>churchill</th>\n",
       "      <td>https://www.youtube.com/watch?v=s_LncVnecLA</td>\n",
       "      <td>WE SHALL NEVER SURRENDER speech by Winston Chu...</td>\n",
       "    </tr>\n",
       "    <tr>\n",
       "      <th>reagan</th>\n",
       "      <td>https://www.youtube.com/watch?v=5MDFX-dNtsM&amp;t=6s</td>\n",
       "      <td>'Berlin Wall' Speech - President Reagan's Addr...</td>\n",
       "    </tr>\n",
       "    <tr>\n",
       "      <th>luther_king</th>\n",
       "      <td>https://www.youtube.com/watch?v=I47Y6VHc3Ms</td>\n",
       "      <td>Martin Luther King _ 'I Have A Dream' Speech-I...</td>\n",
       "    </tr>\n",
       "    <tr>\n",
       "      <th>macarthur</th>\n",
       "      <td>https://www.youtube.com/watch?v=_42_aLGkRpg&amp;t=19s</td>\n",
       "      <td>Duty, Honor, Country _ Douglas MacArthur _ May...</td>\n",
       "    </tr>\n",
       "    <tr>\n",
       "      <th>kennedy</th>\n",
       "      <td>https://www.youtube.com/watch?v=QAmHcdwKgtQ</td>\n",
       "      <td>'We choose to go to the moon' Speech by Presid...</td>\n",
       "    </tr>\n",
       "  </tbody>\n",
       "</table>\n",
       "</div>"
      ],
      "text/plain": [
       "                                                  youtube_urls  \\\n",
       "churchill          https://www.youtube.com/watch?v=s_LncVnecLA   \n",
       "reagan        https://www.youtube.com/watch?v=5MDFX-dNtsM&t=6s   \n",
       "luther_king        https://www.youtube.com/watch?v=I47Y6VHc3Ms   \n",
       "macarthur    https://www.youtube.com/watch?v=_42_aLGkRpg&t=19s   \n",
       "kennedy            https://www.youtube.com/watch?v=QAmHcdwKgtQ   \n",
       "\n",
       "                                                      filename  \n",
       "churchill    WE SHALL NEVER SURRENDER speech by Winston Chu...  \n",
       "reagan       'Berlin Wall' Speech - President Reagan's Addr...  \n",
       "luther_king  Martin Luther King _ 'I Have A Dream' Speech-I...  \n",
       "macarthur    Duty, Honor, Country _ Douglas MacArthur _ May...  \n",
       "kennedy      'We choose to go to the moon' Speech by Presid...  "
      ]
     },
     "execution_count": 17,
     "metadata": {},
     "output_type": "execute_result"
    }
   ],
   "source": [
    "df_audio"
   ]
  },
  {
   "cell_type": "code",
   "execution_count": 18,
   "metadata": {
    "scrolled": true
   },
   "outputs": [
    {
     "name": "stdout",
     "output_type": "stream",
     "text": [
      "https://medium-nlp-aws.s3.amazonaws.com/WE+SHALL+NEVER+SURRENDER+speech+by+Winston+Churchill+(We+Shall+Fight+on+the+Beaches)-s_LncVnecLA.mp3\n",
      "https://medium-nlp-aws.s3.amazonaws.com/'Berlin+Wall'+Speech+-+President+Reagan's+Address+at+the+Brandenburg+Gate+-+6_12_87-5MDFX-dNtsM.mp3\n",
      "https://medium-nlp-aws.s3.amazonaws.com/Martin+Luther+King+_+'I+Have+A+Dream'+Speech-I47Y6VHc3Ms.mp3\n",
      "https://medium-nlp-aws.s3.amazonaws.com/Duty,+Honor,+Country+_+Douglas+MacArthur+_+May+12,+1962+_+West+Point-_42_aLGkRpg.mp3\n",
      "https://medium-nlp-aws.s3.amazonaws.com/'We+choose+to+go+to+the+moon'+Speech+by+President+John+F.+Kennedy-QAmHcdwKgtQ.mp3\n"
     ]
    }
   ],
   "source": [
    "# Define the file URLs on the bucket using S3 convention for file paths\n",
    "for index, row in df_audio.iterrows():\n",
    "    bucket_location = boto3.client('s3').get_bucket_location(Bucket=bucket_name)\n",
    "    object_url = f\"https://{bucket_name}.s3.amazonaws.com/{row['filename'].replace(' ', '+')}\"\n",
    "    df_audio.at[index, 'url'] = object_url\n",
    "    print(object_url)"
   ]
  },
  {
   "cell_type": "code",
   "execution_count": 19,
   "metadata": {},
   "outputs": [
    {
     "data": {
      "text/html": [
       "<div>\n",
       "<style scoped>\n",
       "    .dataframe tbody tr th:only-of-type {\n",
       "        vertical-align: middle;\n",
       "    }\n",
       "\n",
       "    .dataframe tbody tr th {\n",
       "        vertical-align: top;\n",
       "    }\n",
       "\n",
       "    .dataframe thead th {\n",
       "        text-align: right;\n",
       "    }\n",
       "</style>\n",
       "<table border=\"1\" class=\"dataframe\">\n",
       "  <thead>\n",
       "    <tr style=\"text-align: right;\">\n",
       "      <th></th>\n",
       "      <th>youtube_urls</th>\n",
       "      <th>filename</th>\n",
       "      <th>url</th>\n",
       "    </tr>\n",
       "  </thead>\n",
       "  <tbody>\n",
       "    <tr>\n",
       "      <th>churchill</th>\n",
       "      <td>https://www.youtube.com/watch?v=s_LncVnecLA</td>\n",
       "      <td>WE SHALL NEVER SURRENDER speech by Winston Chu...</td>\n",
       "      <td>https://medium-nlp-aws.s3.amazonaws.com/WE+SHA...</td>\n",
       "    </tr>\n",
       "    <tr>\n",
       "      <th>reagan</th>\n",
       "      <td>https://www.youtube.com/watch?v=5MDFX-dNtsM&amp;t=6s</td>\n",
       "      <td>'Berlin Wall' Speech - President Reagan's Addr...</td>\n",
       "      <td>https://medium-nlp-aws.s3.amazonaws.com/'Berli...</td>\n",
       "    </tr>\n",
       "    <tr>\n",
       "      <th>luther_king</th>\n",
       "      <td>https://www.youtube.com/watch?v=I47Y6VHc3Ms</td>\n",
       "      <td>Martin Luther King _ 'I Have A Dream' Speech-I...</td>\n",
       "      <td>https://medium-nlp-aws.s3.amazonaws.com/Martin...</td>\n",
       "    </tr>\n",
       "    <tr>\n",
       "      <th>macarthur</th>\n",
       "      <td>https://www.youtube.com/watch?v=_42_aLGkRpg&amp;t=19s</td>\n",
       "      <td>Duty, Honor, Country _ Douglas MacArthur _ May...</td>\n",
       "      <td>https://medium-nlp-aws.s3.amazonaws.com/Duty,+...</td>\n",
       "    </tr>\n",
       "    <tr>\n",
       "      <th>kennedy</th>\n",
       "      <td>https://www.youtube.com/watch?v=QAmHcdwKgtQ</td>\n",
       "      <td>'We choose to go to the moon' Speech by Presid...</td>\n",
       "      <td>https://medium-nlp-aws.s3.amazonaws.com/'We+ch...</td>\n",
       "    </tr>\n",
       "  </tbody>\n",
       "</table>\n",
       "</div>"
      ],
      "text/plain": [
       "                                                  youtube_urls  \\\n",
       "churchill          https://www.youtube.com/watch?v=s_LncVnecLA   \n",
       "reagan        https://www.youtube.com/watch?v=5MDFX-dNtsM&t=6s   \n",
       "luther_king        https://www.youtube.com/watch?v=I47Y6VHc3Ms   \n",
       "macarthur    https://www.youtube.com/watch?v=_42_aLGkRpg&t=19s   \n",
       "kennedy            https://www.youtube.com/watch?v=QAmHcdwKgtQ   \n",
       "\n",
       "                                                      filename  \\\n",
       "churchill    WE SHALL NEVER SURRENDER speech by Winston Chu...   \n",
       "reagan       'Berlin Wall' Speech - President Reagan's Addr...   \n",
       "luther_king  Martin Luther King _ 'I Have A Dream' Speech-I...   \n",
       "macarthur    Duty, Honor, Country _ Douglas MacArthur _ May...   \n",
       "kennedy      'We choose to go to the moon' Speech by Presid...   \n",
       "\n",
       "                                                           url  \n",
       "churchill    https://medium-nlp-aws.s3.amazonaws.com/WE+SHA...  \n",
       "reagan       https://medium-nlp-aws.s3.amazonaws.com/'Berli...  \n",
       "luther_king  https://medium-nlp-aws.s3.amazonaws.com/Martin...  \n",
       "macarthur    https://medium-nlp-aws.s3.amazonaws.com/Duty,+...  \n",
       "kennedy      https://medium-nlp-aws.s3.amazonaws.com/'We+ch...  "
      ]
     },
     "execution_count": 19,
     "metadata": {},
     "output_type": "execute_result"
    }
   ],
   "source": [
    "df_audio"
   ]
  },
  {
   "cell_type": "code",
   "execution_count": 20,
   "metadata": {},
   "outputs": [],
   "source": [
    "# Function to start Amazon Transcribe job\n",
    "def start_transcription(bucket, job_name, file_url, wait_process=True):\n",
    "    client_transcribe = boto3.client('transcribe')\n",
    "    client_transcribe.start_transcription_job(\n",
    "        TranscriptionJobName=job_name,\n",
    "        Media={'MediaFileUri': file_url},\n",
    "        MediaFormat='mp3',\n",
    "        LanguageCode='en-US',\n",
    "        OutputBucketName=bucket)\n",
    "    if wait_process:\n",
    "        while True:\n",
    "            status = client_transcribe.get_transcription_job(TranscriptionJobName=job_name)\n",
    "            if status['TranscriptionJob']['TranscriptionJobStatus'] in ['COMPLETED', 'FAILED']:\n",
    "                break\n",
    "            print(\"Not ready yet...\")\n",
    "            time.sleep(20)\n",
    "\n",
    "        print('Transcription finished')\n",
    "        return status\n",
    "    "
   ]
  },
  {
   "cell_type": "code",
   "execution_count": 21,
   "metadata": {},
   "outputs": [
    {
     "data": {
      "text/html": [
       "<div>\n",
       "<style scoped>\n",
       "    .dataframe tbody tr th:only-of-type {\n",
       "        vertical-align: middle;\n",
       "    }\n",
       "\n",
       "    .dataframe tbody tr th {\n",
       "        vertical-align: top;\n",
       "    }\n",
       "\n",
       "    .dataframe thead th {\n",
       "        text-align: right;\n",
       "    }\n",
       "</style>\n",
       "<table border=\"1\" class=\"dataframe\">\n",
       "  <thead>\n",
       "    <tr style=\"text-align: right;\">\n",
       "      <th></th>\n",
       "      <th>youtube_urls</th>\n",
       "      <th>filename</th>\n",
       "      <th>url</th>\n",
       "    </tr>\n",
       "  </thead>\n",
       "  <tbody>\n",
       "    <tr>\n",
       "      <th>churchill</th>\n",
       "      <td>https://www.youtube.com/watch?v=s_LncVnecLA</td>\n",
       "      <td>WE SHALL NEVER SURRENDER speech by Winston Chu...</td>\n",
       "      <td>https://medium-nlp-aws.s3.amazonaws.com/WE+SHA...</td>\n",
       "    </tr>\n",
       "    <tr>\n",
       "      <th>reagan</th>\n",
       "      <td>https://www.youtube.com/watch?v=5MDFX-dNtsM&amp;t=6s</td>\n",
       "      <td>'Berlin Wall' Speech - President Reagan's Addr...</td>\n",
       "      <td>https://medium-nlp-aws.s3.amazonaws.com/'Berli...</td>\n",
       "    </tr>\n",
       "    <tr>\n",
       "      <th>luther_king</th>\n",
       "      <td>https://www.youtube.com/watch?v=I47Y6VHc3Ms</td>\n",
       "      <td>Martin Luther King _ 'I Have A Dream' Speech-I...</td>\n",
       "      <td>https://medium-nlp-aws.s3.amazonaws.com/Martin...</td>\n",
       "    </tr>\n",
       "    <tr>\n",
       "      <th>macarthur</th>\n",
       "      <td>https://www.youtube.com/watch?v=_42_aLGkRpg&amp;t=19s</td>\n",
       "      <td>Duty, Honor, Country _ Douglas MacArthur _ May...</td>\n",
       "      <td>https://medium-nlp-aws.s3.amazonaws.com/Duty,+...</td>\n",
       "    </tr>\n",
       "    <tr>\n",
       "      <th>kennedy</th>\n",
       "      <td>https://www.youtube.com/watch?v=QAmHcdwKgtQ</td>\n",
       "      <td>'We choose to go to the moon' Speech by Presid...</td>\n",
       "      <td>https://medium-nlp-aws.s3.amazonaws.com/'We+ch...</td>\n",
       "    </tr>\n",
       "  </tbody>\n",
       "</table>\n",
       "</div>"
      ],
      "text/plain": [
       "                                                  youtube_urls  \\\n",
       "churchill          https://www.youtube.com/watch?v=s_LncVnecLA   \n",
       "reagan        https://www.youtube.com/watch?v=5MDFX-dNtsM&t=6s   \n",
       "luther_king        https://www.youtube.com/watch?v=I47Y6VHc3Ms   \n",
       "macarthur    https://www.youtube.com/watch?v=_42_aLGkRpg&t=19s   \n",
       "kennedy            https://www.youtube.com/watch?v=QAmHcdwKgtQ   \n",
       "\n",
       "                                                      filename  \\\n",
       "churchill    WE SHALL NEVER SURRENDER speech by Winston Chu...   \n",
       "reagan       'Berlin Wall' Speech - President Reagan's Addr...   \n",
       "luther_king  Martin Luther King _ 'I Have A Dream' Speech-I...   \n",
       "macarthur    Duty, Honor, Country _ Douglas MacArthur _ May...   \n",
       "kennedy      'We choose to go to the moon' Speech by Presid...   \n",
       "\n",
       "                                                           url  \n",
       "churchill    https://medium-nlp-aws.s3.amazonaws.com/WE+SHA...  \n",
       "reagan       https://medium-nlp-aws.s3.amazonaws.com/'Berli...  \n",
       "luther_king  https://medium-nlp-aws.s3.amazonaws.com/Martin...  \n",
       "macarthur    https://medium-nlp-aws.s3.amazonaws.com/Duty,+...  \n",
       "kennedy      https://medium-nlp-aws.s3.amazonaws.com/'We+ch...  "
      ]
     },
     "execution_count": 21,
     "metadata": {},
     "output_type": "execute_result"
    }
   ],
   "source": [
    "df_audio"
   ]
  },
  {
   "cell_type": "code",
   "execution_count": 22,
   "metadata": {},
   "outputs": [
    {
     "name": "stdout",
     "output_type": "stream",
     "text": [
      "churchill_speech_06092019 https://medium-nlp-aws.s3.amazonaws.com/WE+SHALL+NEVER+SURRENDER+speech+by+Winston+Churchill+(We+Shall+Fight+on+the+Beaches)-s_LncVnecLA.mp3\n",
      "reagan_speech_06092019 https://medium-nlp-aws.s3.amazonaws.com/'Berlin+Wall'+Speech+-+President+Reagan's+Address+at+the+Brandenburg+Gate+-+6_12_87-5MDFX-dNtsM.mp3\n",
      "luther_king_speech_06092019 https://medium-nlp-aws.s3.amazonaws.com/Martin+Luther+King+_+'I+Have+A+Dream'+Speech-I47Y6VHc3Ms.mp3\n",
      "macarthur_speech_06092019 https://medium-nlp-aws.s3.amazonaws.com/Duty,+Honor,+Country+_+Douglas+MacArthur+_+May+12,+1962+_+West+Point-_42_aLGkRpg.mp3\n",
      "kennedy_speech_06092019 https://medium-nlp-aws.s3.amazonaws.com/'We+choose+to+go+to+the+moon'+Speech+by+President+John+F.+Kennedy-QAmHcdwKgtQ.mp3\n"
     ]
    }
   ],
   "source": [
    "# Definy today's date to use on job name\n",
    "#today = date.today().strftime(\"%d%m%Y\")\n",
    "today = '06092019'\n",
    "\n",
    "# Iterate over the audio files URLs on S3 and call start_transcription\n",
    "for index, row in df_audio.iterrows():    \n",
    "    print(f'{index}_speech_{today}', row.url)\n",
    "    #start_transcription(bucket_name, f'{index}_speech_{today}', row.url, wait_process=False)\n",
    "    df_audio.at[index, 'transcription_url'] = f\"https://{bucket_name}.s3.amazonaws.com/{index}_speech_{today}.json\"\n",
    "    df_audio.at[index, 'json_transcription'] = f\"{index}_speech_{today}.json\""
   ]
  },
  {
   "cell_type": "code",
   "execution_count": 23,
   "metadata": {},
   "outputs": [
    {
     "data": {
      "text/html": [
       "<div>\n",
       "<style scoped>\n",
       "    .dataframe tbody tr th:only-of-type {\n",
       "        vertical-align: middle;\n",
       "    }\n",
       "\n",
       "    .dataframe tbody tr th {\n",
       "        vertical-align: top;\n",
       "    }\n",
       "\n",
       "    .dataframe thead th {\n",
       "        text-align: right;\n",
       "    }\n",
       "</style>\n",
       "<table border=\"1\" class=\"dataframe\">\n",
       "  <thead>\n",
       "    <tr style=\"text-align: right;\">\n",
       "      <th></th>\n",
       "      <th>youtube_urls</th>\n",
       "      <th>filename</th>\n",
       "      <th>url</th>\n",
       "      <th>transcription_url</th>\n",
       "      <th>json_transcription</th>\n",
       "    </tr>\n",
       "  </thead>\n",
       "  <tbody>\n",
       "    <tr>\n",
       "      <th>churchill</th>\n",
       "      <td>https://www.youtube.com/watch?v=s_LncVnecLA</td>\n",
       "      <td>WE SHALL NEVER SURRENDER speech by Winston Chu...</td>\n",
       "      <td>https://medium-nlp-aws.s3.amazonaws.com/WE+SHA...</td>\n",
       "      <td>https://medium-nlp-aws.s3.amazonaws.com/church...</td>\n",
       "      <td>churchill_speech_06092019.json</td>\n",
       "    </tr>\n",
       "    <tr>\n",
       "      <th>reagan</th>\n",
       "      <td>https://www.youtube.com/watch?v=5MDFX-dNtsM&amp;t=6s</td>\n",
       "      <td>'Berlin Wall' Speech - President Reagan's Addr...</td>\n",
       "      <td>https://medium-nlp-aws.s3.amazonaws.com/'Berli...</td>\n",
       "      <td>https://medium-nlp-aws.s3.amazonaws.com/reagan...</td>\n",
       "      <td>reagan_speech_06092019.json</td>\n",
       "    </tr>\n",
       "    <tr>\n",
       "      <th>luther_king</th>\n",
       "      <td>https://www.youtube.com/watch?v=I47Y6VHc3Ms</td>\n",
       "      <td>Martin Luther King _ 'I Have A Dream' Speech-I...</td>\n",
       "      <td>https://medium-nlp-aws.s3.amazonaws.com/Martin...</td>\n",
       "      <td>https://medium-nlp-aws.s3.amazonaws.com/luther...</td>\n",
       "      <td>luther_king_speech_06092019.json</td>\n",
       "    </tr>\n",
       "    <tr>\n",
       "      <th>macarthur</th>\n",
       "      <td>https://www.youtube.com/watch?v=_42_aLGkRpg&amp;t=19s</td>\n",
       "      <td>Duty, Honor, Country _ Douglas MacArthur _ May...</td>\n",
       "      <td>https://medium-nlp-aws.s3.amazonaws.com/Duty,+...</td>\n",
       "      <td>https://medium-nlp-aws.s3.amazonaws.com/macart...</td>\n",
       "      <td>macarthur_speech_06092019.json</td>\n",
       "    </tr>\n",
       "    <tr>\n",
       "      <th>kennedy</th>\n",
       "      <td>https://www.youtube.com/watch?v=QAmHcdwKgtQ</td>\n",
       "      <td>'We choose to go to the moon' Speech by Presid...</td>\n",
       "      <td>https://medium-nlp-aws.s3.amazonaws.com/'We+ch...</td>\n",
       "      <td>https://medium-nlp-aws.s3.amazonaws.com/kenned...</td>\n",
       "      <td>kennedy_speech_06092019.json</td>\n",
       "    </tr>\n",
       "  </tbody>\n",
       "</table>\n",
       "</div>"
      ],
      "text/plain": [
       "                                                  youtube_urls  \\\n",
       "churchill          https://www.youtube.com/watch?v=s_LncVnecLA   \n",
       "reagan        https://www.youtube.com/watch?v=5MDFX-dNtsM&t=6s   \n",
       "luther_king        https://www.youtube.com/watch?v=I47Y6VHc3Ms   \n",
       "macarthur    https://www.youtube.com/watch?v=_42_aLGkRpg&t=19s   \n",
       "kennedy            https://www.youtube.com/watch?v=QAmHcdwKgtQ   \n",
       "\n",
       "                                                      filename  \\\n",
       "churchill    WE SHALL NEVER SURRENDER speech by Winston Chu...   \n",
       "reagan       'Berlin Wall' Speech - President Reagan's Addr...   \n",
       "luther_king  Martin Luther King _ 'I Have A Dream' Speech-I...   \n",
       "macarthur    Duty, Honor, Country _ Douglas MacArthur _ May...   \n",
       "kennedy      'We choose to go to the moon' Speech by Presid...   \n",
       "\n",
       "                                                           url  \\\n",
       "churchill    https://medium-nlp-aws.s3.amazonaws.com/WE+SHA...   \n",
       "reagan       https://medium-nlp-aws.s3.amazonaws.com/'Berli...   \n",
       "luther_king  https://medium-nlp-aws.s3.amazonaws.com/Martin...   \n",
       "macarthur    https://medium-nlp-aws.s3.amazonaws.com/Duty,+...   \n",
       "kennedy      https://medium-nlp-aws.s3.amazonaws.com/'We+ch...   \n",
       "\n",
       "                                             transcription_url  \\\n",
       "churchill    https://medium-nlp-aws.s3.amazonaws.com/church...   \n",
       "reagan       https://medium-nlp-aws.s3.amazonaws.com/reagan...   \n",
       "luther_king  https://medium-nlp-aws.s3.amazonaws.com/luther...   \n",
       "macarthur    https://medium-nlp-aws.s3.amazonaws.com/macart...   \n",
       "kennedy      https://medium-nlp-aws.s3.amazonaws.com/kenned...   \n",
       "\n",
       "                           json_transcription  \n",
       "churchill      churchill_speech_06092019.json  \n",
       "reagan            reagan_speech_06092019.json  \n",
       "luther_king  luther_king_speech_06092019.json  \n",
       "macarthur      macarthur_speech_06092019.json  \n",
       "kennedy          kennedy_speech_06092019.json  "
      ]
     },
     "execution_count": 23,
     "metadata": {},
     "output_type": "execute_result"
    }
   ],
   "source": [
    "df_audio"
   ]
  },
  {
   "cell_type": "code",
   "execution_count": 24,
   "metadata": {},
   "outputs": [
    {
     "data": {
      "text/plain": [
       "{'Status': 'COMPLETED',\n",
       " 'NextToken': '3/Q22yZ4n/FldYqPp92GoX3ADk9mPfsO3qZo9qhrTcT1AIMpJT1kTo3E1HAYj6CNHbs93907EBOU8/eJDL4p/5YMEtv3+yc21vQxTCoV9OBJj5EAZIyCR3cqxPPly1z3lTqQz8rclrfoMTu3/NL6D9eAzv9pZzMLppfC8u3drR7FinRwX3lHFO9S4SHpW6qv2SLTlosQ/eOodHpJ4elyTToDSDGOv7a5i1aSL+C9hQFx6cOe+U0Cc/jOCK6iKGWgJnHWRouftoHnaZdQy/LtDgLTeRmiklRnI8WLROepssxkPjVJQoQ0VFMNDF0aeHwHF0upXC3fowZVQ4Hi7kRiDlzeHCVVW9+H8ZdTNadxugVVDisXoPnqISH9cUvfNtc25y+n29G8btUkK/x5O8gveBoS1agNm58vAkdB8s2w0leUnTBrUV3+qcefAYY1XnDImPQV1v8LyX+Abwo8GkQNwhf2Vi/uQCzcoNj/8QcVri5hDTz0Rhz/DLV0QO5yGjdOlOfLteoT9t4qIxKvWgLt8yaSf1U9ebhX9pH7TCvlDrae949ifnALofNr8dasy8g6Hho2o2yBMB/yN3STYv7PFwC66zYAkyN5IfISg8aNZIs/jV+X6p7vEmrQJ+oifUQUuCpifgg3NXcrI9XbtRMBxrUJWyQK84hXmUEjXb+oJNkmYFA/U4A/lSgd497GMnlD4gwFNmJPwYZDpQbUBvoJaOs20HIw3GCKhMmKc5CodXiJVkx41BedWjAKMCyx69y4uVjmSRkUEJ8gybBZaEvZ+YMEPooePuHquqlNV2jld2uGdGaPrQ8b8y/w1PXyxDakh+Xi0ciGOhi9WyHq4GF4wHx3uD5A0MXfO8NF7rPAgWtF9NS72ndCcETRj7hgTPS0OKB6MJWqujdj8=',\n",
       " 'TranscriptionJobSummaries': [{'TranscriptionJobName': 'luther_king_speech_06092019',\n",
       "   'CreationTime': datetime.datetime(2019, 9, 23, 14, 10, 35, 467000, tzinfo=tzlocal()),\n",
       "   'CompletionTime': datetime.datetime(2019, 9, 23, 14, 13, 19, 918000, tzinfo=tzlocal()),\n",
       "   'LanguageCode': 'en-US',\n",
       "   'TranscriptionJobStatus': 'COMPLETED',\n",
       "   'OutputLocationType': 'CUSTOMER_BUCKET'},\n",
       "  {'TranscriptionJobName': 'kennedy_speech_06092019',\n",
       "   'CreationTime': datetime.datetime(2019, 9, 6, 16, 37, 43, 720000, tzinfo=tzlocal()),\n",
       "   'CompletionTime': datetime.datetime(2019, 9, 6, 16, 40, 12, 839000, tzinfo=tzlocal()),\n",
       "   'LanguageCode': 'en-US',\n",
       "   'TranscriptionJobStatus': 'COMPLETED',\n",
       "   'OutputLocationType': 'CUSTOMER_BUCKET'},\n",
       "  {'TranscriptionJobName': 'macarthur_speech_06092019',\n",
       "   'CreationTime': datetime.datetime(2019, 9, 6, 16, 34, 30, 986000, tzinfo=tzlocal()),\n",
       "   'CompletionTime': datetime.datetime(2019, 9, 6, 16, 40, 1, 5000, tzinfo=tzlocal()),\n",
       "   'LanguageCode': 'en-US',\n",
       "   'TranscriptionJobStatus': 'COMPLETED',\n",
       "   'OutputLocationType': 'CUSTOMER_BUCKET'},\n",
       "  {'TranscriptionJobName': 'gaiman_speech_29082019_grupy',\n",
       "   'CreationTime': datetime.datetime(2019, 8, 29, 19, 58, 5, 338000, tzinfo=tzlocal()),\n",
       "   'CompletionTime': datetime.datetime(2019, 8, 29, 20, 1, 14, 495000, tzinfo=tzlocal()),\n",
       "   'LanguageCode': 'en-US',\n",
       "   'TranscriptionJobStatus': 'COMPLETED',\n",
       "   'OutputLocationType': 'CUSTOMER_BUCKET'},\n",
       "  {'TranscriptionJobName': 'bezos_speech_29082019_grupy',\n",
       "   'CreationTime': datetime.datetime(2019, 8, 29, 19, 58, 4, 379000, tzinfo=tzlocal()),\n",
       "   'CompletionTime': datetime.datetime(2019, 8, 29, 20, 0, 12, 310000, tzinfo=tzlocal()),\n",
       "   'LanguageCode': 'en-US',\n",
       "   'TranscriptionJobStatus': 'COMPLETED',\n",
       "   'OutputLocationType': 'CUSTOMER_BUCKET'}],\n",
       " 'ResponseMetadata': {'RequestId': 'f0985e31-56cf-406b-a830-c626f20751da',\n",
       "  'HTTPStatusCode': 200,\n",
       "  'HTTPHeaders': {'content-type': 'application/x-amz-json-1.1',\n",
       "   'date': 'Mon, 23 Sep 2019 20:02:21 GMT',\n",
       "   'x-amzn-requestid': 'f0985e31-56cf-406b-a830-c626f20751da',\n",
       "   'content-length': '2070',\n",
       "   'connection': 'keep-alive'},\n",
       "  'RetryAttempts': 0}}"
      ]
     },
     "execution_count": 24,
     "metadata": {},
     "output_type": "execute_result"
    }
   ],
   "source": [
    "# Verify Amazon Transcrive jobs that are under the status COMPLETE\n",
    "client_transcribe = boto3.client('transcribe')\n",
    "response_transcribe = client_transcribe.list_transcription_jobs(\n",
    "    Status='COMPLETED')\n",
    "   # Status='IN_PROGRESS')\n",
    "\n",
    "response_transcribe"
   ]
  },
  {
   "cell_type": "markdown",
   "metadata": {},
   "source": [
    "## Comparing the audio transcription with the original transcription using Spacy\n",
    "In order to check the quality of the transcription generated using Amazon Transcribe we are going to compare it to the original text using the SpaCy library.\n"
   ]
  },
  {
   "cell_type": "code",
   "execution_count": 25,
   "metadata": {},
   "outputs": [],
   "source": [
    "# Function to get text from the JSON file generated using Amazon Transcribe\n",
    "def get_text_from_json(bucket, key):\n",
    "    s3 = boto3.client('s3')\n",
    "    object = s3.get_object(Bucket=bucket, Key=key)\n",
    "    serializedObject = object['Body'].read()\n",
    "    data = json.loads(serializedObject)\n",
    "    return data.get('results').get('transcripts')[0].get('transcript')"
   ]
  },
  {
   "cell_type": "code",
   "execution_count": 26,
   "metadata": {},
   "outputs": [],
   "source": [
    "# Reading the original transcription from the JSON file\n",
    "with open('original_transcripts.json', 'r') as f:\n",
    "    original_transcriptions = json.load(f)"
   ]
  },
  {
   "cell_type": "code",
   "execution_count": 35,
   "metadata": {},
   "outputs": [
    {
     "name": "stdout",
     "output_type": "stream",
     "text": [
      "When, a week ago today, I asked the House to fix this afternoon as the occasion for a statement, I feared it would be my hard lot to announce the greatest military disaster in our long history. I thou\n",
      "when? A week ago today To speak up. I asked the have depict this afternoon at the occasion for a statement. I felt it would be my hard luck. You're not the greatest military disaster in a long history\n",
      "Thank you. Thank you, very much. Chancellor Kohl, Governing Mayor Diepgen, ladies and gentlemen: Twenty four years ago, President John F. Kennedy visited Berlin, and speaking to the people of this cit\n",
      "Thank you. Thank you very much. Chancellor Kohl Governing Mayor Deacon. Ladies and gentlemen, 24 years ago, President John F. Kennedy visited Berlin, speaking to the people of this city and the world \n",
      "I am happy to join with you today in what will go down in history as the greatest demonstration for freedom in the history of our nation. Five score years ago, a great American, in whose symbolic shad\n",
      "Yeah. At this time, I have the honor to present to you the moral leader of our nation. I have the pleasure to present to you, Dr Martin Luther King. I'm happy to John with you today in what will go do\n",
      "General Westmoreland, General Grove, distinguished guests, and gentlemen of the Corps! As I was leaving the hotel this morning, a doorman asked me, “Where are you bound for, General?” And when I repli\n",
      "Westmoreland grows distinguished guests. Gentleman of the corps. As I was leaving the hotel this morning, a doorman asked me Where are you bound for? John moved When I replied, West Point, he remarked\n",
      "President Pitzer, Mr. Vice President, Governor, Congressman Thomas, Senator Wiley, and Congressman Miller, Mr. Webb, Mr. Bell, scientists, distinguished guests, and ladies and gentlemen: I appreciate \n",
      "President. Mr. Vice President! Governor! Congressman Thomas Senator Wiling Congressman Miller, Mr Webb. Now scientists extinguished gas that, ladies and gentlemen, I appreciate your president having m\n"
     ]
    }
   ],
   "source": [
    "for index, row in df_audio.iterrows():\n",
    "    #nlp = spacy.load('en')\n",
    "    nlp = spacy.load('en_core_web_lg')\n",
    "    original_transcription = nlp(original_transcriptions.get(index))\n",
    "    print(original_transcriptions.get(index)[:200])\n",
    "    transcribe_transcription = nlp(get_text_from_json(bucket_name, row.json_transcription))\n",
    "    print(get_text_from_json(bucket_name, row.json_transcription)[:200])"
   ]
  },
  {
   "cell_type": "code",
   "execution_count": 48,
   "metadata": {},
   "outputs": [
    {
     "name": "stdout",
     "output_type": "stream",
     "text": [
      "Word2vec Similiraty for churchill's speech: 0.9949981922309414\n",
      "Word2vec Similiraty for reagan's speech: 0.9992228873359518\n",
      "Word2vec Similiraty for luther_king's speech: 0.9993404064321082\n",
      "Word2vec Similiraty for macarthur's speech: 0.9964367229228288\n",
      "Word2vec Similiraty for kennedy's speech: 0.999306664217415\n"
     ]
    }
   ],
   "source": [
    "# Iterate over the speakers comparing the transcription texts using spaCy\n",
    "for index, row in df_audio.iterrows():\n",
    "    #nlp = spacy.load('en')\n",
    "    nlp = spacy.load('en_core_web_lg')\n",
    "    original_transcription = nlp(original_transcriptions.get(index))\n",
    "    transcribe_transcription = nlp(get_text_from_json(bucket_name, row.json_transcription))\n",
    "    w2v_similaraty = original_transcription.similarity(transcribe_transcription)\n",
    "    \n",
    "    df_audio.at[index, 'text_similarity'] = w2v_similaraty\n",
    "    print(f'Word2vec Similiraty for {index}\\'s speech: {w2v_similaraty}')   "
   ]
  },
  {
   "cell_type": "code",
   "execution_count": 49,
   "metadata": {},
   "outputs": [
    {
     "name": "stdout",
     "output_type": "stream",
     "text": [
      "['Churchill', 'Reagan', 'Luther king', 'Macarthur', 'Kennedy']\n",
      "[99.49981922309415, 99.92228873359518, 99.93404064321082, 99.64367229228289, 99.93066642174149]\n"
     ]
    }
   ],
   "source": [
    "y_labels = [label.replace('_', ' ').capitalize() for label in df_audio.index]\n",
    "print(y_labels)\n",
    "x_values = [x * 100 for x in df_audio.text_similarity ]\n",
    "print(x_values)\n",
    "df_audio['label_capitalized'], df_audio['similarity_perc'] = y_labels, x_values"
   ]
  },
  {
   "cell_type": "code",
   "execution_count": 50,
   "metadata": {},
   "outputs": [
    {
     "data": {
      "text/html": [
       "<div>\n",
       "<style scoped>\n",
       "    .dataframe tbody tr th:only-of-type {\n",
       "        vertical-align: middle;\n",
       "    }\n",
       "\n",
       "    .dataframe tbody tr th {\n",
       "        vertical-align: top;\n",
       "    }\n",
       "\n",
       "    .dataframe thead th {\n",
       "        text-align: right;\n",
       "    }\n",
       "</style>\n",
       "<table border=\"1\" class=\"dataframe\">\n",
       "  <thead>\n",
       "    <tr style=\"text-align: right;\">\n",
       "      <th></th>\n",
       "      <th>youtube_urls</th>\n",
       "      <th>filename</th>\n",
       "      <th>url</th>\n",
       "      <th>transcription_url</th>\n",
       "      <th>json_transcription</th>\n",
       "      <th>text_similarity</th>\n",
       "      <th>label_capitalized</th>\n",
       "      <th>similarity_perc</th>\n",
       "    </tr>\n",
       "  </thead>\n",
       "  <tbody>\n",
       "    <tr>\n",
       "      <th>churchill</th>\n",
       "      <td>https://www.youtube.com/watch?v=s_LncVnecLA</td>\n",
       "      <td>WE SHALL NEVER SURRENDER speech by Winston Chu...</td>\n",
       "      <td>https://medium-nlp-aws.s3.amazonaws.com/WE+SHA...</td>\n",
       "      <td>https://medium-nlp-aws.s3.amazonaws.com/church...</td>\n",
       "      <td>churchill_speech_06092019.json</td>\n",
       "      <td>0.994998</td>\n",
       "      <td>Churchill</td>\n",
       "      <td>99.499819</td>\n",
       "    </tr>\n",
       "    <tr>\n",
       "      <th>reagan</th>\n",
       "      <td>https://www.youtube.com/watch?v=5MDFX-dNtsM&amp;t=6s</td>\n",
       "      <td>'Berlin Wall' Speech - President Reagan's Addr...</td>\n",
       "      <td>https://medium-nlp-aws.s3.amazonaws.com/'Berli...</td>\n",
       "      <td>https://medium-nlp-aws.s3.amazonaws.com/reagan...</td>\n",
       "      <td>reagan_speech_06092019.json</td>\n",
       "      <td>0.999223</td>\n",
       "      <td>Reagan</td>\n",
       "      <td>99.922289</td>\n",
       "    </tr>\n",
       "    <tr>\n",
       "      <th>luther_king</th>\n",
       "      <td>https://www.youtube.com/watch?v=I47Y6VHc3Ms</td>\n",
       "      <td>Martin Luther King _ 'I Have A Dream' Speech-I...</td>\n",
       "      <td>https://medium-nlp-aws.s3.amazonaws.com/Martin...</td>\n",
       "      <td>https://medium-nlp-aws.s3.amazonaws.com/luther...</td>\n",
       "      <td>luther_king_speech_06092019.json</td>\n",
       "      <td>0.999340</td>\n",
       "      <td>Luther king</td>\n",
       "      <td>99.934041</td>\n",
       "    </tr>\n",
       "    <tr>\n",
       "      <th>macarthur</th>\n",
       "      <td>https://www.youtube.com/watch?v=_42_aLGkRpg&amp;t=19s</td>\n",
       "      <td>Duty, Honor, Country _ Douglas MacArthur _ May...</td>\n",
       "      <td>https://medium-nlp-aws.s3.amazonaws.com/Duty,+...</td>\n",
       "      <td>https://medium-nlp-aws.s3.amazonaws.com/macart...</td>\n",
       "      <td>macarthur_speech_06092019.json</td>\n",
       "      <td>0.996437</td>\n",
       "      <td>Macarthur</td>\n",
       "      <td>99.643672</td>\n",
       "    </tr>\n",
       "    <tr>\n",
       "      <th>kennedy</th>\n",
       "      <td>https://www.youtube.com/watch?v=QAmHcdwKgtQ</td>\n",
       "      <td>'We choose to go to the moon' Speech by Presid...</td>\n",
       "      <td>https://medium-nlp-aws.s3.amazonaws.com/'We+ch...</td>\n",
       "      <td>https://medium-nlp-aws.s3.amazonaws.com/kenned...</td>\n",
       "      <td>kennedy_speech_06092019.json</td>\n",
       "      <td>0.999307</td>\n",
       "      <td>Kennedy</td>\n",
       "      <td>99.930666</td>\n",
       "    </tr>\n",
       "  </tbody>\n",
       "</table>\n",
       "</div>"
      ],
      "text/plain": [
       "                                                  youtube_urls  \\\n",
       "churchill          https://www.youtube.com/watch?v=s_LncVnecLA   \n",
       "reagan        https://www.youtube.com/watch?v=5MDFX-dNtsM&t=6s   \n",
       "luther_king        https://www.youtube.com/watch?v=I47Y6VHc3Ms   \n",
       "macarthur    https://www.youtube.com/watch?v=_42_aLGkRpg&t=19s   \n",
       "kennedy            https://www.youtube.com/watch?v=QAmHcdwKgtQ   \n",
       "\n",
       "                                                      filename  \\\n",
       "churchill    WE SHALL NEVER SURRENDER speech by Winston Chu...   \n",
       "reagan       'Berlin Wall' Speech - President Reagan's Addr...   \n",
       "luther_king  Martin Luther King _ 'I Have A Dream' Speech-I...   \n",
       "macarthur    Duty, Honor, Country _ Douglas MacArthur _ May...   \n",
       "kennedy      'We choose to go to the moon' Speech by Presid...   \n",
       "\n",
       "                                                           url  \\\n",
       "churchill    https://medium-nlp-aws.s3.amazonaws.com/WE+SHA...   \n",
       "reagan       https://medium-nlp-aws.s3.amazonaws.com/'Berli...   \n",
       "luther_king  https://medium-nlp-aws.s3.amazonaws.com/Martin...   \n",
       "macarthur    https://medium-nlp-aws.s3.amazonaws.com/Duty,+...   \n",
       "kennedy      https://medium-nlp-aws.s3.amazonaws.com/'We+ch...   \n",
       "\n",
       "                                             transcription_url  \\\n",
       "churchill    https://medium-nlp-aws.s3.amazonaws.com/church...   \n",
       "reagan       https://medium-nlp-aws.s3.amazonaws.com/reagan...   \n",
       "luther_king  https://medium-nlp-aws.s3.amazonaws.com/luther...   \n",
       "macarthur    https://medium-nlp-aws.s3.amazonaws.com/macart...   \n",
       "kennedy      https://medium-nlp-aws.s3.amazonaws.com/kenned...   \n",
       "\n",
       "                           json_transcription  text_similarity  \\\n",
       "churchill      churchill_speech_06092019.json         0.994998   \n",
       "reagan            reagan_speech_06092019.json         0.999223   \n",
       "luther_king  luther_king_speech_06092019.json         0.999340   \n",
       "macarthur      macarthur_speech_06092019.json         0.996437   \n",
       "kennedy          kennedy_speech_06092019.json         0.999307   \n",
       "\n",
       "            label_capitalized  similarity_perc  \n",
       "churchill           Churchill        99.499819  \n",
       "reagan                 Reagan        99.922289  \n",
       "luther_king       Luther king        99.934041  \n",
       "macarthur           Macarthur        99.643672  \n",
       "kennedy               Kennedy        99.930666  "
      ]
     },
     "execution_count": 50,
     "metadata": {},
     "output_type": "execute_result"
    }
   ],
   "source": [
    "df_audio"
   ]
  },
  {
   "cell_type": "code",
   "execution_count": 51,
   "metadata": {},
   "outputs": [],
   "source": [
    "def show_values_on_bars(axs, h_v=\"v\", space=0.4):\n",
    "    def _show_on_single_plot(ax):\n",
    "        if h_v == \"v\":\n",
    "            for p in ax.patches:\n",
    "                _x = p.get_x() + p.get_width() / 2\n",
    "                _y = p.get_y() + p.get_height()\n",
    "                value = int(p.get_height())\n",
    "                ax.text(_x, _y, value, ha=\"center\") \n",
    "        elif h_v == \"h\":\n",
    "            for p in ax.patches:\n",
    "                _x = p.get_x() + p.get_width() + float(space)\n",
    "                _y = p.get_y() + p.get_height()\n",
    "                value = f'{round(p.get_width(),2)}%'\n",
    "                ax.text(_x, _y, value, ha=\"left\")\n",
    "\n",
    "    if isinstance(axs, np.ndarray):\n",
    "        for idx, ax in np.ndenumerate(axs):\n",
    "            _show_on_single_plot(ax)\n",
    "    else:\n",
    "        _show_on_single_plot(axs)"
   ]
  },
  {
   "cell_type": "code",
   "execution_count": 52,
   "metadata": {},
   "outputs": [
    {
     "data": {
      "image/png": "[encoded data removed]",
      "text/plain": [
       "<Figure size 432x288 with 1 Axes>"
      ]
     },
     "metadata": {},
     "output_type": "display_data"
    }
   ],
   "source": [
    "# Plotting the results for similarity between the original transcripts and Amazon Transcribe transcription\n",
    "sns.set(style=\"whitegrid\")\n",
    "ax = sns.barplot(y='label_capitalized', x='similarity_perc', \n",
    "                 data=df_audio, orient='h')\n",
    "ax.set_title('Word Vectors Similarity between original\\ntext and audio transcription\\n', fontsize=20)\n",
    "ax.set_xlabel('\\nSimilarity %', fontsize=14)\n",
    "ax.set_ylabel('Speakers', fontsize=14)\n",
    "\n",
    "show_values_on_bars(ax, \"h\", 0.3)\n",
    "ax.figure.savefig(\"word2vec_similarity.png\", dpi=400, bbox_inches='tight')\n",
    "\n",
    "#for index, row in df_audio.iterrows():\n",
    "#    ax.text(row.similarity_perc, row.label_capitalized, round(row.similarity_perc,2), color='black', ha=\"center\")"
   ]
  },
  {
   "cell_type": "markdown",
   "metadata": {},
   "source": [
    "# Getting similarity with Word Movers Distance (WMD)"
   ]
  },
  {
   "cell_type": "code",
   "execution_count": 37,
   "metadata": {},
   "outputs": [],
   "source": [
    "def process_text(text):\n",
    "    doc = nlp(text.lower())\n",
    "    result = []\n",
    "    for token in doc:\n",
    "        if token.text in nlp.Defaults.stop_words:\n",
    "            continue\n",
    "        if token.is_punct:\n",
    "            continue\n",
    "        if token.lemma_ == '-PRON-':\n",
    "            continue\n",
    "        result.append(token.lemma_)\n",
    "    return \" \".join(result)"
   ]
  },
  {
   "cell_type": "code",
   "execution_count": 41,
   "metadata": {},
   "outputs": [
    {
     "data": {
      "text/plain": [
       "great"
      ]
     },
     "execution_count": 41,
     "metadata": {},
     "output_type": "execute_result"
    }
   ],
   "source": [
    "original_transcription[200]"
   ]
  },
  {
   "cell_type": "code",
   "execution_count": 5,
   "metadata": {},
   "outputs": [
    {
     "name": "stdout",
     "output_type": "stream",
     "text": [
      "1.523423671722412\n"
     ]
    }
   ],
   "source": [
    "import spacy\n",
    "import wmd\n",
    "\n",
    "\n",
    "nlp = spacy.load('en_core_web_lg')\n",
    "nlp.add_pipe(wmd.WMD.SpacySimilarityHook(nlp), last=True)\n",
    "doc1 = nlp(process_text(\"Politician speaks to the media in Illinois.\"))\n",
    "doc2 = nlp(process_text(\"Politician speaks to the media in the state illinois.\"))\n",
    "#doc2 = nlp(\"The president greets the press in Chicago.\")\n",
    "print(doc1.similarity(doc2))\n",
    "\n"
   ]
  },
  {
   "cell_type": "code",
   "execution_count": 42,
   "metadata": {},
   "outputs": [],
   "source": [
    "t1 = \"When, a week ago today, I asked the House to fix this afternoon as the occasion for a statement, I feared it would be my hard lot to announce the greatest military disaster in our long history\""
   ]
  },
  {
   "cell_type": "code",
   "execution_count": 43,
   "metadata": {},
   "outputs": [],
   "source": [
    "t2 = t1 + \"Goodbye.\""
   ]
  },
  {
   "cell_type": "code",
   "execution_count": 35,
   "metadata": {},
   "outputs": [
    {
     "data": {
      "text/plain": [
       "1719"
      ]
     },
     "execution_count": 35,
     "metadata": {},
     "output_type": "execute_result"
    }
   ],
   "source": [
    "original_transcription = nlp(original_transcriptions.get('churchill'))\n",
    "len(original_transcription)"
   ]
  },
  {
   "cell_type": "code",
   "execution_count": 44,
   "metadata": {},
   "outputs": [
    {
     "name": "stdout",
     "output_type": "stream",
     "text": [
      "0.32930654287338257\n"
     ]
    }
   ],
   "source": [
    "nlp = spacy.load('en_core_web_lg')\n",
    "nlp.add_pipe(wmd.WMD.SpacySimilarityHook(nlp), last=True)\n",
    "n1 = nlp(t1)\n",
    "n2 = nlp(t2)\n",
    "wmd_similaraty = n1.similarity(n2)\n",
    "print(wmd_similaraty)\n"
   ]
  },
  {
   "cell_type": "code",
   "execution_count": 40,
   "metadata": {},
   "outputs": [
    {
     "data": {
      "text/plain": [
       "629"
      ]
     },
     "execution_count": 40,
     "metadata": {},
     "output_type": "execute_result"
    }
   ],
   "source": [
    "len(process_text(str(original_transcription)).split())"
   ]
  },
  {
   "cell_type": "code",
   "execution_count": 54,
   "metadata": {},
   "outputs": [
    {
     "name": "stdout",
     "output_type": "stream",
     "text": [
      "Word Movers Distance Similiraty for churchill's speech: 2.319152355194092\n",
      "Word Movers Distance Similiraty for reagan's speech: 0.4687025547027588\n",
      "Word Movers Distance Similiraty for luther_king's speech: 0.9759119749069214\n",
      "Word Movers Distance Similiraty for macarthur's speech: 1.667893648147583\n",
      "Word Movers Distance Similiraty for kennedy's speech: 0.5417932271957397\n"
     ]
    }
   ],
   "source": [
    "for index, row in df_audio.iterrows():\n",
    "    nlp = spacy.load('en_core_web_lg')\n",
    "    nlp.add_pipe(wmd.WMD.SpacySimilarityHook(nlp), last=True)\n",
    "    original_transcription = nlp(original_transcriptions.get(index))\n",
    "    transcribe_transcription = nlp(get_text_from_json(bucket_name, row.json_transcription))\n",
    "    wmd_similaraty = original_transcription.similarity(transcribe_transcription)\n",
    "    \n",
    "    df_audio.at[index, 'text_similarity'] = wmd_similaraty\n",
    "    print(f'Word Movers Distance Similiraty for {index}\\'s speech: {wmd_similaraty}')   "
   ]
  },
  {
   "cell_type": "code",
   "execution_count": null,
   "metadata": {},
   "outputs": [],
   "source": []
  },
  {
   "cell_type": "markdown",
   "metadata": {},
   "source": [
    "## Comparison literal texts using tokenization and lemmanization\n"
   ]
  },
  {
   "cell_type": "code",
   "execution_count": 30,
   "metadata": {},
   "outputs": [
    {
     "data": {
      "text/html": [
       "<div>\n",
       "<style scoped>\n",
       "    .dataframe tbody tr th:only-of-type {\n",
       "        vertical-align: middle;\n",
       "    }\n",
       "\n",
       "    .dataframe tbody tr th {\n",
       "        vertical-align: top;\n",
       "    }\n",
       "\n",
       "    .dataframe thead th {\n",
       "        text-align: right;\n",
       "    }\n",
       "</style>\n",
       "<table border=\"1\" class=\"dataframe\">\n",
       "  <thead>\n",
       "    <tr style=\"text-align: right;\">\n",
       "      <th></th>\n",
       "      <th>youtube_urls</th>\n",
       "      <th>filename</th>\n",
       "      <th>url</th>\n",
       "      <th>transcription_url</th>\n",
       "      <th>json_transcription</th>\n",
       "      <th>text_similarity</th>\n",
       "      <th>label_capitalized</th>\n",
       "      <th>similarity_perc</th>\n",
       "    </tr>\n",
       "  </thead>\n",
       "  <tbody>\n",
       "    <tr>\n",
       "      <th>churchill</th>\n",
       "      <td>https://www.youtube.com/watch?v=s_LncVnecLA</td>\n",
       "      <td>WE SHALL NEVER SURRENDER speech by Winston Chu...</td>\n",
       "      <td>https://medium-nlp-aws.s3.amazonaws.com/WE+SHA...</td>\n",
       "      <td>https://medium-nlp-aws.s3.amazonaws.com/church...</td>\n",
       "      <td>churchill_speech_06092019.json</td>\n",
       "      <td>0.995525</td>\n",
       "      <td>Churchill</td>\n",
       "      <td>99.552451</td>\n",
       "    </tr>\n",
       "    <tr>\n",
       "      <th>reagan</th>\n",
       "      <td>https://www.youtube.com/watch?v=5MDFX-dNtsM&amp;t=6s</td>\n",
       "      <td>'Berlin Wall' Speech - President Reagan's Addr...</td>\n",
       "      <td>https://medium-nlp-aws.s3.amazonaws.com/'Berli...</td>\n",
       "      <td>https://medium-nlp-aws.s3.amazonaws.com/reagan...</td>\n",
       "      <td>reagan_speech_06092019.json</td>\n",
       "      <td>0.999223</td>\n",
       "      <td>Reagan</td>\n",
       "      <td>99.922289</td>\n",
       "    </tr>\n",
       "    <tr>\n",
       "      <th>luther_king</th>\n",
       "      <td>https://www.youtube.com/watch?v=I47Y6VHc3Ms</td>\n",
       "      <td>Martin Luther King _ 'I Have A Dream' Speech-I...</td>\n",
       "      <td>https://medium-nlp-aws.s3.amazonaws.com/Martin...</td>\n",
       "      <td>https://medium-nlp-aws.s3.amazonaws.com/luther...</td>\n",
       "      <td>luther_king_speech_06092019.json</td>\n",
       "      <td>0.999340</td>\n",
       "      <td>Luther king</td>\n",
       "      <td>99.934041</td>\n",
       "    </tr>\n",
       "    <tr>\n",
       "      <th>macarthur</th>\n",
       "      <td>https://www.youtube.com/watch?v=_42_aLGkRpg&amp;t=19s</td>\n",
       "      <td>Duty, Honor, Country _ Douglas MacArthur _ May...</td>\n",
       "      <td>https://medium-nlp-aws.s3.amazonaws.com/Duty,+...</td>\n",
       "      <td>https://medium-nlp-aws.s3.amazonaws.com/macart...</td>\n",
       "      <td>macarthur_speech_06092019.json</td>\n",
       "      <td>0.996437</td>\n",
       "      <td>Macarthur</td>\n",
       "      <td>99.643672</td>\n",
       "    </tr>\n",
       "    <tr>\n",
       "      <th>kennedy</th>\n",
       "      <td>https://www.youtube.com/watch?v=QAmHcdwKgtQ</td>\n",
       "      <td>'We choose to go to the moon' Speech by Presid...</td>\n",
       "      <td>https://medium-nlp-aws.s3.amazonaws.com/'We+ch...</td>\n",
       "      <td>https://medium-nlp-aws.s3.amazonaws.com/kenned...</td>\n",
       "      <td>kennedy_speech_06092019.json</td>\n",
       "      <td>0.999307</td>\n",
       "      <td>Kennedy</td>\n",
       "      <td>99.930666</td>\n",
       "    </tr>\n",
       "  </tbody>\n",
       "</table>\n",
       "</div>"
      ],
      "text/plain": [
       "                                                  youtube_urls  \\\n",
       "churchill          https://www.youtube.com/watch?v=s_LncVnecLA   \n",
       "reagan        https://www.youtube.com/watch?v=5MDFX-dNtsM&t=6s   \n",
       "luther_king        https://www.youtube.com/watch?v=I47Y6VHc3Ms   \n",
       "macarthur    https://www.youtube.com/watch?v=_42_aLGkRpg&t=19s   \n",
       "kennedy            https://www.youtube.com/watch?v=QAmHcdwKgtQ   \n",
       "\n",
       "                                                      filename  \\\n",
       "churchill    WE SHALL NEVER SURRENDER speech by Winston Chu...   \n",
       "reagan       'Berlin Wall' Speech - President Reagan's Addr...   \n",
       "luther_king  Martin Luther King _ 'I Have A Dream' Speech-I...   \n",
       "macarthur    Duty, Honor, Country _ Douglas MacArthur _ May...   \n",
       "kennedy      'We choose to go to the moon' Speech by Presid...   \n",
       "\n",
       "                                                           url  \\\n",
       "churchill    https://medium-nlp-aws.s3.amazonaws.com/WE+SHA...   \n",
       "reagan       https://medium-nlp-aws.s3.amazonaws.com/'Berli...   \n",
       "luther_king  https://medium-nlp-aws.s3.amazonaws.com/Martin...   \n",
       "macarthur    https://medium-nlp-aws.s3.amazonaws.com/Duty,+...   \n",
       "kennedy      https://medium-nlp-aws.s3.amazonaws.com/'We+ch...   \n",
       "\n",
       "                                             transcription_url  \\\n",
       "churchill    https://medium-nlp-aws.s3.amazonaws.com/church...   \n",
       "reagan       https://medium-nlp-aws.s3.amazonaws.com/reagan...   \n",
       "luther_king  https://medium-nlp-aws.s3.amazonaws.com/luther...   \n",
       "macarthur    https://medium-nlp-aws.s3.amazonaws.com/macart...   \n",
       "kennedy      https://medium-nlp-aws.s3.amazonaws.com/kenned...   \n",
       "\n",
       "                           json_transcription  text_similarity  \\\n",
       "churchill      churchill_speech_06092019.json         0.995525   \n",
       "reagan            reagan_speech_06092019.json         0.999223   \n",
       "luther_king  luther_king_speech_06092019.json         0.999340   \n",
       "macarthur      macarthur_speech_06092019.json         0.996437   \n",
       "kennedy          kennedy_speech_06092019.json         0.999307   \n",
       "\n",
       "            label_capitalized  similarity_perc  \n",
       "churchill           Churchill        99.552451  \n",
       "reagan                 Reagan        99.922289  \n",
       "luther_king       Luther king        99.934041  \n",
       "macarthur           Macarthur        99.643672  \n",
       "kennedy               Kennedy        99.930666  "
      ]
     },
     "execution_count": 30,
     "metadata": {},
     "output_type": "execute_result"
    }
   ],
   "source": [
    "df_audio"
   ]
  },
  {
   "cell_type": "code",
   "execution_count": 48,
   "metadata": {},
   "outputs": [],
   "source": [
    "original_transcription = nlp(original_transcriptions.get('churchill'))\n",
    "transcribe_transcription = nlp(get_text_from_json(bucket_name, 'churchill_speech_06092019.json'))\n"
   ]
  },
  {
   "cell_type": "code",
   "execution_count": 38,
   "metadata": {},
   "outputs": [
    {
     "data": {
      "text/plain": [
       "when? A week ago today To speak up. I asked the have depict this afternoon at the occasion for a statement. I felt it would be my"
      ]
     },
     "execution_count": 38,
     "metadata": {},
     "output_type": "execute_result"
    }
   ],
   "source": [
    "transcribe_transcription[:30]"
   ]
  },
  {
   "cell_type": "code",
   "execution_count": 39,
   "metadata": {},
   "outputs": [
    {
     "data": {
      "text/plain": [
       "When, a week ago today, I asked the House to fix this afternoon as the occasion for a statement, I feared it would be my hard lot"
      ]
     },
     "execution_count": 39,
     "metadata": {},
     "output_type": "execute_result"
    }
   ],
   "source": [
    "original_transcription[:30]"
   ]
  },
  {
   "cell_type": "code",
   "execution_count": null,
   "metadata": {},
   "outputs": [],
   "source": []
  },
  {
   "cell_type": "code",
   "execution_count": null,
   "metadata": {},
   "outputs": [],
   "source": [
    "spacy_stopwords = spacy.lang.en.stop_words.STOP_WORDS\n",
    "t1 = nlp(u'Manchester United is looking to sign a forward for $90 million')\n",
    "tokens = [token.text for token in t1 if not token.is_stop]"
   ]
  },
  {
   "cell_type": "code",
   "execution_count": null,
   "metadata": {},
   "outputs": [],
   "source": [
    "tokens"
   ]
  },
  {
   "cell_type": "code",
   "execution_count": null,
   "metadata": {},
   "outputs": [],
   "source": [
    "#spacy_stopwords"
   ]
  },
  {
   "cell_type": "code",
   "execution_count": 44,
   "metadata": {},
   "outputs": [],
   "source": [
    "churchill_original = nlp(original_transcriptions.get('churchill'))"
   ]
  },
  {
   "cell_type": "code",
   "execution_count": null,
   "metadata": {},
   "outputs": [],
   "source": [
    "#for word in churchill_original:\n",
    "#    print(word.text, word.pos_)"
   ]
  },
  {
   "cell_type": "code",
   "execution_count": null,
   "metadata": {},
   "outputs": [],
   "source": [
    "tokens_churchill = [token.text for token in original_transcription if not token.is_stop if token.pos_ != 'PUNCT']"
   ]
  },
  {
   "cell_type": "code",
   "execution_count": null,
   "metadata": {},
   "outputs": [],
   "source": [
    "len(tokens_churchill)"
   ]
  },
  {
   "cell_type": "code",
   "execution_count": 55,
   "metadata": {},
   "outputs": [
    {
     "name": "stdout",
     "output_type": "stream",
     "text": [
      "When, a week ago today, I asked the House to fix this afternoon as the occasion for a statement, I feared it would be my hard lot to announce the greatest military disaster in our long history. I thou\n",
      "when? A week ago today To speak up. I asked the have depict this afternoon at the occasion for a statement. I felt it would be my hard luck. You're not the greatest military disaster in a long history\n",
      "churchill displacy\n",
      "Thank you. Thank you, very much. Chancellor Kohl, Governing Mayor Diepgen, ladies and gentlemen: Twenty four years ago, President John F. Kennedy visited Berlin, and speaking to the people of this cit\n",
      "Thank you. Thank you very much. Chancellor Kohl Governing Mayor Deacon. Ladies and gentlemen, 24 years ago, President John F. Kennedy visited Berlin, speaking to the people of this city and the world \n",
      "reagan displacy\n",
      "I am happy to join with you today in what will go down in history as the greatest demonstration for freedom in the history of our nation. Five score years ago, a great American, in whose symbolic shad\n",
      "Yeah. At this time, I have the honor to present to you the moral leader of our nation. I have the pleasure to present to you, Dr Martin Luther King. I'm happy to John with you today in what will go do\n",
      "luther_king displacy\n",
      "General Westmoreland, General Grove, distinguished guests, and gentlemen of the Corps! As I was leaving the hotel this morning, a doorman asked me, “Where are you bound for, General?” And when I repli\n",
      "Westmoreland grows distinguished guests. Gentleman of the corps. As I was leaving the hotel this morning, a doorman asked me Where are you bound for? John moved When I replied, West Point, he remarked\n",
      "macarthur displacy\n",
      "President Pitzer, Mr. Vice President, Governor, Congressman Thomas, Senator Wiley, and Congressman Miller, Mr. Webb, Mr. Bell, scientists, distinguished guests, and ladies and gentlemen: I appreciate \n",
      "President. Mr. Vice President! Governor! Congressman Thomas Senator Wiling Congressman Miller, Mr Webb. Now scientists extinguished gas that, ladies and gentlemen, I appreciate your president having m\n",
      "kennedy displacy\n"
     ]
    }
   ],
   "source": [
    "# Iterate over the speakers comparing the transcription texts using spaCy\n",
    "for index, row in df_audio.iterrows():\n",
    "    print(f'Rendering {index} texts')    \n",
    "    nlp = spacy.load('en_core_web_lg')\n",
    "    original_transcription = nlp(original_transcriptions.get(index))    \n",
    "    transcribe_transcription = nlp(get_text_from_json(bucket_name, row.json_transcription))\n",
    "    \n",
    "    svg_original = spacy.displacy.render(original_transcription, style=\"ent\",jupyter=False)\n",
    "    svg_transcribe = spacy.displacy.render(transcribe_transcription, style=\"ent\",jupyter=False)\n",
    "    \n",
    "    with open(f'{index}_original.html', 'w',  encoding=\"utf-8\") as page:\n",
    "        page.write(svg_original)\n",
    "    with open(f'{index}_transcribe.html', 'w',  encoding=\"utf-8\") as page:\n",
    "        page.write(svg_transcribe)\n"
   ]
  },
  {
   "cell_type": "code",
   "execution_count": 50,
   "metadata": {},
   "outputs": [],
   "source": [
    "import spacy\n",
    "from spacy import displacy\n",
    "from pathlib import Path\n",
    "\n",
    "\n",
    "nlp = spacy.load(\"en_core_web_lg\")\n",
    "doc1 = nlp(u\"This is a sentence.\")\n",
    "doc2 = nlp(u\"This is another sentence.\")\n",
    "#html = displacy.render([doc1, doc2], style=\"dep\", page=True)\n",
    "svg = displacy.render(original_transcription, style=\"ent\",jupyter=False)\n",
    "with open('transcribe_transcription.html', 'w',  encoding=\"utf-8\") as page:\n",
    "    page.write(svg)\n",
    "#output_path = Path(\"/images/sentence.svg\")\n",
    "#output_path.open(\"w\", encoding=\"utf-8\").write(svg)"
   ]
  },
  {
   "cell_type": "code",
   "execution_count": null,
   "metadata": {},
   "outputs": [],
   "source": [
    "html"
   ]
  },
  {
   "cell_type": "code",
   "execution_count": null,
   "metadata": {},
   "outputs": [],
   "source": [
    "svg = displacy.render(original_transcription, style=\"ent\", jupyter=False)\n",
    "#output_path = Path(\"/images/sentence.svg\")\n",
    "#output_path.open(\"w\", encoding=\"utf-8\").write(svg)"
   ]
  },
  {
   "cell_type": "code",
   "execution_count": 46,
   "metadata": {},
   "outputs": [
    {
     "ename": "TypeError",
     "evalue": "write() argument must be str, not None",
     "output_type": "error",
     "traceback": [
      "\u001b[0;31m---------------------------------------------------------------------------\u001b[0m",
      "\u001b[0;31mTypeError\u001b[0m                                 Traceback (most recent call last)",
      "\u001b[0;32m<ipython-input-46-dbe91ced8827>\u001b[0m in \u001b[0;36m<module>\u001b[0;34m\u001b[0m\n\u001b[1;32m      1\u001b[0m \u001b[0;32mwith\u001b[0m \u001b[0mopen\u001b[0m\u001b[0;34m(\u001b[0m\u001b[0;34m'test_displacy.html'\u001b[0m\u001b[0;34m,\u001b[0m \u001b[0;34m'w'\u001b[0m\u001b[0;34m,\u001b[0m  \u001b[0mencoding\u001b[0m\u001b[0;34m=\u001b[0m\u001b[0;34m\"utf-8\"\u001b[0m\u001b[0;34m)\u001b[0m \u001b[0;32mas\u001b[0m \u001b[0mpage\u001b[0m\u001b[0;34m:\u001b[0m\u001b[0;34m\u001b[0m\u001b[0;34m\u001b[0m\u001b[0m\n\u001b[0;32m----> 2\u001b[0;31m     \u001b[0mpage\u001b[0m\u001b[0;34m.\u001b[0m\u001b[0mwrite\u001b[0m\u001b[0;34m(\u001b[0m\u001b[0msvg\u001b[0m\u001b[0;34m)\u001b[0m\u001b[0;34m\u001b[0m\u001b[0;34m\u001b[0m\u001b[0m\n\u001b[0m",
      "\u001b[0;31mTypeError\u001b[0m: write() argument must be str, not None"
     ]
    }
   ],
   "source": [
    "with open('test_displacy.html', 'w',  encoding=\"utf-8\") as page:\n",
    "    page.write(svg)"
   ]
  },
  {
   "cell_type": "code",
   "execution_count": null,
   "metadata": {},
   "outputs": [],
   "source": []
  },
  {
   "cell_type": "markdown",
   "metadata": {},
   "source": [
    "# Sentiment analysis using Amazon Comprehend"
   ]
  },
  {
   "cell_type": "code",
   "execution_count": 29,
   "metadata": {},
   "outputs": [],
   "source": [
    "def start_comprehend_job(text):\n",
    "    \"\"\"\n",
    "    Executes sentiment analysis of a text using Amazon Comprehend.\n",
    "    The text can be larger than 5000 bytes (one limitation for each job), as \n",
    "    the function will split it into multiple processes and return a \n",
    "    averaged value for each sentiment.\n",
    "    \n",
    "    Parameter\n",
    "    - text (str): The text to be analyzed\n",
    "    \n",
    "    Return\n",
    "    - final_dict (dict): Dictionary with the percentage of each one of the 4 \n",
    "    sentiments evaluated on Amazon Comprehend model (positive, negative, \n",
    "    neutral, mixed)\n",
    "    \"\"\"\n",
    "    list_parts = []\n",
    "    text_for_analysis = ''\n",
    "    for sentence in text.split('.'):\n",
    "        current_text = text_for_analysis + f'{sentence}.'\n",
    "\n",
    "        if len(current_text.encode('utf-8')) > 5000:\n",
    "            list_parts.append([len(text_for_analysis), text_for_analysis])\n",
    "            text_for_analysis = f'{sentence}.'\n",
    "\n",
    "        else:\n",
    "            text_for_analysis += f'{sentence}.'\n",
    "\n",
    "    list_parts.append([len(text_for_analysis), text_for_analysis])\n",
    "    dict_comprehend = {}\n",
    "    for t_parts in list_parts:\n",
    "       \n",
    "        comprehend_client = boto3.client(service_name='comprehend', region_name='us-east-1')\n",
    "        sentimentData = comprehend_client.detect_sentiment(Text=t_parts[1], LanguageCode='en')\n",
    "        \n",
    "        dict_comprehend[t_parts[0]] = sentimentData\n",
    "        dict_comprehend[t_parts[0]]['ratio'] = t_parts[0]/float(len(text))\n",
    "\n",
    "    final_dict = {'Positive':0, 'Negative':0, 'Neutral':0, 'Mixed':0}\n",
    "    list_sentiments = ['Positive', 'Negative', 'Neutral', 'Mixed']\n",
    "    for sentiment in list_sentiments:\n",
    "        for key, value in dict_comprehend.items():\n",
    "            final_dict[sentiment] += value.get('SentimentScore').get(sentiment) * value.get('ratio')\n",
    "    \n",
    "    return final_dict"
   ]
  },
  {
   "cell_type": "code",
   "execution_count": 30,
   "metadata": {},
   "outputs": [],
   "source": [
    "# Run the sentiment analysis using start_comprehend_job function\n",
    "for index, row in df_audio.iterrows():\n",
    "    transcript_text = get_text_from_json(bucket_name, row.json_transcription)\n",
    "    comprehend_results = start_comprehend_job(transcript_text)\n",
    "    for k,v in comprehend_results.items():\n",
    "        df_audio.at[index, k] = v    "
   ]
  },
  {
   "cell_type": "code",
   "execution_count": 33,
   "metadata": {},
   "outputs": [
    {
     "data": {
      "text/html": [
       "<div>\n",
       "<style scoped>\n",
       "    .dataframe tbody tr th:only-of-type {\n",
       "        vertical-align: middle;\n",
       "    }\n",
       "\n",
       "    .dataframe tbody tr th {\n",
       "        vertical-align: top;\n",
       "    }\n",
       "\n",
       "    .dataframe thead th {\n",
       "        text-align: right;\n",
       "    }\n",
       "</style>\n",
       "<table border=\"1\" class=\"dataframe\">\n",
       "  <thead>\n",
       "    <tr style=\"text-align: right;\">\n",
       "      <th></th>\n",
       "      <th>youtube_urls</th>\n",
       "      <th>filename</th>\n",
       "      <th>url</th>\n",
       "      <th>transcription_url</th>\n",
       "      <th>json_transcription</th>\n",
       "      <th>text_similarity</th>\n",
       "      <th>label_capitalized</th>\n",
       "      <th>similarity_perc</th>\n",
       "      <th>Positive</th>\n",
       "      <th>Negative</th>\n",
       "      <th>Neutral</th>\n",
       "      <th>Mixed</th>\n",
       "    </tr>\n",
       "  </thead>\n",
       "  <tbody>\n",
       "    <tr>\n",
       "      <th>churchill</th>\n",
       "      <td>https://www.youtube.com/watch?v=s_LncVnecLA</td>\n",
       "      <td>churchill_radar.png</td>\n",
       "      <td>https://medium-nlp-aws.s3.amazonaws.com/church...</td>\n",
       "      <td>https://medium-nlp-aws.s3.amazonaws.com/church...</td>\n",
       "      <td>churchill_speech_06092019.json</td>\n",
       "      <td>1.0</td>\n",
       "      <td>Churchill</td>\n",
       "      <td>99.55</td>\n",
       "      <td>0.28</td>\n",
       "      <td>0.06</td>\n",
       "      <td>0.52</td>\n",
       "      <td>0.13</td>\n",
       "    </tr>\n",
       "    <tr>\n",
       "      <th>reagan</th>\n",
       "      <td>https://www.youtube.com/watch?v=5MDFX-dNtsM&amp;t=6s</td>\n",
       "      <td>'Berlin Wall' Speech - President Reagan's Addr...</td>\n",
       "      <td>https://medium-nlp-aws.s3.amazonaws.com/'Berli...</td>\n",
       "      <td>https://medium-nlp-aws.s3.amazonaws.com/reagan...</td>\n",
       "      <td>reagan_speech_06092019.json</td>\n",
       "      <td>1.0</td>\n",
       "      <td>Reagan</td>\n",
       "      <td>99.92</td>\n",
       "      <td>0.16</td>\n",
       "      <td>0.02</td>\n",
       "      <td>0.81</td>\n",
       "      <td>0.02</td>\n",
       "    </tr>\n",
       "    <tr>\n",
       "      <th>luther_king</th>\n",
       "      <td>https://www.youtube.com/watch?v=I47Y6VHc3Ms</td>\n",
       "      <td>Martin Luther King _ 'I Have A Dream' Speech-I...</td>\n",
       "      <td>https://medium-nlp-aws.s3.amazonaws.com/Martin...</td>\n",
       "      <td>https://medium-nlp-aws.s3.amazonaws.com/luther...</td>\n",
       "      <td>luther_king_speech_06092019.json</td>\n",
       "      <td>1.0</td>\n",
       "      <td>Luther king</td>\n",
       "      <td>99.67</td>\n",
       "      <td>0.34</td>\n",
       "      <td>0.01</td>\n",
       "      <td>0.59</td>\n",
       "      <td>0.06</td>\n",
       "    </tr>\n",
       "    <tr>\n",
       "      <th>macarthur</th>\n",
       "      <td>https://www.youtube.com/watch?v=_42_aLGkRpg&amp;t=19s</td>\n",
       "      <td>Duty, Honor, Country _ Douglas MacArthur _ May...</td>\n",
       "      <td>https://medium-nlp-aws.s3.amazonaws.com/Duty,+...</td>\n",
       "      <td>https://medium-nlp-aws.s3.amazonaws.com/macart...</td>\n",
       "      <td>macarthur_speech_06092019.json</td>\n",
       "      <td>1.0</td>\n",
       "      <td>Macarthur</td>\n",
       "      <td>99.64</td>\n",
       "      <td>0.25</td>\n",
       "      <td>0.02</td>\n",
       "      <td>0.64</td>\n",
       "      <td>0.08</td>\n",
       "    </tr>\n",
       "    <tr>\n",
       "      <th>kennedy</th>\n",
       "      <td>https://www.youtube.com/watch?v=QAmHcdwKgtQ</td>\n",
       "      <td>'We choose to go to the moon' Speech by Presid...</td>\n",
       "      <td>https://medium-nlp-aws.s3.amazonaws.com/'We+ch...</td>\n",
       "      <td>https://medium-nlp-aws.s3.amazonaws.com/kenned...</td>\n",
       "      <td>kennedy_speech_06092019.json</td>\n",
       "      <td>1.0</td>\n",
       "      <td>Kennedy</td>\n",
       "      <td>99.93</td>\n",
       "      <td>0.36</td>\n",
       "      <td>0.01</td>\n",
       "      <td>0.58</td>\n",
       "      <td>0.05</td>\n",
       "    </tr>\n",
       "  </tbody>\n",
       "</table>\n",
       "</div>"
      ],
      "text/plain": [
       "                                                  youtube_urls  \\\n",
       "churchill          https://www.youtube.com/watch?v=s_LncVnecLA   \n",
       "reagan        https://www.youtube.com/watch?v=5MDFX-dNtsM&t=6s   \n",
       "luther_king        https://www.youtube.com/watch?v=I47Y6VHc3Ms   \n",
       "macarthur    https://www.youtube.com/watch?v=_42_aLGkRpg&t=19s   \n",
       "kennedy            https://www.youtube.com/watch?v=QAmHcdwKgtQ   \n",
       "\n",
       "                                                      filename  \\\n",
       "churchill                                  churchill_radar.png   \n",
       "reagan       'Berlin Wall' Speech - President Reagan's Addr...   \n",
       "luther_king  Martin Luther King _ 'I Have A Dream' Speech-I...   \n",
       "macarthur    Duty, Honor, Country _ Douglas MacArthur _ May...   \n",
       "kennedy      'We choose to go to the moon' Speech by Presid...   \n",
       "\n",
       "                                                           url  \\\n",
       "churchill    https://medium-nlp-aws.s3.amazonaws.com/church...   \n",
       "reagan       https://medium-nlp-aws.s3.amazonaws.com/'Berli...   \n",
       "luther_king  https://medium-nlp-aws.s3.amazonaws.com/Martin...   \n",
       "macarthur    https://medium-nlp-aws.s3.amazonaws.com/Duty,+...   \n",
       "kennedy      https://medium-nlp-aws.s3.amazonaws.com/'We+ch...   \n",
       "\n",
       "                                             transcription_url  \\\n",
       "churchill    https://medium-nlp-aws.s3.amazonaws.com/church...   \n",
       "reagan       https://medium-nlp-aws.s3.amazonaws.com/reagan...   \n",
       "luther_king  https://medium-nlp-aws.s3.amazonaws.com/luther...   \n",
       "macarthur    https://medium-nlp-aws.s3.amazonaws.com/macart...   \n",
       "kennedy      https://medium-nlp-aws.s3.amazonaws.com/kenned...   \n",
       "\n",
       "                           json_transcription  text_similarity  \\\n",
       "churchill      churchill_speech_06092019.json              1.0   \n",
       "reagan            reagan_speech_06092019.json              1.0   \n",
       "luther_king  luther_king_speech_06092019.json              1.0   \n",
       "macarthur      macarthur_speech_06092019.json              1.0   \n",
       "kennedy          kennedy_speech_06092019.json              1.0   \n",
       "\n",
       "            label_capitalized  similarity_perc  Positive  Negative  Neutral  \\\n",
       "churchill           Churchill            99.55      0.28      0.06     0.52   \n",
       "reagan                 Reagan            99.92      0.16      0.02     0.81   \n",
       "luther_king       Luther king            99.67      0.34      0.01     0.59   \n",
       "macarthur           Macarthur            99.64      0.25      0.02     0.64   \n",
       "kennedy               Kennedy            99.93      0.36      0.01     0.58   \n",
       "\n",
       "             Mixed  \n",
       "churchill     0.13  \n",
       "reagan        0.02  \n",
       "luther_king   0.06  \n",
       "macarthur     0.08  \n",
       "kennedy       0.05  "
      ]
     },
     "execution_count": 33,
     "metadata": {},
     "output_type": "execute_result"
    }
   ],
   "source": [
    "# Arrendodar os  valores percentuais dos sentimentos \n",
    "df_audio =  df_audio.round(2)\n",
    "df_audio"
   ]
  },
  {
   "cell_type": "markdown",
   "metadata": {},
   "source": [
    "## Visualizing the sentiment analysis results\n"
   ]
  },
  {
   "cell_type": "code",
   "execution_count": 68,
   "metadata": {},
   "outputs": [
    {
     "data": {
      "text/html": [
       "<div>\n",
       "<style scoped>\n",
       "    .dataframe tbody tr th:only-of-type {\n",
       "        vertical-align: middle;\n",
       "    }\n",
       "\n",
       "    .dataframe tbody tr th {\n",
       "        vertical-align: top;\n",
       "    }\n",
       "\n",
       "    .dataframe thead th {\n",
       "        text-align: right;\n",
       "    }\n",
       "</style>\n",
       "<table border=\"1\" class=\"dataframe\">\n",
       "  <thead>\n",
       "    <tr style=\"text-align: right;\">\n",
       "      <th></th>\n",
       "      <th>label_capitalized</th>\n",
       "      <th>Positive</th>\n",
       "      <th>Negative</th>\n",
       "      <th>Neutral</th>\n",
       "      <th>Mixed</th>\n",
       "    </tr>\n",
       "  </thead>\n",
       "  <tbody>\n",
       "    <tr>\n",
       "      <th>churchill</th>\n",
       "      <td>Churchill</td>\n",
       "      <td>0.28</td>\n",
       "      <td>0.06</td>\n",
       "      <td>0.52</td>\n",
       "      <td>0.13</td>\n",
       "    </tr>\n",
       "    <tr>\n",
       "      <th>reagan</th>\n",
       "      <td>Reagan</td>\n",
       "      <td>0.16</td>\n",
       "      <td>0.02</td>\n",
       "      <td>0.81</td>\n",
       "      <td>0.02</td>\n",
       "    </tr>\n",
       "    <tr>\n",
       "      <th>luther_king</th>\n",
       "      <td>Luther king</td>\n",
       "      <td>0.34</td>\n",
       "      <td>0.01</td>\n",
       "      <td>0.59</td>\n",
       "      <td>0.06</td>\n",
       "    </tr>\n",
       "    <tr>\n",
       "      <th>macarthur</th>\n",
       "      <td>Macarthur</td>\n",
       "      <td>0.25</td>\n",
       "      <td>0.02</td>\n",
       "      <td>0.64</td>\n",
       "      <td>0.08</td>\n",
       "    </tr>\n",
       "    <tr>\n",
       "      <th>kennedy</th>\n",
       "      <td>Kennedy</td>\n",
       "      <td>0.36</td>\n",
       "      <td>0.01</td>\n",
       "      <td>0.58</td>\n",
       "      <td>0.05</td>\n",
       "    </tr>\n",
       "  </tbody>\n",
       "</table>\n",
       "</div>"
      ],
      "text/plain": [
       "            label_capitalized  Positive  Negative  Neutral  Mixed\n",
       "churchill           Churchill      0.28      0.06     0.52   0.13\n",
       "reagan                 Reagan      0.16      0.02     0.81   0.02\n",
       "luther_king       Luther king      0.34      0.01     0.59   0.06\n",
       "macarthur           Macarthur      0.25      0.02     0.64   0.08\n",
       "kennedy               Kennedy      0.36      0.01     0.58   0.05"
      ]
     },
     "execution_count": 68,
     "metadata": {},
     "output_type": "execute_result"
    }
   ],
   "source": [
    "df_sentiment = df_audio[['label_capitalized','Positive', 'Negative', 'Neutral', 'Mixed']]\n",
    "#df_sentiment['author'] = df_sentiment.label_capitalized\n",
    "df_sentiment"
   ]
  },
  {
   "cell_type": "code",
   "execution_count": 75,
   "metadata": {},
   "outputs": [
    {
     "data": {
      "text/html": [
       "<div>\n",
       "<style scoped>\n",
       "    .dataframe tbody tr th:only-of-type {\n",
       "        vertical-align: middle;\n",
       "    }\n",
       "\n",
       "    .dataframe tbody tr th {\n",
       "        vertical-align: top;\n",
       "    }\n",
       "\n",
       "    .dataframe thead th {\n",
       "        text-align: right;\n",
       "    }\n",
       "</style>\n",
       "<table border=\"1\" class=\"dataframe\">\n",
       "  <thead>\n",
       "    <tr style=\"text-align: right;\">\n",
       "      <th></th>\n",
       "      <th>label_capitalized</th>\n",
       "      <th>sentiment</th>\n",
       "      <th>sentiment_rate</th>\n",
       "    </tr>\n",
       "  </thead>\n",
       "  <tbody>\n",
       "    <tr>\n",
       "      <th>0</th>\n",
       "      <td>Churchill</td>\n",
       "      <td>Positive</td>\n",
       "      <td>0.28</td>\n",
       "    </tr>\n",
       "    <tr>\n",
       "      <th>1</th>\n",
       "      <td>Reagan</td>\n",
       "      <td>Positive</td>\n",
       "      <td>0.16</td>\n",
       "    </tr>\n",
       "    <tr>\n",
       "      <th>2</th>\n",
       "      <td>Luther king</td>\n",
       "      <td>Positive</td>\n",
       "      <td>0.34</td>\n",
       "    </tr>\n",
       "    <tr>\n",
       "      <th>3</th>\n",
       "      <td>Macarthur</td>\n",
       "      <td>Positive</td>\n",
       "      <td>0.25</td>\n",
       "    </tr>\n",
       "    <tr>\n",
       "      <th>4</th>\n",
       "      <td>Kennedy</td>\n",
       "      <td>Positive</td>\n",
       "      <td>0.36</td>\n",
       "    </tr>\n",
       "    <tr>\n",
       "      <th>5</th>\n",
       "      <td>Churchill</td>\n",
       "      <td>Negative</td>\n",
       "      <td>0.06</td>\n",
       "    </tr>\n",
       "    <tr>\n",
       "      <th>6</th>\n",
       "      <td>Reagan</td>\n",
       "      <td>Negative</td>\n",
       "      <td>0.02</td>\n",
       "    </tr>\n",
       "    <tr>\n",
       "      <th>7</th>\n",
       "      <td>Luther king</td>\n",
       "      <td>Negative</td>\n",
       "      <td>0.01</td>\n",
       "    </tr>\n",
       "    <tr>\n",
       "      <th>8</th>\n",
       "      <td>Macarthur</td>\n",
       "      <td>Negative</td>\n",
       "      <td>0.02</td>\n",
       "    </tr>\n",
       "    <tr>\n",
       "      <th>9</th>\n",
       "      <td>Kennedy</td>\n",
       "      <td>Negative</td>\n",
       "      <td>0.01</td>\n",
       "    </tr>\n",
       "    <tr>\n",
       "      <th>10</th>\n",
       "      <td>Churchill</td>\n",
       "      <td>Neutral</td>\n",
       "      <td>0.52</td>\n",
       "    </tr>\n",
       "    <tr>\n",
       "      <th>11</th>\n",
       "      <td>Reagan</td>\n",
       "      <td>Neutral</td>\n",
       "      <td>0.81</td>\n",
       "    </tr>\n",
       "    <tr>\n",
       "      <th>12</th>\n",
       "      <td>Luther king</td>\n",
       "      <td>Neutral</td>\n",
       "      <td>0.59</td>\n",
       "    </tr>\n",
       "    <tr>\n",
       "      <th>13</th>\n",
       "      <td>Macarthur</td>\n",
       "      <td>Neutral</td>\n",
       "      <td>0.64</td>\n",
       "    </tr>\n",
       "    <tr>\n",
       "      <th>14</th>\n",
       "      <td>Kennedy</td>\n",
       "      <td>Neutral</td>\n",
       "      <td>0.58</td>\n",
       "    </tr>\n",
       "    <tr>\n",
       "      <th>15</th>\n",
       "      <td>Churchill</td>\n",
       "      <td>Mixed</td>\n",
       "      <td>0.13</td>\n",
       "    </tr>\n",
       "    <tr>\n",
       "      <th>16</th>\n",
       "      <td>Reagan</td>\n",
       "      <td>Mixed</td>\n",
       "      <td>0.02</td>\n",
       "    </tr>\n",
       "    <tr>\n",
       "      <th>17</th>\n",
       "      <td>Luther king</td>\n",
       "      <td>Mixed</td>\n",
       "      <td>0.06</td>\n",
       "    </tr>\n",
       "    <tr>\n",
       "      <th>18</th>\n",
       "      <td>Macarthur</td>\n",
       "      <td>Mixed</td>\n",
       "      <td>0.08</td>\n",
       "    </tr>\n",
       "    <tr>\n",
       "      <th>19</th>\n",
       "      <td>Kennedy</td>\n",
       "      <td>Mixed</td>\n",
       "      <td>0.05</td>\n",
       "    </tr>\n",
       "  </tbody>\n",
       "</table>\n",
       "</div>"
      ],
      "text/plain": [
       "   label_capitalized sentiment  sentiment_rate\n",
       "0          Churchill  Positive            0.28\n",
       "1             Reagan  Positive            0.16\n",
       "2        Luther king  Positive            0.34\n",
       "3          Macarthur  Positive            0.25\n",
       "4            Kennedy  Positive            0.36\n",
       "5          Churchill  Negative            0.06\n",
       "6             Reagan  Negative            0.02\n",
       "7        Luther king  Negative            0.01\n",
       "8          Macarthur  Negative            0.02\n",
       "9            Kennedy  Negative            0.01\n",
       "10         Churchill   Neutral            0.52\n",
       "11            Reagan   Neutral            0.81\n",
       "12       Luther king   Neutral            0.59\n",
       "13         Macarthur   Neutral            0.64\n",
       "14           Kennedy   Neutral            0.58\n",
       "15         Churchill     Mixed            0.13\n",
       "16            Reagan     Mixed            0.02\n",
       "17       Luther king     Mixed            0.06\n",
       "18         Macarthur     Mixed            0.08\n",
       "19           Kennedy     Mixed            0.05"
      ]
     },
     "execution_count": 75,
     "metadata": {},
     "output_type": "execute_result"
    }
   ],
   "source": [
    "# Fazer o melt do Dataframe com os resultados para facilitar a visualização\n",
    "df_melt = pd.melt(df_sentiment, id_vars=\"label_capitalized\", var_name=\"sentiment\", value_name=\"sentiment_rate\")\n",
    "df_melt"
   ]
  },
  {
   "cell_type": "code",
   "execution_count": 80,
   "metadata": {},
   "outputs": [
    {
     "data": {
      "text/html": [
       "<div>\n",
       "<style scoped>\n",
       "    .dataframe tbody tr th:only-of-type {\n",
       "        vertical-align: middle;\n",
       "    }\n",
       "\n",
       "    .dataframe tbody tr th {\n",
       "        vertical-align: top;\n",
       "    }\n",
       "\n",
       "    .dataframe thead th {\n",
       "        text-align: right;\n",
       "    }\n",
       "</style>\n",
       "<table border=\"1\" class=\"dataframe\">\n",
       "  <thead>\n",
       "    <tr style=\"text-align: right;\">\n",
       "      <th></th>\n",
       "      <th>label_capitalized</th>\n",
       "      <th>sentiment</th>\n",
       "      <th>sentiment_rate</th>\n",
       "      <th>sentiment_percentage</th>\n",
       "    </tr>\n",
       "  </thead>\n",
       "  <tbody>\n",
       "    <tr>\n",
       "      <th>0</th>\n",
       "      <td>Churchill</td>\n",
       "      <td>Positive</td>\n",
       "      <td>0.28</td>\n",
       "      <td>28.0</td>\n",
       "    </tr>\n",
       "    <tr>\n",
       "      <th>1</th>\n",
       "      <td>Reagan</td>\n",
       "      <td>Positive</td>\n",
       "      <td>0.16</td>\n",
       "      <td>16.0</td>\n",
       "    </tr>\n",
       "    <tr>\n",
       "      <th>2</th>\n",
       "      <td>Luther king</td>\n",
       "      <td>Positive</td>\n",
       "      <td>0.34</td>\n",
       "      <td>34.0</td>\n",
       "    </tr>\n",
       "    <tr>\n",
       "      <th>3</th>\n",
       "      <td>Macarthur</td>\n",
       "      <td>Positive</td>\n",
       "      <td>0.25</td>\n",
       "      <td>25.0</td>\n",
       "    </tr>\n",
       "    <tr>\n",
       "      <th>4</th>\n",
       "      <td>Kennedy</td>\n",
       "      <td>Positive</td>\n",
       "      <td>0.36</td>\n",
       "      <td>36.0</td>\n",
       "    </tr>\n",
       "    <tr>\n",
       "      <th>5</th>\n",
       "      <td>Churchill</td>\n",
       "      <td>Negative</td>\n",
       "      <td>0.06</td>\n",
       "      <td>6.0</td>\n",
       "    </tr>\n",
       "    <tr>\n",
       "      <th>6</th>\n",
       "      <td>Reagan</td>\n",
       "      <td>Negative</td>\n",
       "      <td>0.02</td>\n",
       "      <td>2.0</td>\n",
       "    </tr>\n",
       "    <tr>\n",
       "      <th>7</th>\n",
       "      <td>Luther king</td>\n",
       "      <td>Negative</td>\n",
       "      <td>0.01</td>\n",
       "      <td>1.0</td>\n",
       "    </tr>\n",
       "    <tr>\n",
       "      <th>8</th>\n",
       "      <td>Macarthur</td>\n",
       "      <td>Negative</td>\n",
       "      <td>0.02</td>\n",
       "      <td>2.0</td>\n",
       "    </tr>\n",
       "    <tr>\n",
       "      <th>9</th>\n",
       "      <td>Kennedy</td>\n",
       "      <td>Negative</td>\n",
       "      <td>0.01</td>\n",
       "      <td>1.0</td>\n",
       "    </tr>\n",
       "    <tr>\n",
       "      <th>10</th>\n",
       "      <td>Churchill</td>\n",
       "      <td>Neutral</td>\n",
       "      <td>0.52</td>\n",
       "      <td>52.0</td>\n",
       "    </tr>\n",
       "    <tr>\n",
       "      <th>11</th>\n",
       "      <td>Reagan</td>\n",
       "      <td>Neutral</td>\n",
       "      <td>0.81</td>\n",
       "      <td>81.0</td>\n",
       "    </tr>\n",
       "    <tr>\n",
       "      <th>12</th>\n",
       "      <td>Luther king</td>\n",
       "      <td>Neutral</td>\n",
       "      <td>0.59</td>\n",
       "      <td>59.0</td>\n",
       "    </tr>\n",
       "    <tr>\n",
       "      <th>13</th>\n",
       "      <td>Macarthur</td>\n",
       "      <td>Neutral</td>\n",
       "      <td>0.64</td>\n",
       "      <td>64.0</td>\n",
       "    </tr>\n",
       "    <tr>\n",
       "      <th>14</th>\n",
       "      <td>Kennedy</td>\n",
       "      <td>Neutral</td>\n",
       "      <td>0.58</td>\n",
       "      <td>58.0</td>\n",
       "    </tr>\n",
       "    <tr>\n",
       "      <th>15</th>\n",
       "      <td>Churchill</td>\n",
       "      <td>Mixed</td>\n",
       "      <td>0.13</td>\n",
       "      <td>13.0</td>\n",
       "    </tr>\n",
       "    <tr>\n",
       "      <th>16</th>\n",
       "      <td>Reagan</td>\n",
       "      <td>Mixed</td>\n",
       "      <td>0.02</td>\n",
       "      <td>2.0</td>\n",
       "    </tr>\n",
       "    <tr>\n",
       "      <th>17</th>\n",
       "      <td>Luther king</td>\n",
       "      <td>Mixed</td>\n",
       "      <td>0.06</td>\n",
       "      <td>6.0</td>\n",
       "    </tr>\n",
       "    <tr>\n",
       "      <th>18</th>\n",
       "      <td>Macarthur</td>\n",
       "      <td>Mixed</td>\n",
       "      <td>0.08</td>\n",
       "      <td>8.0</td>\n",
       "    </tr>\n",
       "    <tr>\n",
       "      <th>19</th>\n",
       "      <td>Kennedy</td>\n",
       "      <td>Mixed</td>\n",
       "      <td>0.05</td>\n",
       "      <td>5.0</td>\n",
       "    </tr>\n",
       "  </tbody>\n",
       "</table>\n",
       "</div>"
      ],
      "text/plain": [
       "   label_capitalized sentiment  sentiment_rate  sentiment_percentage\n",
       "0          Churchill  Positive            0.28                  28.0\n",
       "1             Reagan  Positive            0.16                  16.0\n",
       "2        Luther king  Positive            0.34                  34.0\n",
       "3          Macarthur  Positive            0.25                  25.0\n",
       "4            Kennedy  Positive            0.36                  36.0\n",
       "5          Churchill  Negative            0.06                   6.0\n",
       "6             Reagan  Negative            0.02                   2.0\n",
       "7        Luther king  Negative            0.01                   1.0\n",
       "8          Macarthur  Negative            0.02                   2.0\n",
       "9            Kennedy  Negative            0.01                   1.0\n",
       "10         Churchill   Neutral            0.52                  52.0\n",
       "11            Reagan   Neutral            0.81                  81.0\n",
       "12       Luther king   Neutral            0.59                  59.0\n",
       "13         Macarthur   Neutral            0.64                  64.0\n",
       "14           Kennedy   Neutral            0.58                  58.0\n",
       "15         Churchill     Mixed            0.13                  13.0\n",
       "16            Reagan     Mixed            0.02                   2.0\n",
       "17       Luther king     Mixed            0.06                   6.0\n",
       "18         Macarthur     Mixed            0.08                   8.0\n",
       "19           Kennedy     Mixed            0.05                   5.0"
      ]
     },
     "execution_count": 80,
     "metadata": {},
     "output_type": "execute_result"
    }
   ],
   "source": [
    "df_melt['sentiment_percentage'] = df_melt.sentiment_rate * 100\n",
    "df_melt"
   ]
  },
  {
   "cell_type": "code",
   "execution_count": 82,
   "metadata": {},
   "outputs": [
    {
     "data": {
      "image/png": "[encoded data removed]",
      "text/plain": [
       "<Figure size 449.35x360 with 1 Axes>"
      ]
     },
     "metadata": {},
     "output_type": "display_data"
    }
   ],
   "source": [
    "# Barplot for the results\n",
    "#sns.set(style=\"whitegrid\")\n",
    "#ax = sns.barplot(y='label_capitalized', x='similarity_perc', \n",
    "#                 data=df_audio, orient='h')\n",
    "\n",
    "sns_plot = sns.factorplot(x='label_capitalized', y='sentiment_percentage', hue='sentiment', data=df_melt, kind='bar')\n",
    "sns_plot.set_xticklabels(rotation=15)\n",
    "sns_plot.set_xlabels('Author', fontsize=14)\n",
    "sns_plot.set_ylabels('Sentiment %', fontsize=14)\n",
    "sns_plot.set_titles('Sentiment Analysis')\n",
    "sns_plot.savefig(\"barplot.png\", dpi=600, orientation ='landscape', bbox_inches='tight')\n",
    "#ax.figure.savefig(\"similarity.png\", dpi=400)"
   ]
  },
  {
   "cell_type": "code",
   "execution_count": 41,
   "metadata": {},
   "outputs": [
    {
     "data": {
      "text/html": [
       "<div>\n",
       "<style scoped>\n",
       "    .dataframe tbody tr th:only-of-type {\n",
       "        vertical-align: middle;\n",
       "    }\n",
       "\n",
       "    .dataframe tbody tr th {\n",
       "        vertical-align: top;\n",
       "    }\n",
       "\n",
       "    .dataframe thead th {\n",
       "        text-align: right;\n",
       "    }\n",
       "</style>\n",
       "<table border=\"1\" class=\"dataframe\">\n",
       "  <thead>\n",
       "    <tr style=\"text-align: right;\">\n",
       "      <th></th>\n",
       "      <th>churchill</th>\n",
       "      <th>reagan</th>\n",
       "      <th>luther_king</th>\n",
       "      <th>macarthur</th>\n",
       "      <th>kennedy</th>\n",
       "    </tr>\n",
       "  </thead>\n",
       "  <tbody>\n",
       "    <tr>\n",
       "      <th>Positive</th>\n",
       "      <td>0.28</td>\n",
       "      <td>0.16</td>\n",
       "      <td>0.34</td>\n",
       "      <td>0.25</td>\n",
       "      <td>0.36</td>\n",
       "    </tr>\n",
       "    <tr>\n",
       "      <th>Neutral</th>\n",
       "      <td>0.52</td>\n",
       "      <td>0.81</td>\n",
       "      <td>0.59</td>\n",
       "      <td>0.64</td>\n",
       "      <td>0.58</td>\n",
       "    </tr>\n",
       "    <tr>\n",
       "      <th>Negative</th>\n",
       "      <td>0.06</td>\n",
       "      <td>0.02</td>\n",
       "      <td>0.01</td>\n",
       "      <td>0.02</td>\n",
       "      <td>0.01</td>\n",
       "    </tr>\n",
       "    <tr>\n",
       "      <th>Mixed</th>\n",
       "      <td>0.13</td>\n",
       "      <td>0.02</td>\n",
       "      <td>0.06</td>\n",
       "      <td>0.08</td>\n",
       "      <td>0.05</td>\n",
       "    </tr>\n",
       "  </tbody>\n",
       "</table>\n",
       "</div>"
      ],
      "text/plain": [
       "         churchill reagan luther_king macarthur kennedy\n",
       "Positive      0.28   0.16        0.34      0.25    0.36\n",
       "Neutral       0.52   0.81        0.59      0.64    0.58\n",
       "Negative      0.06   0.02        0.01      0.02    0.01\n",
       "Mixed         0.13   0.02        0.06      0.08    0.05"
      ]
     },
     "execution_count": 41,
     "metadata": {},
     "output_type": "execute_result"
    }
   ],
   "source": [
    "df_t = df_sentiment.drop('author', axis=1).T\n",
    "df_t = df_t.reindex(index = ['Positive', 'Neutral', 'Negative', 'Mixed'])\n",
    "df_t"
   ]
  },
  {
   "cell_type": "code",
   "execution_count": 64,
   "metadata": {},
   "outputs": [
    {
     "name": "stderr",
     "output_type": "stream",
     "text": [
      "/home/gabriel/miniconda3/envs/nlp_aws/lib/python3.7/site-packages/ipykernel_launcher.py:26: MatplotlibDeprecationWarning: Adding an axes using the same arguments as a previous axes currently reuses the earlier instance.  In a future version, a new instance will always be created and returned.  Meanwhile, this warning can be suppressed, and the future behavior ensured, by passing a unique label to each axes instance.\n"
     ]
    },
    {
     "data": {
      "image/png": "[encoded data removed]",
      "text/plain": [
       "<Figure size 432x288 with 1 Axes>"
      ]
     },
     "metadata": {},
     "output_type": "display_data"
    }
   ],
   "source": [
    "# Libraries\n",
    "import matplotlib.pyplot as plt\n",
    "import pandas as pd\n",
    "from math import pi\n",
    " \n",
    "# ------- PART 1: Define a function that do a plot for one line of the dataset!\n",
    " \n",
    "# number of variable\n",
    "categories=['Positive', 'Neutral', 'Negative', 'Mixed']\n",
    "colors = ['']\n",
    "N = len(categories)\n",
    "legend = []\n",
    "\n",
    "for n in range(len(df_t.columns)):\n",
    "    # We are going to plot the first line of the data frame.\n",
    "    # But we need to repeat the first value to close the circular graph:\n",
    "    values= df_t[df_t.columns[n]].tolist()\n",
    "    values += values[:1]\n",
    "    legend.append(df_t.columns[n])\n",
    "    \n",
    "    # What will be the angle of each axis in the plot? (we divide the plot / number of variable)\n",
    "    angles = [n / float(N) * 2 * pi for n in range(N)]\n",
    "    angles += angles[:1]\n",
    "\n",
    "    # Initialise the spider plot\n",
    "    ax = plt.subplot(111, polar=True)\n",
    "\n",
    "    # Draw one axe per variable + add labels labels yet\n",
    "    plt.xticks(angles[:-1], categories, color='black', size=8)\n",
    "\n",
    "    # Draw ylabels\n",
    "    ax.set_rlabel_position(0)\n",
    "    plt.yticks([0.2,0.4,0.6, 0.8], [\"20\",\"40\",\"60\", \"\"], color=\"black\", size=7)\n",
    "    plt.ylim(0,0.80)\n",
    "\n",
    "    # Plot data\n",
    "    ax.plot(angles, values, linewidth=1, linestyle='solid')\n",
    "    \n",
    "    # Add legend\n",
    "    #ax.legend(legend, loc='upper left')\n",
    "    plt.legend(legend, bbox_to_anchor=(1.04,1), loc=\"upper left\")\n",
    "\n",
    "    '''box = ax.get_position()\n",
    "    ax.set_position([box.x0, box.y0 + box.height * 0.1,\n",
    "                 box.width, box.height * 0.9])\n",
    "\n",
    "    ax.legend(loc='upper center', bbox_to_anchor=(0.5, -0.05),\n",
    "          fancybox=True, shadow=True, ncol=5)\n",
    "    '''\n",
    "    # Fill area\n",
    "    ax.fill(angles, values, 'b', alpha=0.05)\n",
    "\n",
    "plt.savefig(f'all_speakers_radar.png', dpi=1200, \n",
    "            bbox_inches='tight',\n",
    "                orientation='landscape')\n",
    "                #figsize=(16, 9))\n",
    "plt.show()\n",
    "    #plt.clf()\n"
   ]
  },
  {
   "cell_type": "code",
   "execution_count": 51,
   "metadata": {},
   "outputs": [
    {
     "name": "stderr",
     "output_type": "stream",
     "text": [
      "/home/gabriel/miniconda3/envs/nlp_aws/lib/python3.7/site-packages/ipykernel_launcher.py:24: MatplotlibDeprecationWarning: Adding an axes using the same arguments as a previous axes currently reuses the earlier instance.  In a future version, a new instance will always be created and returned.  Meanwhile, this warning can be suppressed, and the future behavior ensured, by passing a unique label to each axes instance.\n"
     ]
    },
    {
     "data": {
      "image/png": "[encoded data removed]",
      "text/plain": [
       "<Figure size 432x288 with 5 Axes>"
      ]
     },
     "metadata": {},
     "output_type": "display_data"
    }
   ],
   "source": [
    "\n",
    "# number of variable\n",
    "categories=['Positive', 'Neutral', 'Negative', 'Mixed']\n",
    "colors = ['']\n",
    "N = len(categories)\n",
    "legend = []\n",
    "subplot_n = 151\n",
    "fig=plt.figure()\n",
    "\n",
    "ax = fig.add_subplot(151, polar=True)\n",
    "\n",
    "for n in range(len(df_t.columns)):\n",
    "    # We are going to plot the first line of the data frame.\n",
    "    # But we need to repeat the first value to close the circular graph:\n",
    "    #ax = fig.add_subplot(subplot + n, polar=True)\n",
    "    values= df_t[df_t.columns[n]].tolist()\n",
    "    values += values[:1]\n",
    "    legend.append(df_t.columns[n])\n",
    "    \n",
    "    # What will be the angle of each axis in the plot? (we divide the plot / number of variable)\n",
    "    angles = [n / float(N) * 2 * pi for n in range(N)]\n",
    "    angles += angles[:1]\n",
    "\n",
    "    # Initialise the spider plot\n",
    "    ax = plt.subplot(subplot_n + n, polar=True)\n",
    "\n",
    "    # Draw one axe per variable + add labels labels yet\n",
    "    plt.xticks(angles[:-1], categories, color='black', size=8)\n",
    "\n",
    "    # Draw ylabels\n",
    "    ax.set_rlabel_position(0)\n",
    "    plt.yticks([0.2,0.4,0.6, 0.8], [\"20\",\"40\",\"60\", \"\"], color=\"black\", size=7)\n",
    "    plt.ylim(0,0.80)\n",
    "\n",
    "    # Plot data\n",
    "    ax.plot(angles, values, linewidth=1, linestyle='solid')\n",
    "    \n",
    "    # Add legend\n",
    "    #ax.legend(legend, loc='upper left')\n",
    "    \n",
    "    # Fill area\n",
    "    ax.fill(angles, values, 'b', alpha=0.1)\n",
    "    plt.savefig(f'{df_t.columns[n]}_radar.png', dpi=600, orientation='landscape', figsize=(16, 9))\n",
    "    #plt.show()\n",
    "    #plt.clf()\n"
   ]
  },
  {
   "cell_type": "markdown",
   "metadata": {},
   "source": [
    "## Plotting the sentiments using radar plot\n",
    "https://www.kaggle.com/typewind/draw-a-radar-chart-with-python-in-a-simple-way"
   ]
  },
  {
   "cell_type": "code",
   "execution_count": 56,
   "metadata": {},
   "outputs": [],
   "source": [
    "%matplotlib inline\n",
    "import pandas as pd\n",
    "import seaborn as sns\n",
    "import numpy as np\n",
    "import matplotlib.pyplot as plt"
   ]
  },
  {
   "cell_type": "code",
   "execution_count": 57,
   "metadata": {},
   "outputs": [
    {
     "data": {
      "text/html": [
       "<div>\n",
       "<style scoped>\n",
       "    .dataframe tbody tr th:only-of-type {\n",
       "        vertical-align: middle;\n",
       "    }\n",
       "\n",
       "    .dataframe tbody tr th {\n",
       "        vertical-align: top;\n",
       "    }\n",
       "\n",
       "    .dataframe thead th {\n",
       "        text-align: right;\n",
       "    }\n",
       "</style>\n",
       "<table border=\"1\" class=\"dataframe\">\n",
       "  <thead>\n",
       "    <tr style=\"text-align: right;\">\n",
       "      <th></th>\n",
       "      <th>#</th>\n",
       "      <th>Name</th>\n",
       "      <th>Type 1</th>\n",
       "      <th>Type 2</th>\n",
       "      <th>Total</th>\n",
       "      <th>HP</th>\n",
       "      <th>Attack</th>\n",
       "      <th>Defense</th>\n",
       "      <th>Sp. Atk</th>\n",
       "      <th>Sp. Def</th>\n",
       "      <th>Speed</th>\n",
       "      <th>Generation</th>\n",
       "      <th>Legendary</th>\n",
       "    </tr>\n",
       "  </thead>\n",
       "  <tbody>\n",
       "    <tr>\n",
       "      <th>0</th>\n",
       "      <td>1</td>\n",
       "      <td>Bulbasaur</td>\n",
       "      <td>Grass</td>\n",
       "      <td>Poison</td>\n",
       "      <td>318</td>\n",
       "      <td>45</td>\n",
       "      <td>49</td>\n",
       "      <td>49</td>\n",
       "      <td>65</td>\n",
       "      <td>65</td>\n",
       "      <td>45</td>\n",
       "      <td>1</td>\n",
       "      <td>False</td>\n",
       "    </tr>\n",
       "    <tr>\n",
       "      <th>1</th>\n",
       "      <td>2</td>\n",
       "      <td>Ivysaur</td>\n",
       "      <td>Grass</td>\n",
       "      <td>Poison</td>\n",
       "      <td>405</td>\n",
       "      <td>60</td>\n",
       "      <td>62</td>\n",
       "      <td>63</td>\n",
       "      <td>80</td>\n",
       "      <td>80</td>\n",
       "      <td>60</td>\n",
       "      <td>1</td>\n",
       "      <td>False</td>\n",
       "    </tr>\n",
       "    <tr>\n",
       "      <th>2</th>\n",
       "      <td>3</td>\n",
       "      <td>Venusaur</td>\n",
       "      <td>Grass</td>\n",
       "      <td>Poison</td>\n",
       "      <td>525</td>\n",
       "      <td>80</td>\n",
       "      <td>82</td>\n",
       "      <td>83</td>\n",
       "      <td>100</td>\n",
       "      <td>100</td>\n",
       "      <td>80</td>\n",
       "      <td>1</td>\n",
       "      <td>False</td>\n",
       "    </tr>\n",
       "    <tr>\n",
       "      <th>3</th>\n",
       "      <td>3</td>\n",
       "      <td>VenusaurMega Venusaur</td>\n",
       "      <td>Grass</td>\n",
       "      <td>Poison</td>\n",
       "      <td>625</td>\n",
       "      <td>80</td>\n",
       "      <td>100</td>\n",
       "      <td>123</td>\n",
       "      <td>122</td>\n",
       "      <td>120</td>\n",
       "      <td>80</td>\n",
       "      <td>1</td>\n",
       "      <td>False</td>\n",
       "    </tr>\n",
       "    <tr>\n",
       "      <th>4</th>\n",
       "      <td>4</td>\n",
       "      <td>Charmander</td>\n",
       "      <td>Fire</td>\n",
       "      <td>NaN</td>\n",
       "      <td>309</td>\n",
       "      <td>39</td>\n",
       "      <td>52</td>\n",
       "      <td>43</td>\n",
       "      <td>60</td>\n",
       "      <td>50</td>\n",
       "      <td>65</td>\n",
       "      <td>1</td>\n",
       "      <td>False</td>\n",
       "    </tr>\n",
       "  </tbody>\n",
       "</table>\n",
       "</div>"
      ],
      "text/plain": [
       "   #                   Name Type 1  Type 2  Total  HP  Attack  Defense  \\\n",
       "0  1              Bulbasaur  Grass  Poison    318  45      49       49   \n",
       "1  2                Ivysaur  Grass  Poison    405  60      62       63   \n",
       "2  3               Venusaur  Grass  Poison    525  80      82       83   \n",
       "3  3  VenusaurMega Venusaur  Grass  Poison    625  80     100      123   \n",
       "4  4             Charmander   Fire     NaN    309  39      52       43   \n",
       "\n",
       "   Sp. Atk  Sp. Def  Speed  Generation  Legendary  \n",
       "0       65       65     45           1      False  \n",
       "1       80       80     60           1      False  \n",
       "2      100      100     80           1      False  \n",
       "3      122      120     80           1      False  \n",
       "4       60       50     65           1      False  "
      ]
     },
     "execution_count": 57,
     "metadata": {},
     "output_type": "execute_result"
    }
   ],
   "source": [
    "df=pd.read_csv(\"Pokemon.csv\")\n",
    "df.head()"
   ]
  },
  {
   "cell_type": "code",
   "execution_count": 58,
   "metadata": {},
   "outputs": [],
   "source": [
    "labels=np.array(['HP', 'Attack', 'Defense', 'Sp. Atk', 'Sp. Def', 'Speed'])\n",
    "stats=df.loc[386,labels].values"
   ]
  },
  {
   "cell_type": "code",
   "execution_count": 59,
   "metadata": {},
   "outputs": [
    {
     "data": {
      "text/plain": [
       "array(['HP', 'Attack', 'Defense', 'Sp. Atk', 'Sp. Def', 'Speed'],\n",
       "      dtype='<U7')"
      ]
     },
     "execution_count": 59,
     "metadata": {},
     "output_type": "execute_result"
    }
   ],
   "source": [
    "labels"
   ]
  },
  {
   "cell_type": "code",
   "execution_count": 87,
   "metadata": {},
   "outputs": [
    {
     "data": {
      "text/plain": [
       "[0.0, 1.5707963267948966, 3.141592653589793, 4.71238898038469, 0.0]"
      ]
     },
     "execution_count": 87,
     "metadata": {},
     "output_type": "execute_result"
    }
   ],
   "source": [
    "angles = [n / float(4) * 2 * np.pi for n in range(4)]\n",
    "angles += angles[:1]\n",
    "angles"
   ]
  },
  {
   "cell_type": "code",
   "execution_count": 88,
   "metadata": {},
   "outputs": [],
   "source": [
    "#angles=np.linspace(0, 2*np.pi, len(labels), endpoint=False)\n",
    "# close the plot\n",
    "stats=np.concatenate((stats,[stats[0]]))\n",
    "angles=np.concatenate((angles,[angles[0]]))"
   ]
  },
  {
   "cell_type": "code",
   "execution_count": 89,
   "metadata": {},
   "outputs": [
    {
     "data": {
      "text/plain": [
       "array([64, 115, 65, 83, 63, 65, 64, 64], dtype=object)"
      ]
     },
     "execution_count": 89,
     "metadata": {},
     "output_type": "execute_result"
    }
   ],
   "source": [
    "stats"
   ]
  },
  {
   "cell_type": "code",
   "execution_count": 90,
   "metadata": {},
   "outputs": [
    {
     "ename": "ValueError",
     "evalue": "x and y must have same first dimension, but have shapes (6,) and (8,)",
     "output_type": "error",
     "traceback": [
      "\u001b[0;31m---------------------------------------------------------------------------\u001b[0m",
      "\u001b[0;31mValueError\u001b[0m                                Traceback (most recent call last)",
      "\u001b[0;32m<ipython-input-90-3b41cbf6122f>\u001b[0m in \u001b[0;36m<module>\u001b[0;34m\u001b[0m\n\u001b[1;32m      1\u001b[0m \u001b[0mfig\u001b[0m\u001b[0;34m=\u001b[0m\u001b[0mplt\u001b[0m\u001b[0;34m.\u001b[0m\u001b[0mfigure\u001b[0m\u001b[0;34m(\u001b[0m\u001b[0;34m)\u001b[0m\u001b[0;34m\u001b[0m\u001b[0;34m\u001b[0m\u001b[0m\n\u001b[1;32m      2\u001b[0m \u001b[0max\u001b[0m \u001b[0;34m=\u001b[0m \u001b[0mfig\u001b[0m\u001b[0;34m.\u001b[0m\u001b[0madd_subplot\u001b[0m\u001b[0;34m(\u001b[0m\u001b[0;36m111\u001b[0m\u001b[0;34m,\u001b[0m \u001b[0mpolar\u001b[0m\u001b[0;34m=\u001b[0m\u001b[0;32mTrue\u001b[0m\u001b[0;34m)\u001b[0m\u001b[0;34m\u001b[0m\u001b[0;34m\u001b[0m\u001b[0m\n\u001b[0;32m----> 3\u001b[0;31m \u001b[0max\u001b[0m\u001b[0;34m.\u001b[0m\u001b[0mplot\u001b[0m\u001b[0;34m(\u001b[0m\u001b[0mangles\u001b[0m\u001b[0;34m,\u001b[0m \u001b[0mstats\u001b[0m\u001b[0;34m,\u001b[0m \u001b[0;34m'o-'\u001b[0m\u001b[0;34m,\u001b[0m \u001b[0mlinewidth\u001b[0m\u001b[0;34m=\u001b[0m\u001b[0;36m2\u001b[0m\u001b[0;34m)\u001b[0m\u001b[0;34m\u001b[0m\u001b[0;34m\u001b[0m\u001b[0m\n\u001b[0m\u001b[1;32m      4\u001b[0m \u001b[0max\u001b[0m\u001b[0;34m.\u001b[0m\u001b[0mfill\u001b[0m\u001b[0;34m(\u001b[0m\u001b[0mangles\u001b[0m\u001b[0;34m,\u001b[0m \u001b[0mstats\u001b[0m\u001b[0;34m,\u001b[0m \u001b[0malpha\u001b[0m\u001b[0;34m=\u001b[0m\u001b[0;36m0.25\u001b[0m\u001b[0;34m)\u001b[0m\u001b[0;34m\u001b[0m\u001b[0;34m\u001b[0m\u001b[0m\n\u001b[1;32m      5\u001b[0m \u001b[0max\u001b[0m\u001b[0;34m.\u001b[0m\u001b[0mset_thetagrids\u001b[0m\u001b[0;34m(\u001b[0m\u001b[0mangles\u001b[0m \u001b[0;34m*\u001b[0m \u001b[0;36m180\u001b[0m\u001b[0;34m/\u001b[0m\u001b[0mnp\u001b[0m\u001b[0;34m.\u001b[0m\u001b[0mpi\u001b[0m\u001b[0;34m,\u001b[0m \u001b[0mlabels\u001b[0m\u001b[0;34m)\u001b[0m\u001b[0;34m\u001b[0m\u001b[0;34m\u001b[0m\u001b[0m\n",
      "\u001b[0;32m~/miniconda3/envs/nlp_aws/lib/python3.7/site-packages/matplotlib/axes/_axes.py\u001b[0m in \u001b[0;36mplot\u001b[0;34m(self, scalex, scaley, data, *args, **kwargs)\u001b[0m\n\u001b[1;32m   1664\u001b[0m         \"\"\"\n\u001b[1;32m   1665\u001b[0m         \u001b[0mkwargs\u001b[0m \u001b[0;34m=\u001b[0m \u001b[0mcbook\u001b[0m\u001b[0;34m.\u001b[0m\u001b[0mnormalize_kwargs\u001b[0m\u001b[0;34m(\u001b[0m\u001b[0mkwargs\u001b[0m\u001b[0;34m,\u001b[0m \u001b[0mmlines\u001b[0m\u001b[0;34m.\u001b[0m\u001b[0mLine2D\u001b[0m\u001b[0;34m.\u001b[0m\u001b[0m_alias_map\u001b[0m\u001b[0;34m)\u001b[0m\u001b[0;34m\u001b[0m\u001b[0;34m\u001b[0m\u001b[0m\n\u001b[0;32m-> 1666\u001b[0;31m         \u001b[0mlines\u001b[0m \u001b[0;34m=\u001b[0m \u001b[0;34m[\u001b[0m\u001b[0;34m*\u001b[0m\u001b[0mself\u001b[0m\u001b[0;34m.\u001b[0m\u001b[0m_get_lines\u001b[0m\u001b[0;34m(\u001b[0m\u001b[0;34m*\u001b[0m\u001b[0margs\u001b[0m\u001b[0;34m,\u001b[0m \u001b[0mdata\u001b[0m\u001b[0;34m=\u001b[0m\u001b[0mdata\u001b[0m\u001b[0;34m,\u001b[0m \u001b[0;34m**\u001b[0m\u001b[0mkwargs\u001b[0m\u001b[0;34m)\u001b[0m\u001b[0;34m]\u001b[0m\u001b[0;34m\u001b[0m\u001b[0;34m\u001b[0m\u001b[0m\n\u001b[0m\u001b[1;32m   1667\u001b[0m         \u001b[0;32mfor\u001b[0m \u001b[0mline\u001b[0m \u001b[0;32min\u001b[0m \u001b[0mlines\u001b[0m\u001b[0;34m:\u001b[0m\u001b[0;34m\u001b[0m\u001b[0;34m\u001b[0m\u001b[0m\n\u001b[1;32m   1668\u001b[0m             \u001b[0mself\u001b[0m\u001b[0;34m.\u001b[0m\u001b[0madd_line\u001b[0m\u001b[0;34m(\u001b[0m\u001b[0mline\u001b[0m\u001b[0;34m)\u001b[0m\u001b[0;34m\u001b[0m\u001b[0;34m\u001b[0m\u001b[0m\n",
      "\u001b[0;32m~/miniconda3/envs/nlp_aws/lib/python3.7/site-packages/matplotlib/axes/_base.py\u001b[0m in \u001b[0;36m__call__\u001b[0;34m(self, *args, **kwargs)\u001b[0m\n\u001b[1;32m    223\u001b[0m                 \u001b[0mthis\u001b[0m \u001b[0;34m+=\u001b[0m \u001b[0margs\u001b[0m\u001b[0;34m[\u001b[0m\u001b[0;36m0\u001b[0m\u001b[0;34m]\u001b[0m\u001b[0;34m,\u001b[0m\u001b[0;34m\u001b[0m\u001b[0;34m\u001b[0m\u001b[0m\n\u001b[1;32m    224\u001b[0m                 \u001b[0margs\u001b[0m \u001b[0;34m=\u001b[0m \u001b[0margs\u001b[0m\u001b[0;34m[\u001b[0m\u001b[0;36m1\u001b[0m\u001b[0;34m:\u001b[0m\u001b[0;34m]\u001b[0m\u001b[0;34m\u001b[0m\u001b[0;34m\u001b[0m\u001b[0m\n\u001b[0;32m--> 225\u001b[0;31m             \u001b[0;32myield\u001b[0m \u001b[0;32mfrom\u001b[0m \u001b[0mself\u001b[0m\u001b[0;34m.\u001b[0m\u001b[0m_plot_args\u001b[0m\u001b[0;34m(\u001b[0m\u001b[0mthis\u001b[0m\u001b[0;34m,\u001b[0m \u001b[0mkwargs\u001b[0m\u001b[0;34m)\u001b[0m\u001b[0;34m\u001b[0m\u001b[0;34m\u001b[0m\u001b[0m\n\u001b[0m\u001b[1;32m    226\u001b[0m \u001b[0;34m\u001b[0m\u001b[0m\n\u001b[1;32m    227\u001b[0m     \u001b[0;32mdef\u001b[0m \u001b[0mget_next_color\u001b[0m\u001b[0;34m(\u001b[0m\u001b[0mself\u001b[0m\u001b[0;34m)\u001b[0m\u001b[0;34m:\u001b[0m\u001b[0;34m\u001b[0m\u001b[0;34m\u001b[0m\u001b[0m\n",
      "\u001b[0;32m~/miniconda3/envs/nlp_aws/lib/python3.7/site-packages/matplotlib/axes/_base.py\u001b[0m in \u001b[0;36m_plot_args\u001b[0;34m(self, tup, kwargs)\u001b[0m\n\u001b[1;32m    389\u001b[0m             \u001b[0mx\u001b[0m\u001b[0;34m,\u001b[0m \u001b[0my\u001b[0m \u001b[0;34m=\u001b[0m \u001b[0mindex_of\u001b[0m\u001b[0;34m(\u001b[0m\u001b[0mtup\u001b[0m\u001b[0;34m[\u001b[0m\u001b[0;34m-\u001b[0m\u001b[0;36m1\u001b[0m\u001b[0;34m]\u001b[0m\u001b[0;34m)\u001b[0m\u001b[0;34m\u001b[0m\u001b[0;34m\u001b[0m\u001b[0m\n\u001b[1;32m    390\u001b[0m \u001b[0;34m\u001b[0m\u001b[0m\n\u001b[0;32m--> 391\u001b[0;31m         \u001b[0mx\u001b[0m\u001b[0;34m,\u001b[0m \u001b[0my\u001b[0m \u001b[0;34m=\u001b[0m \u001b[0mself\u001b[0m\u001b[0;34m.\u001b[0m\u001b[0m_xy_from_xy\u001b[0m\u001b[0;34m(\u001b[0m\u001b[0mx\u001b[0m\u001b[0;34m,\u001b[0m \u001b[0my\u001b[0m\u001b[0;34m)\u001b[0m\u001b[0;34m\u001b[0m\u001b[0;34m\u001b[0m\u001b[0m\n\u001b[0m\u001b[1;32m    392\u001b[0m \u001b[0;34m\u001b[0m\u001b[0m\n\u001b[1;32m    393\u001b[0m         \u001b[0;32mif\u001b[0m \u001b[0mself\u001b[0m\u001b[0;34m.\u001b[0m\u001b[0mcommand\u001b[0m \u001b[0;34m==\u001b[0m \u001b[0;34m'plot'\u001b[0m\u001b[0;34m:\u001b[0m\u001b[0;34m\u001b[0m\u001b[0;34m\u001b[0m\u001b[0m\n",
      "\u001b[0;32m~/miniconda3/envs/nlp_aws/lib/python3.7/site-packages/matplotlib/axes/_base.py\u001b[0m in \u001b[0;36m_xy_from_xy\u001b[0;34m(self, x, y)\u001b[0m\n\u001b[1;32m    268\u001b[0m         \u001b[0;32mif\u001b[0m \u001b[0mx\u001b[0m\u001b[0;34m.\u001b[0m\u001b[0mshape\u001b[0m\u001b[0;34m[\u001b[0m\u001b[0;36m0\u001b[0m\u001b[0;34m]\u001b[0m \u001b[0;34m!=\u001b[0m \u001b[0my\u001b[0m\u001b[0;34m.\u001b[0m\u001b[0mshape\u001b[0m\u001b[0;34m[\u001b[0m\u001b[0;36m0\u001b[0m\u001b[0;34m]\u001b[0m\u001b[0;34m:\u001b[0m\u001b[0;34m\u001b[0m\u001b[0;34m\u001b[0m\u001b[0m\n\u001b[1;32m    269\u001b[0m             raise ValueError(\"x and y must have same first dimension, but \"\n\u001b[0;32m--> 270\u001b[0;31m                              \"have shapes {} and {}\".format(x.shape, y.shape))\n\u001b[0m\u001b[1;32m    271\u001b[0m         \u001b[0;32mif\u001b[0m \u001b[0mx\u001b[0m\u001b[0;34m.\u001b[0m\u001b[0mndim\u001b[0m \u001b[0;34m>\u001b[0m \u001b[0;36m2\u001b[0m \u001b[0;32mor\u001b[0m \u001b[0my\u001b[0m\u001b[0;34m.\u001b[0m\u001b[0mndim\u001b[0m \u001b[0;34m>\u001b[0m \u001b[0;36m2\u001b[0m\u001b[0;34m:\u001b[0m\u001b[0;34m\u001b[0m\u001b[0;34m\u001b[0m\u001b[0m\n\u001b[1;32m    272\u001b[0m             raise ValueError(\"x and y can be no greater than 2-D, but have \"\n",
      "\u001b[0;31mValueError\u001b[0m: x and y must have same first dimension, but have shapes (6,) and (8,)"
     ]
    },
    {
     "data": {
      "image/png": "[encoded data removed]",
      "text/plain": [
       "<Figure size 432x288 with 1 Axes>"
      ]
     },
     "metadata": {
      "needs_background": "light"
     },
     "output_type": "display_data"
    }
   ],
   "source": [
    "fig=plt.figure()\n",
    "ax = fig.add_subplot(111, polar=True)\n",
    "ax.plot(angles, stats, 'o-', linewidth=2)\n",
    "ax.fill(angles, stats, alpha=0.25)\n",
    "ax.set_thetagrids(angles * 180/np.pi, labels)\n",
    "ax.set_title([df.loc[386,\"Name\"]])\n",
    "ax.grid(True)"
   ]
  },
  {
   "cell_type": "code",
   "execution_count": 70,
   "metadata": {},
   "outputs": [
    {
     "data": {
      "text/html": [
       "<div>\n",
       "<style scoped>\n",
       "    .dataframe tbody tr th:only-of-type {\n",
       "        vertical-align: middle;\n",
       "    }\n",
       "\n",
       "    .dataframe tbody tr th {\n",
       "        vertical-align: top;\n",
       "    }\n",
       "\n",
       "    .dataframe thead th {\n",
       "        text-align: right;\n",
       "    }\n",
       "</style>\n",
       "<table border=\"1\" class=\"dataframe\">\n",
       "  <thead>\n",
       "    <tr style=\"text-align: right;\">\n",
       "      <th></th>\n",
       "      <th>churchill</th>\n",
       "      <th>reagan</th>\n",
       "      <th>luther_king</th>\n",
       "      <th>macarthur</th>\n",
       "      <th>kennedy</th>\n",
       "    </tr>\n",
       "  </thead>\n",
       "  <tbody>\n",
       "    <tr>\n",
       "      <th>Positive</th>\n",
       "      <td>0.28</td>\n",
       "      <td>0.16</td>\n",
       "      <td>0.34</td>\n",
       "      <td>0.25</td>\n",
       "      <td>0.36</td>\n",
       "    </tr>\n",
       "    <tr>\n",
       "      <th>Neutral</th>\n",
       "      <td>0.52</td>\n",
       "      <td>0.81</td>\n",
       "      <td>0.59</td>\n",
       "      <td>0.64</td>\n",
       "      <td>0.58</td>\n",
       "    </tr>\n",
       "    <tr>\n",
       "      <th>Negative</th>\n",
       "      <td>0.06</td>\n",
       "      <td>0.02</td>\n",
       "      <td>0.01</td>\n",
       "      <td>0.02</td>\n",
       "      <td>0.01</td>\n",
       "    </tr>\n",
       "    <tr>\n",
       "      <th>Mixed</th>\n",
       "      <td>0.13</td>\n",
       "      <td>0.02</td>\n",
       "      <td>0.06</td>\n",
       "      <td>0.08</td>\n",
       "      <td>0.05</td>\n",
       "    </tr>\n",
       "  </tbody>\n",
       "</table>\n",
       "</div>"
      ],
      "text/plain": [
       "         churchill reagan luther_king macarthur kennedy\n",
       "Positive      0.28   0.16        0.34      0.25    0.36\n",
       "Neutral       0.52   0.81        0.59      0.64    0.58\n",
       "Negative      0.06   0.02        0.01      0.02    0.01\n",
       "Mixed         0.13   0.02        0.06      0.08    0.05"
      ]
     },
     "execution_count": 70,
     "metadata": {},
     "output_type": "execute_result"
    }
   ],
   "source": [
    "df_t"
   ]
  },
  {
   "cell_type": "code",
   "execution_count": 92,
   "metadata": {},
   "outputs": [
    {
     "data": {
      "text/plain": [
       "array([0.        , 1.57079633, 3.14159265, 4.71238898, 0.        ,\n",
       "       0.        ])"
      ]
     },
     "execution_count": 92,
     "metadata": {},
     "output_type": "execute_result"
    }
   ],
   "source": [
    "#angles=np.linspace(0, 2*np.pi, df_t.shape[0], endpoint=False)\n",
    "angles"
   ]
  },
  {
   "cell_type": "code",
   "execution_count": 81,
   "metadata": {},
   "outputs": [
    {
     "data": {
      "text/plain": [
       "array(['HP', 'Attack', 'Defense', 'Sp. Atk', 'Sp. Def', 'Speed'],\n",
       "      dtype='<U7')"
      ]
     },
     "execution_count": 81,
     "metadata": {},
     "output_type": "execute_result"
    }
   ],
   "source": [
    "labels"
   ]
  },
  {
   "cell_type": "code",
   "execution_count": 91,
   "metadata": {},
   "outputs": [
    {
     "data": {
      "image/png": "[encoded data removed]",
      "text/plain": [
       "<Figure size 432x288 with 1 Axes>"
      ]
     },
     "metadata": {
      "needs_background": "light"
     },
     "output_type": "display_data"
    }
   ],
   "source": [
    "fig=plt.figure()\n",
    "ax = fig.add_subplot(111, polar=True)\n",
    "ax.plot(np.array(df_t.index), np.array(df_t.churchill), 'o-', linewidth=2)\n",
    "ax.fill(np.array(df_t.index), np.array(df_t.churchill), alpha=0.25)\n",
    "ax.set_thetagrids(angles * 180/np.pi, np.array(df_t.index))\n",
    "#ax.set_title([df.loc[386,\"Name\"]])\n",
    "ax.grid(True)"
   ]
  },
  {
   "cell_type": "code",
   "execution_count": 78,
   "metadata": {},
   "outputs": [
    {
     "data": {
      "text/plain": [
       "array(['Positive', 'Neutral', 'Negative', 'Mixed'], dtype=object)"
      ]
     },
     "execution_count": 78,
     "metadata": {},
     "output_type": "execute_result"
    }
   ],
   "source": [
    "np.array(df_t.index)"
   ]
  },
  {
   "cell_type": "markdown",
   "metadata": {},
   "source": [
    "References\n",
    "* Audio recognition tutorial with Python https://realpython.com/python-speech-recognition/\n",
    "* Tutorial on how to download Youtube using Python https://itsfoss.com/download-youtube-linux/\n",
    "* Youtube-DL GitHub Project https://github.com/ytdl-org/youtube-dl/blob/master/README.md#readme\n",
    "* Article on the Greatest speeches in history https://www.artofmanliness.com/articles/the-35-greatest-speeches-in-history/\n",
    "* Tutorial for configuring boto3 https://boto3.amazonaws.com/v1/documentation/api/latest/guide/quickstart.html#using-boto-3\n",
    "* Tutorial on Json with Python https://realpython.com/python-json/\n",
    "* Datacamp Course \"Natural Language Processing Fundamentals in Python\" https://www.datacamp.com/courses/natural-language-processing-fundamentals-in-python\n",
    "* Datacamp Course \"Adavanced NLP with spaCy\" https://www.datacamp.com/courses/advanced-nlp-with-spacy"
   ]
  },
  {
   "cell_type": "code",
   "execution_count": 76,
   "metadata": {},
   "outputs": [
    {
     "data": {
      "text/plain": [
       "array([0.28, 0.52, 0.06, 0.13], dtype=object)"
      ]
     },
     "execution_count": 76,
     "metadata": {},
     "output_type": "execute_result"
    }
   ],
   "source": [
    "np.array(df_t['churchill'])"
   ]
  },
  {
   "cell_type": "code",
   "execution_count": null,
   "metadata": {},
   "outputs": [],
   "source": [
    "d"
   ]
  }
 ],
 "metadata": {
  "kernelspec": {
   "display_name": "nlp_aws",
   "language": "python",
   "name": "nlp_aws"
  },
  "language_info": {
   "codemirror_mode": {
    "name": "ipython",
    "version": 3
   },
   "file_extension": ".py",
   "mimetype": "text/x-python",
   "name": "python",
   "nbconvert_exporter": "python",
   "pygments_lexer": "ipython3",
   "version": "3.7.3"
  }
 },
 "nbformat": 4,
 "nbformat_minor": 4
}
